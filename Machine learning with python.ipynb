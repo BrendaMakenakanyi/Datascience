{
 "cells": [
  {
   "cell_type": "code",
   "execution_count": 4,
   "metadata": {},
   "outputs": [
    {
     "name": "stdout",
     "output_type": "stream",
     "text": [
      "mean: 23.0\n",
      "median: 22.0\n",
      "50th percentile(median): 22.0\n",
      "25th percentile: 18.0\n",
      "75th percentile: 29.0\n",
      "standard deviation: 6.342099196813483\n",
      "variance: 40.22222222222222\n"
     ]
    }
   ],
   "source": [
    "import numpy as np\n",
    "data=[15,16,18,19,22,24,29,30,34]\n",
    "print(\"mean:\", np.mean(data))\n",
    "print(\"median:\", np.median(data))\n",
    "print(\"50th percentile(median):\", np.percentile(data,50))\n",
    "print(\"25th percentile:\", np.percentile(data,25))\n",
    "print(\"75th percentile:\", np.percentile(data,75))\n",
    "print(\"standard deviation:\", np.std(data))\n",
    "print(\"variance:\", np.var(data))"
   ]
  },
  {
   "cell_type": "code",
   "execution_count": 12,
   "metadata": {},
   "outputs": [],
   "source": [
    "import pandas as pd\n",
    "df=pd.read_csv(\"C:\\\\Users\\\\Makena\\\\Downloads\\\\cereals.csv\")"
   ]
  },
  {
   "cell_type": "code",
   "execution_count": 14,
   "metadata": {},
   "outputs": [
    {
     "data": {
      "text/html": [
       "<div>\n",
       "<style scoped>\n",
       "    .dataframe tbody tr th:only-of-type {\n",
       "        vertical-align: middle;\n",
       "    }\n",
       "\n",
       "    .dataframe tbody tr th {\n",
       "        vertical-align: top;\n",
       "    }\n",
       "\n",
       "    .dataframe thead th {\n",
       "        text-align: right;\n",
       "    }\n",
       "</style>\n",
       "<table border=\"1\" class=\"dataframe\">\n",
       "  <thead>\n",
       "    <tr style=\"text-align: right;\">\n",
       "      <th></th>\n",
       "      <th>calories</th>\n",
       "      <th>protein</th>\n",
       "      <th>fat</th>\n",
       "      <th>sodium</th>\n",
       "      <th>fiber</th>\n",
       "      <th>rating</th>\n",
       "    </tr>\n",
       "  </thead>\n",
       "  <tbody>\n",
       "    <tr>\n",
       "      <td>0</td>\n",
       "      <td>70</td>\n",
       "      <td>4</td>\n",
       "      <td>1</td>\n",
       "      <td>130</td>\n",
       "      <td>10.0</td>\n",
       "      <td>68.402973</td>\n",
       "    </tr>\n",
       "    <tr>\n",
       "      <td>1</td>\n",
       "      <td>120</td>\n",
       "      <td>3</td>\n",
       "      <td>5</td>\n",
       "      <td>15</td>\n",
       "      <td>2.0</td>\n",
       "      <td>33.983679</td>\n",
       "    </tr>\n",
       "    <tr>\n",
       "      <td>2</td>\n",
       "      <td>70</td>\n",
       "      <td>4</td>\n",
       "      <td>1</td>\n",
       "      <td>260</td>\n",
       "      <td>9.0</td>\n",
       "      <td>59.425505</td>\n",
       "    </tr>\n",
       "    <tr>\n",
       "      <td>3</td>\n",
       "      <td>50</td>\n",
       "      <td>4</td>\n",
       "      <td>0</td>\n",
       "      <td>140</td>\n",
       "      <td>14.0</td>\n",
       "      <td>93.704912</td>\n",
       "    </tr>\n",
       "    <tr>\n",
       "      <td>4</td>\n",
       "      <td>110</td>\n",
       "      <td>2</td>\n",
       "      <td>2</td>\n",
       "      <td>180</td>\n",
       "      <td>1.5</td>\n",
       "      <td>29.509541</td>\n",
       "    </tr>\n",
       "    <tr>\n",
       "      <td>...</td>\n",
       "      <td>...</td>\n",
       "      <td>...</td>\n",
       "      <td>...</td>\n",
       "      <td>...</td>\n",
       "      <td>...</td>\n",
       "      <td>...</td>\n",
       "    </tr>\n",
       "    <tr>\n",
       "      <td>70</td>\n",
       "      <td>110</td>\n",
       "      <td>2</td>\n",
       "      <td>1</td>\n",
       "      <td>250</td>\n",
       "      <td>0.0</td>\n",
       "      <td>39.106174</td>\n",
       "    </tr>\n",
       "    <tr>\n",
       "      <td>71</td>\n",
       "      <td>110</td>\n",
       "      <td>1</td>\n",
       "      <td>1</td>\n",
       "      <td>140</td>\n",
       "      <td>0.0</td>\n",
       "      <td>27.753301</td>\n",
       "    </tr>\n",
       "    <tr>\n",
       "      <td>72</td>\n",
       "      <td>100</td>\n",
       "      <td>3</td>\n",
       "      <td>1</td>\n",
       "      <td>230</td>\n",
       "      <td>3.0</td>\n",
       "      <td>49.787445</td>\n",
       "    </tr>\n",
       "    <tr>\n",
       "      <td>73</td>\n",
       "      <td>100</td>\n",
       "      <td>3</td>\n",
       "      <td>1</td>\n",
       "      <td>200</td>\n",
       "      <td>3.0</td>\n",
       "      <td>51.592193</td>\n",
       "    </tr>\n",
       "    <tr>\n",
       "      <td>74</td>\n",
       "      <td>110</td>\n",
       "      <td>2</td>\n",
       "      <td>1</td>\n",
       "      <td>200</td>\n",
       "      <td>1.0</td>\n",
       "      <td>36.187559</td>\n",
       "    </tr>\n",
       "  </tbody>\n",
       "</table>\n",
       "<p>75 rows × 6 columns</p>\n",
       "</div>"
      ],
      "text/plain": [
       "    calories  protein  fat  sodium  fiber     rating\n",
       "0         70        4    1     130   10.0  68.402973\n",
       "1        120        3    5      15    2.0  33.983679\n",
       "2         70        4    1     260    9.0  59.425505\n",
       "3         50        4    0     140   14.0  93.704912\n",
       "4        110        2    2     180    1.5  29.509541\n",
       "..       ...      ...  ...     ...    ...        ...\n",
       "70       110        2    1     250    0.0  39.106174\n",
       "71       110        1    1     140    0.0  27.753301\n",
       "72       100        3    1     230    3.0  49.787445\n",
       "73       100        3    1     200    3.0  51.592193\n",
       "74       110        2    1     200    1.0  36.187559\n",
       "\n",
       "[75 rows x 6 columns]"
      ]
     },
     "execution_count": 14,
     "metadata": {},
     "output_type": "execute_result"
    }
   ],
   "source": [
    "df"
   ]
  },
  {
   "cell_type": "code",
   "execution_count": 15,
   "metadata": {},
   "outputs": [
    {
     "data": {
      "text/html": [
       "<div>\n",
       "<style scoped>\n",
       "    .dataframe tbody tr th:only-of-type {\n",
       "        vertical-align: middle;\n",
       "    }\n",
       "\n",
       "    .dataframe tbody tr th {\n",
       "        vertical-align: top;\n",
       "    }\n",
       "\n",
       "    .dataframe thead th {\n",
       "        text-align: right;\n",
       "    }\n",
       "</style>\n",
       "<table border=\"1\" class=\"dataframe\">\n",
       "  <thead>\n",
       "    <tr style=\"text-align: right;\">\n",
       "      <th></th>\n",
       "      <th>calories</th>\n",
       "      <th>protein</th>\n",
       "      <th>fat</th>\n",
       "      <th>sodium</th>\n",
       "      <th>fiber</th>\n",
       "      <th>rating</th>\n",
       "    </tr>\n",
       "  </thead>\n",
       "  <tbody>\n",
       "    <tr>\n",
       "      <td>0</td>\n",
       "      <td>70</td>\n",
       "      <td>4</td>\n",
       "      <td>1</td>\n",
       "      <td>130</td>\n",
       "      <td>10.0</td>\n",
       "      <td>68.402973</td>\n",
       "    </tr>\n",
       "    <tr>\n",
       "      <td>1</td>\n",
       "      <td>120</td>\n",
       "      <td>3</td>\n",
       "      <td>5</td>\n",
       "      <td>15</td>\n",
       "      <td>2.0</td>\n",
       "      <td>33.983679</td>\n",
       "    </tr>\n",
       "    <tr>\n",
       "      <td>2</td>\n",
       "      <td>70</td>\n",
       "      <td>4</td>\n",
       "      <td>1</td>\n",
       "      <td>260</td>\n",
       "      <td>9.0</td>\n",
       "      <td>59.425505</td>\n",
       "    </tr>\n",
       "    <tr>\n",
       "      <td>3</td>\n",
       "      <td>50</td>\n",
       "      <td>4</td>\n",
       "      <td>0</td>\n",
       "      <td>140</td>\n",
       "      <td>14.0</td>\n",
       "      <td>93.704912</td>\n",
       "    </tr>\n",
       "    <tr>\n",
       "      <td>4</td>\n",
       "      <td>110</td>\n",
       "      <td>2</td>\n",
       "      <td>2</td>\n",
       "      <td>180</td>\n",
       "      <td>1.5</td>\n",
       "      <td>29.509541</td>\n",
       "    </tr>\n",
       "  </tbody>\n",
       "</table>\n",
       "</div>"
      ],
      "text/plain": [
       "   calories  protein  fat  sodium  fiber     rating\n",
       "0        70        4    1     130   10.0  68.402973\n",
       "1       120        3    5      15    2.0  33.983679\n",
       "2        70        4    1     260    9.0  59.425505\n",
       "3        50        4    0     140   14.0  93.704912\n",
       "4       110        2    2     180    1.5  29.509541"
      ]
     },
     "execution_count": 15,
     "metadata": {},
     "output_type": "execute_result"
    }
   ],
   "source": [
    "df.head() #prints the first five rows"
   ]
  },
  {
   "cell_type": "code",
   "execution_count": 16,
   "metadata": {},
   "outputs": [
    {
     "data": {
      "text/html": [
       "<div>\n",
       "<style scoped>\n",
       "    .dataframe tbody tr th:only-of-type {\n",
       "        vertical-align: middle;\n",
       "    }\n",
       "\n",
       "    .dataframe tbody tr th {\n",
       "        vertical-align: top;\n",
       "    }\n",
       "\n",
       "    .dataframe thead th {\n",
       "        text-align: right;\n",
       "    }\n",
       "</style>\n",
       "<table border=\"1\" class=\"dataframe\">\n",
       "  <thead>\n",
       "    <tr style=\"text-align: right;\">\n",
       "      <th></th>\n",
       "      <th>calories</th>\n",
       "      <th>protein</th>\n",
       "      <th>fat</th>\n",
       "      <th>sodium</th>\n",
       "      <th>fiber</th>\n",
       "      <th>rating</th>\n",
       "    </tr>\n",
       "  </thead>\n",
       "  <tbody>\n",
       "    <tr>\n",
       "      <td>0</td>\n",
       "      <td>70</td>\n",
       "      <td>4</td>\n",
       "      <td>1</td>\n",
       "      <td>130</td>\n",
       "      <td>10.0</td>\n",
       "      <td>68.402973</td>\n",
       "    </tr>\n",
       "    <tr>\n",
       "      <td>1</td>\n",
       "      <td>120</td>\n",
       "      <td>3</td>\n",
       "      <td>5</td>\n",
       "      <td>15</td>\n",
       "      <td>2.0</td>\n",
       "      <td>33.983679</td>\n",
       "    </tr>\n",
       "    <tr>\n",
       "      <td>2</td>\n",
       "      <td>70</td>\n",
       "      <td>4</td>\n",
       "      <td>1</td>\n",
       "      <td>260</td>\n",
       "      <td>9.0</td>\n",
       "      <td>59.425505</td>\n",
       "    </tr>\n",
       "    <tr>\n",
       "      <td>3</td>\n",
       "      <td>50</td>\n",
       "      <td>4</td>\n",
       "      <td>0</td>\n",
       "      <td>140</td>\n",
       "      <td>14.0</td>\n",
       "      <td>93.704912</td>\n",
       "    </tr>\n",
       "    <tr>\n",
       "      <td>4</td>\n",
       "      <td>110</td>\n",
       "      <td>2</td>\n",
       "      <td>2</td>\n",
       "      <td>180</td>\n",
       "      <td>1.5</td>\n",
       "      <td>29.509541</td>\n",
       "    </tr>\n",
       "    <tr>\n",
       "      <td>...</td>\n",
       "      <td>...</td>\n",
       "      <td>...</td>\n",
       "      <td>...</td>\n",
       "      <td>...</td>\n",
       "      <td>...</td>\n",
       "      <td>...</td>\n",
       "    </tr>\n",
       "    <tr>\n",
       "      <td>70</td>\n",
       "      <td>110</td>\n",
       "      <td>2</td>\n",
       "      <td>1</td>\n",
       "      <td>250</td>\n",
       "      <td>0.0</td>\n",
       "      <td>39.106174</td>\n",
       "    </tr>\n",
       "    <tr>\n",
       "      <td>71</td>\n",
       "      <td>110</td>\n",
       "      <td>1</td>\n",
       "      <td>1</td>\n",
       "      <td>140</td>\n",
       "      <td>0.0</td>\n",
       "      <td>27.753301</td>\n",
       "    </tr>\n",
       "    <tr>\n",
       "      <td>72</td>\n",
       "      <td>100</td>\n",
       "      <td>3</td>\n",
       "      <td>1</td>\n",
       "      <td>230</td>\n",
       "      <td>3.0</td>\n",
       "      <td>49.787445</td>\n",
       "    </tr>\n",
       "    <tr>\n",
       "      <td>73</td>\n",
       "      <td>100</td>\n",
       "      <td>3</td>\n",
       "      <td>1</td>\n",
       "      <td>200</td>\n",
       "      <td>3.0</td>\n",
       "      <td>51.592193</td>\n",
       "    </tr>\n",
       "    <tr>\n",
       "      <td>74</td>\n",
       "      <td>110</td>\n",
       "      <td>2</td>\n",
       "      <td>1</td>\n",
       "      <td>200</td>\n",
       "      <td>1.0</td>\n",
       "      <td>36.187559</td>\n",
       "    </tr>\n",
       "  </tbody>\n",
       "</table>\n",
       "<p>75 rows × 6 columns</p>\n",
       "</div>"
      ],
      "text/plain": [
       "    calories  protein  fat  sodium  fiber     rating\n",
       "0         70        4    1     130   10.0  68.402973\n",
       "1        120        3    5      15    2.0  33.983679\n",
       "2         70        4    1     260    9.0  59.425505\n",
       "3         50        4    0     140   14.0  93.704912\n",
       "4        110        2    2     180    1.5  29.509541\n",
       "..       ...      ...  ...     ...    ...        ...\n",
       "70       110        2    1     250    0.0  39.106174\n",
       "71       110        1    1     140    0.0  27.753301\n",
       "72       100        3    1     230    3.0  49.787445\n",
       "73       100        3    1     200    3.0  51.592193\n",
       "74       110        2    1     200    1.0  36.187559\n",
       "\n",
       "[75 rows x 6 columns]"
      ]
     },
     "execution_count": 16,
     "metadata": {},
     "output_type": "execute_result"
    }
   ],
   "source": [
    "df"
   ]
  },
  {
   "cell_type": "code",
   "execution_count": 17,
   "metadata": {},
   "outputs": [
    {
     "name": "stdout",
     "output_type": "stream",
     "text": [
      "         calories    protein        fat      sodium      fiber     rating\n",
      "count   75.000000  75.000000  75.000000   75.000000  75.000000  75.000000\n",
      "mean   106.933333   2.546667   1.013333  160.200000   2.182667  42.484542\n",
      "std     19.726052   1.106410   1.006645   84.319374   2.407723  13.972730\n",
      "min     50.000000   1.000000   0.000000    0.000000   0.000000  18.042851\n",
      "25%    100.000000   2.000000   0.000000  132.500000   0.500000  32.690838\n",
      "50%    110.000000   3.000000   1.000000  180.000000   2.000000  40.400208\n",
      "75%    110.000000   3.000000   1.500000  215.000000   3.000000  50.796695\n",
      "max    160.000000   6.000000   5.000000  320.000000  14.000000  93.704912\n"
     ]
    }
   ],
   "source": [
    "import pandas as pd\n",
    "pd.options.display.max_columns=6\n",
    "df=pd.read_csv(\"C:\\\\Users\\\\Makena\\\\Downloads\\\\cereals.csv\")\n",
    "print((df.describe()))"
   ]
  },
  {
   "cell_type": "code",
   "execution_count": 18,
   "metadata": {},
   "outputs": [
    {
     "name": "stdout",
     "output_type": "stream",
     "text": [
      "         calories    protein        fat      sodium      fiber     rating\n",
      "count   75.000000  75.000000  75.000000   75.000000  75.000000  75.000000\n",
      "mean   106.933333   2.546667   1.013333  160.200000   2.182667  42.484542\n",
      "std     19.726052   1.106410   1.006645   84.319374   2.407723  13.972730\n",
      "min     50.000000   1.000000   0.000000    0.000000   0.000000  18.042851\n",
      "25%    100.000000   2.000000   0.000000  132.500000   0.500000  32.690838\n",
      "50%    110.000000   3.000000   1.000000  180.000000   2.000000  40.400208\n",
      "75%    110.000000   3.000000   1.500000  215.000000   3.000000  50.796695\n",
      "max    160.000000   6.000000   5.000000  320.000000  14.000000  93.704912\n"
     ]
    }
   ],
   "source": [
    "import pandas as pd\n",
    "df=pd.read_csv(\"C:\\\\Users\\\\Makena\\\\Downloads\\\\cereals.csv\")\n",
    "print((df.describe()))"
   ]
  },
  {
   "cell_type": "code",
   "execution_count": 19,
   "metadata": {},
   "outputs": [
    {
     "data": {
      "text/plain": [
       "0     4\n",
       "1     3\n",
       "2     4\n",
       "3     4\n",
       "4     2\n",
       "     ..\n",
       "70    2\n",
       "71    1\n",
       "72    3\n",
       "73    3\n",
       "74    2\n",
       "Name: protein, Length: 75, dtype: int64"
      ]
     },
     "execution_count": 19,
     "metadata": {},
     "output_type": "execute_result"
    }
   ],
   "source": [
    "col=df[\"protein\"]\n",
    "col"
   ]
  },
  {
   "cell_type": "code",
   "execution_count": null,
   "metadata": {},
   "outputs": [],
   "source": [
    "a pandas series is  a single column from a pandas dataframe"
   ]
  },
  {
   "cell_type": "code",
   "execution_count": 22,
   "metadata": {},
   "outputs": [
    {
     "data": {
      "text/html": [
       "<div>\n",
       "<style scoped>\n",
       "    .dataframe tbody tr th:only-of-type {\n",
       "        vertical-align: middle;\n",
       "    }\n",
       "\n",
       "    .dataframe tbody tr th {\n",
       "        vertical-align: top;\n",
       "    }\n",
       "\n",
       "    .dataframe thead th {\n",
       "        text-align: right;\n",
       "    }\n",
       "</style>\n",
       "<table border=\"1\" class=\"dataframe\">\n",
       "  <thead>\n",
       "    <tr style=\"text-align: right;\">\n",
       "      <th></th>\n",
       "      <th>protein</th>\n",
       "      <th>fiber</th>\n",
       "      <th>rating</th>\n",
       "    </tr>\n",
       "  </thead>\n",
       "  <tbody>\n",
       "    <tr>\n",
       "      <td>0</td>\n",
       "      <td>4</td>\n",
       "      <td>10.0</td>\n",
       "      <td>68.402973</td>\n",
       "    </tr>\n",
       "    <tr>\n",
       "      <td>1</td>\n",
       "      <td>3</td>\n",
       "      <td>2.0</td>\n",
       "      <td>33.983679</td>\n",
       "    </tr>\n",
       "    <tr>\n",
       "      <td>2</td>\n",
       "      <td>4</td>\n",
       "      <td>9.0</td>\n",
       "      <td>59.425505</td>\n",
       "    </tr>\n",
       "    <tr>\n",
       "      <td>3</td>\n",
       "      <td>4</td>\n",
       "      <td>14.0</td>\n",
       "      <td>93.704912</td>\n",
       "    </tr>\n",
       "    <tr>\n",
       "      <td>4</td>\n",
       "      <td>2</td>\n",
       "      <td>1.5</td>\n",
       "      <td>29.509541</td>\n",
       "    </tr>\n",
       "    <tr>\n",
       "      <td>...</td>\n",
       "      <td>...</td>\n",
       "      <td>...</td>\n",
       "      <td>...</td>\n",
       "    </tr>\n",
       "    <tr>\n",
       "      <td>70</td>\n",
       "      <td>2</td>\n",
       "      <td>0.0</td>\n",
       "      <td>39.106174</td>\n",
       "    </tr>\n",
       "    <tr>\n",
       "      <td>71</td>\n",
       "      <td>1</td>\n",
       "      <td>0.0</td>\n",
       "      <td>27.753301</td>\n",
       "    </tr>\n",
       "    <tr>\n",
       "      <td>72</td>\n",
       "      <td>3</td>\n",
       "      <td>3.0</td>\n",
       "      <td>49.787445</td>\n",
       "    </tr>\n",
       "    <tr>\n",
       "      <td>73</td>\n",
       "      <td>3</td>\n",
       "      <td>3.0</td>\n",
       "      <td>51.592193</td>\n",
       "    </tr>\n",
       "    <tr>\n",
       "      <td>74</td>\n",
       "      <td>2</td>\n",
       "      <td>1.0</td>\n",
       "      <td>36.187559</td>\n",
       "    </tr>\n",
       "  </tbody>\n",
       "</table>\n",
       "<p>75 rows × 3 columns</p>\n",
       "</div>"
      ],
      "text/plain": [
       "    protein  fiber     rating\n",
       "0         4   10.0  68.402973\n",
       "1         3    2.0  33.983679\n",
       "2         4    9.0  59.425505\n",
       "3         4   14.0  93.704912\n",
       "4         2    1.5  29.509541\n",
       "..      ...    ...        ...\n",
       "70        2    0.0  39.106174\n",
       "71        1    0.0  27.753301\n",
       "72        3    3.0  49.787445\n",
       "73        3    3.0  51.592193\n",
       "74        2    1.0  36.187559\n",
       "\n",
       "[75 rows x 3 columns]"
      ]
     },
     "execution_count": 22,
     "metadata": {},
     "output_type": "execute_result"
    }
   ],
   "source": [
    "cols=df[[\"protein\",\"fiber\",\"rating\"]]\n",
    "cols"
   ]
  },
  {
   "cell_type": "code",
   "execution_count": 23,
   "metadata": {},
   "outputs": [],
   "source": [
    "df[1]=df[\"fat\"]==1 #we have created a new column to determine whether fat is 1"
   ]
  },
  {
   "cell_type": "code",
   "execution_count": 24,
   "metadata": {},
   "outputs": [
    {
     "data": {
      "text/html": [
       "<div>\n",
       "<style scoped>\n",
       "    .dataframe tbody tr th:only-of-type {\n",
       "        vertical-align: middle;\n",
       "    }\n",
       "\n",
       "    .dataframe tbody tr th {\n",
       "        vertical-align: top;\n",
       "    }\n",
       "\n",
       "    .dataframe thead th {\n",
       "        text-align: right;\n",
       "    }\n",
       "</style>\n",
       "<table border=\"1\" class=\"dataframe\">\n",
       "  <thead>\n",
       "    <tr style=\"text-align: right;\">\n",
       "      <th></th>\n",
       "      <th>calories</th>\n",
       "      <th>protein</th>\n",
       "      <th>fat</th>\n",
       "      <th>...</th>\n",
       "      <th>fiber</th>\n",
       "      <th>rating</th>\n",
       "      <th>1</th>\n",
       "    </tr>\n",
       "  </thead>\n",
       "  <tbody>\n",
       "    <tr>\n",
       "      <td>0</td>\n",
       "      <td>70</td>\n",
       "      <td>4</td>\n",
       "      <td>1</td>\n",
       "      <td>...</td>\n",
       "      <td>10.0</td>\n",
       "      <td>68.402973</td>\n",
       "      <td>True</td>\n",
       "    </tr>\n",
       "    <tr>\n",
       "      <td>1</td>\n",
       "      <td>120</td>\n",
       "      <td>3</td>\n",
       "      <td>5</td>\n",
       "      <td>...</td>\n",
       "      <td>2.0</td>\n",
       "      <td>33.983679</td>\n",
       "      <td>False</td>\n",
       "    </tr>\n",
       "    <tr>\n",
       "      <td>2</td>\n",
       "      <td>70</td>\n",
       "      <td>4</td>\n",
       "      <td>1</td>\n",
       "      <td>...</td>\n",
       "      <td>9.0</td>\n",
       "      <td>59.425505</td>\n",
       "      <td>True</td>\n",
       "    </tr>\n",
       "    <tr>\n",
       "      <td>3</td>\n",
       "      <td>50</td>\n",
       "      <td>4</td>\n",
       "      <td>0</td>\n",
       "      <td>...</td>\n",
       "      <td>14.0</td>\n",
       "      <td>93.704912</td>\n",
       "      <td>False</td>\n",
       "    </tr>\n",
       "    <tr>\n",
       "      <td>4</td>\n",
       "      <td>110</td>\n",
       "      <td>2</td>\n",
       "      <td>2</td>\n",
       "      <td>...</td>\n",
       "      <td>1.5</td>\n",
       "      <td>29.509541</td>\n",
       "      <td>False</td>\n",
       "    </tr>\n",
       "    <tr>\n",
       "      <td>...</td>\n",
       "      <td>...</td>\n",
       "      <td>...</td>\n",
       "      <td>...</td>\n",
       "      <td>...</td>\n",
       "      <td>...</td>\n",
       "      <td>...</td>\n",
       "      <td>...</td>\n",
       "    </tr>\n",
       "    <tr>\n",
       "      <td>70</td>\n",
       "      <td>110</td>\n",
       "      <td>2</td>\n",
       "      <td>1</td>\n",
       "      <td>...</td>\n",
       "      <td>0.0</td>\n",
       "      <td>39.106174</td>\n",
       "      <td>True</td>\n",
       "    </tr>\n",
       "    <tr>\n",
       "      <td>71</td>\n",
       "      <td>110</td>\n",
       "      <td>1</td>\n",
       "      <td>1</td>\n",
       "      <td>...</td>\n",
       "      <td>0.0</td>\n",
       "      <td>27.753301</td>\n",
       "      <td>True</td>\n",
       "    </tr>\n",
       "    <tr>\n",
       "      <td>72</td>\n",
       "      <td>100</td>\n",
       "      <td>3</td>\n",
       "      <td>1</td>\n",
       "      <td>...</td>\n",
       "      <td>3.0</td>\n",
       "      <td>49.787445</td>\n",
       "      <td>True</td>\n",
       "    </tr>\n",
       "    <tr>\n",
       "      <td>73</td>\n",
       "      <td>100</td>\n",
       "      <td>3</td>\n",
       "      <td>1</td>\n",
       "      <td>...</td>\n",
       "      <td>3.0</td>\n",
       "      <td>51.592193</td>\n",
       "      <td>True</td>\n",
       "    </tr>\n",
       "    <tr>\n",
       "      <td>74</td>\n",
       "      <td>110</td>\n",
       "      <td>2</td>\n",
       "      <td>1</td>\n",
       "      <td>...</td>\n",
       "      <td>1.0</td>\n",
       "      <td>36.187559</td>\n",
       "      <td>True</td>\n",
       "    </tr>\n",
       "  </tbody>\n",
       "</table>\n",
       "<p>75 rows × 7 columns</p>\n",
       "</div>"
      ],
      "text/plain": [
       "    calories  protein  fat  ...  fiber     rating      1\n",
       "0         70        4    1  ...   10.0  68.402973   True\n",
       "1        120        3    5  ...    2.0  33.983679  False\n",
       "2         70        4    1  ...    9.0  59.425505   True\n",
       "3         50        4    0  ...   14.0  93.704912  False\n",
       "4        110        2    2  ...    1.5  29.509541  False\n",
       "..       ...      ...  ...  ...    ...        ...    ...\n",
       "70       110        2    1  ...    0.0  39.106174   True\n",
       "71       110        1    1  ...    0.0  27.753301   True\n",
       "72       100        3    1  ...    3.0  49.787445   True\n",
       "73       100        3    1  ...    3.0  51.592193   True\n",
       "74       110        2    1  ...    1.0  36.187559   True\n",
       "\n",
       "[75 rows x 7 columns]"
      ]
     },
     "execution_count": 24,
     "metadata": {},
     "output_type": "execute_result"
    }
   ],
   "source": [
    "df"
   ]
  },
  {
   "cell_type": "code",
   "execution_count": 25,
   "metadata": {},
   "outputs": [
    {
     "data": {
      "text/plain": [
       "array([4, 3, 4, 4, 2, 2, 3, 2, 3, 1, 6, 1, 3, 1, 2, 2, 1, 1, 3, 2, 2, 2,\n",
       "       2, 1, 3, 3, 3, 1, 2, 1, 3, 3, 3, 1, 3, 1, 2, 3, 2, 4, 2, 4, 4, 4,\n",
       "       3, 2, 2, 3, 3, 3, 3, 3, 1, 2, 4, 5, 3, 3, 2, 1, 2, 2, 3, 3, 2, 6,\n",
       "       2, 2, 3, 3, 2, 1, 3, 3, 2], dtype=int64)"
      ]
     },
     "execution_count": 25,
     "metadata": {},
     "output_type": "execute_result"
    }
   ],
   "source": [
    "#convert protein column into a numpy array\n",
    "df[\"protein\"].values"
   ]
  },
  {
   "cell_type": "code",
   "execution_count": 26,
   "metadata": {},
   "outputs": [
    {
     "data": {
      "text/plain": [
       "array([[ 70,   1, 130],\n",
       "       [120,   5,  15],\n",
       "       [ 70,   1, 260],\n",
       "       [ 50,   0, 140],\n",
       "       [110,   2, 180],\n",
       "       [110,   0, 125],\n",
       "       [130,   2, 210],\n",
       "       [ 90,   1, 200],\n",
       "       [ 90,   0, 210],\n",
       "       [120,   2, 220],\n",
       "       [110,   2, 290],\n",
       "       [120,   3, 210],\n",
       "       [110,   2, 140],\n",
       "       [110,   1, 180],\n",
       "       [110,   0, 280],\n",
       "       [100,   0, 290],\n",
       "       [110,   0,  90],\n",
       "       [110,   1, 180],\n",
       "       [110,   3, 140],\n",
       "       [110,   0, 220],\n",
       "       [100,   1, 140],\n",
       "       [100,   0, 190],\n",
       "       [110,   1, 125],\n",
       "       [110,   0, 200],\n",
       "       [100,   0,   0],\n",
       "       [120,   2, 160],\n",
       "       [120,   0, 240],\n",
       "       [110,   1, 135],\n",
       "       [100,   0,  45],\n",
       "       [110,   1, 280],\n",
       "       [100,   1, 140],\n",
       "       [110,   0, 170],\n",
       "       [120,   3,  75],\n",
       "       [120,   2, 220],\n",
       "       [110,   1, 250],\n",
       "       [110,   0, 180],\n",
       "       [110,   1, 170],\n",
       "       [140,   1, 170],\n",
       "       [110,   1, 260],\n",
       "       [100,   2, 150],\n",
       "       [110,   1, 180],\n",
       "       [100,   1,   0],\n",
       "       [150,   3,  95],\n",
       "       [150,   3, 150],\n",
       "       [160,   2, 150],\n",
       "       [100,   1, 220],\n",
       "       [120,   1, 190],\n",
       "       [140,   2, 220],\n",
       "       [ 90,   0, 170],\n",
       "       [130,   2, 170],\n",
       "       [120,   1, 200],\n",
       "       [100,   0, 320],\n",
       "       [ 50,   0,   0],\n",
       "       [ 50,   0,   0],\n",
       "       [100,   1, 135],\n",
       "       [100,   2,   0],\n",
       "       [120,   1, 210],\n",
       "       [100,   2, 140],\n",
       "       [ 90,   0,   0],\n",
       "       [110,   0, 240],\n",
       "       [110,   0, 290],\n",
       "       [ 80,   0,   0],\n",
       "       [ 90,   0,   0],\n",
       "       [ 90,   0,   0],\n",
       "       [110,   1,  70],\n",
       "       [110,   0, 230],\n",
       "       [ 90,   0,  15],\n",
       "       [110,   1, 200],\n",
       "       [140,   1, 190],\n",
       "       [100,   1, 200],\n",
       "       [110,   1, 250],\n",
       "       [110,   1, 140],\n",
       "       [100,   1, 230],\n",
       "       [100,   1, 200],\n",
       "       [110,   1, 200]], dtype=int64)"
      ]
     },
     "execution_count": 26,
     "metadata": {},
     "output_type": "execute_result"
    }
   ],
   "source": [
    "df[[\"calories\",\"fat\",\"sodium\"]].values"
   ]
  },
  {
   "cell_type": "code",
   "execution_count": 29,
   "metadata": {},
   "outputs": [],
   "source": [
    "arr=df[[\"calories\",\"fat\",\"fiber\"]].values"
   ]
  },
  {
   "cell_type": "code",
   "execution_count": 30,
   "metadata": {},
   "outputs": [
    {
     "data": {
      "text/plain": [
       "array([[ 70. ,   1. ,  10. ],\n",
       "       [120. ,   5. ,   2. ],\n",
       "       [ 70. ,   1. ,   9. ],\n",
       "       [ 50. ,   0. ,  14. ],\n",
       "       [110. ,   2. ,   1.5],\n",
       "       [110. ,   0. ,   1. ],\n",
       "       [130. ,   2. ,   2. ],\n",
       "       [ 90. ,   1. ,   4. ],\n",
       "       [ 90. ,   0. ,   5. ],\n",
       "       [120. ,   2. ,   0. ],\n",
       "       [110. ,   2. ,   2. ],\n",
       "       [120. ,   3. ,   0. ],\n",
       "       [110. ,   2. ,   2. ],\n",
       "       [110. ,   1. ,   0. ],\n",
       "       [110. ,   0. ,   0. ],\n",
       "       [100. ,   0. ,   1. ],\n",
       "       [110. ,   0. ,   1. ],\n",
       "       [110. ,   1. ,   0. ],\n",
       "       [110. ,   3. ,   4. ],\n",
       "       [110. ,   0. ,   1. ],\n",
       "       [100. ,   1. ,   2. ],\n",
       "       [100. ,   0. ,   1. ],\n",
       "       [110. ,   1. ,   1. ],\n",
       "       [110. ,   0. ,   1. ],\n",
       "       [100. ,   0. ,   3. ],\n",
       "       [120. ,   2. ,   5. ],\n",
       "       [120. ,   0. ,   5. ],\n",
       "       [110. ,   1. ,   0. ],\n",
       "       [100. ,   0. ,   0. ],\n",
       "       [110. ,   1. ,   0. ],\n",
       "       [100. ,   1. ,   3. ],\n",
       "       [110. ,   0. ,   3. ],\n",
       "       [120. ,   3. ,   3. ],\n",
       "       [120. ,   2. ,   1. ],\n",
       "       [110. ,   1. ,   1.5],\n",
       "       [110. ,   0. ,   0. ],\n",
       "       [110. ,   1. ,   1. ],\n",
       "       [140. ,   1. ,   2. ],\n",
       "       [110. ,   1. ,   0. ],\n",
       "       [100. ,   2. ,   2. ],\n",
       "       [110. ,   1. ,   0. ],\n",
       "       [100. ,   1. ,   0. ],\n",
       "       [150. ,   3. ,   3. ],\n",
       "       [150. ,   3. ,   3. ],\n",
       "       [160. ,   2. ,   3. ],\n",
       "       [100. ,   1. ,   2. ],\n",
       "       [120. ,   1. ,   0. ],\n",
       "       [140. ,   2. ,   3. ],\n",
       "       [ 90. ,   0. ,   3. ],\n",
       "       [130. ,   2. ,   1.5],\n",
       "       [120. ,   1. ,   6. ],\n",
       "       [100. ,   0. ,   1. ],\n",
       "       [ 50. ,   0. ,   0. ],\n",
       "       [ 50. ,   0. ,   1. ],\n",
       "       [100. ,   1. ,   2. ],\n",
       "       [100. ,   2. ,   2.7],\n",
       "       [120. ,   1. ,   5. ],\n",
       "       [100. ,   2. ,   2.5],\n",
       "       [ 90. ,   0. ,   2. ],\n",
       "       [110. ,   0. ,   0. ],\n",
       "       [110. ,   0. ,   0. ],\n",
       "       [ 80. ,   0. ,   3. ],\n",
       "       [ 90. ,   0. ,   4. ],\n",
       "       [ 90. ,   0. ,   3. ],\n",
       "       [110. ,   1. ,   1. ],\n",
       "       [110. ,   0. ,   1. ],\n",
       "       [ 90. ,   0. ,   3. ],\n",
       "       [110. ,   1. ,   0. ],\n",
       "       [140. ,   1. ,   4. ],\n",
       "       [100. ,   1. ,   3. ],\n",
       "       [110. ,   1. ,   0. ],\n",
       "       [110. ,   1. ,   0. ],\n",
       "       [100. ,   1. ,   3. ],\n",
       "       [100. ,   1. ,   3. ],\n",
       "       [110. ,   1. ,   1. ]])"
      ]
     },
     "execution_count": 30,
     "metadata": {},
     "output_type": "execute_result"
    }
   ],
   "source": [
    "arr"
   ]
  },
  {
   "cell_type": "code",
   "execution_count": 31,
   "metadata": {},
   "outputs": [
    {
     "data": {
      "text/plain": [
       "(75, 3)"
      ]
     },
     "execution_count": 31,
     "metadata": {},
     "output_type": "execute_result"
    }
   ],
   "source": [
    "arr.shape"
   ]
  },
  {
   "cell_type": "code",
   "execution_count": null,
   "metadata": {},
   "outputs": [],
   "source": [
    "#the above is an array with 75 dimensions each with 3 elements (75 rows and 3 columns)"
   ]
  },
  {
   "cell_type": "code",
   "execution_count": 32,
   "metadata": {},
   "outputs": [
    {
     "data": {
      "text/plain": [
       "array([70.,  1., 10.])"
      ]
     },
     "execution_count": 32,
     "metadata": {},
     "output_type": "execute_result"
    }
   ],
   "source": [
    "arr[0]"
   ]
  },
  {
   "cell_type": "code",
   "execution_count": 33,
   "metadata": {},
   "outputs": [
    {
     "data": {
      "text/plain": [
       "1.0"
      ]
     },
     "execution_count": 33,
     "metadata": {},
     "output_type": "execute_result"
    }
   ],
   "source": [
    "arr[0,1]"
   ]
  },
  {
   "cell_type": "code",
   "execution_count": 34,
   "metadata": {},
   "outputs": [
    {
     "data": {
      "text/plain": [
       "array([10. ,  2. ,  9. , 14. ,  1.5,  1. ,  2. ,  4. ,  5. ,  0. ,  2. ,\n",
       "        0. ,  2. ,  0. ,  0. ,  1. ,  1. ,  0. ,  4. ,  1. ,  2. ,  1. ,\n",
       "        1. ,  1. ,  3. ,  5. ,  5. ,  0. ,  0. ,  0. ,  3. ,  3. ,  3. ,\n",
       "        1. ,  1.5,  0. ,  1. ,  2. ,  0. ,  2. ,  0. ,  0. ,  3. ,  3. ,\n",
       "        3. ,  2. ,  0. ,  3. ,  3. ,  1.5,  6. ,  1. ,  0. ,  1. ,  2. ,\n",
       "        2.7,  5. ,  2.5,  2. ,  0. ,  0. ,  3. ,  4. ,  3. ,  1. ,  1. ,\n",
       "        3. ,  0. ,  4. ,  3. ,  0. ,  0. ,  3. ,  3. ,  1. ])"
      ]
     },
     "execution_count": 34,
     "metadata": {},
     "output_type": "execute_result"
    }
   ],
   "source": [
    "arr[:,2] #prints the entire column of fiber"
   ]
  },
  {
   "cell_type": "markdown",
   "metadata": {},
   "source": [
    "masking"
   ]
  },
  {
   "cell_type": "markdown",
   "metadata": {},
   "source": [
    "to create a mask is an array pf boolean(true/false) "
   ]
  },
  {
   "cell_type": "code",
   "execution_count": 42,
   "metadata": {},
   "outputs": [],
   "source": [
    "myarray=df[[\"calories\",\"protein\",\"fat\"]].values[:10] #first 10 values"
   ]
  },
  {
   "cell_type": "code",
   "execution_count": 43,
   "metadata": {},
   "outputs": [
    {
     "data": {
      "text/plain": [
       "array([[ 70,   4,   1],\n",
       "       [120,   3,   5],\n",
       "       [ 70,   4,   1],\n",
       "       [ 50,   4,   0],\n",
       "       [110,   2,   2],\n",
       "       [110,   2,   0],\n",
       "       [130,   3,   2],\n",
       "       [ 90,   2,   1],\n",
       "       [ 90,   3,   0],\n",
       "       [120,   1,   2]], dtype=int64)"
      ]
     },
     "execution_count": 43,
     "metadata": {},
     "output_type": "execute_result"
    }
   ],
   "source": [
    "myarray"
   ]
  },
  {
   "cell_type": "code",
   "execution_count": 44,
   "metadata": {},
   "outputs": [
    {
     "data": {
      "text/plain": [
       "array([ 70, 120,  70,  50, 110, 110, 130,  90,  90, 120], dtype=int64)"
      ]
     },
     "execution_count": 44,
     "metadata": {},
     "output_type": "execute_result"
    }
   ],
   "source": [
    "myarray[:,0]"
   ]
  },
  {
   "cell_type": "code",
   "execution_count": 45,
   "metadata": {},
   "outputs": [],
   "source": [
    "mask=myarray[:,0]<100"
   ]
  },
  {
   "cell_type": "code",
   "execution_count": 46,
   "metadata": {},
   "outputs": [
    {
     "data": {
      "text/plain": [
       "array([[70,  4,  1],\n",
       "       [70,  4,  1],\n",
       "       [50,  4,  0],\n",
       "       [90,  2,  1],\n",
       "       [90,  3,  0]], dtype=int64)"
      ]
     },
     "execution_count": 46,
     "metadata": {},
     "output_type": "execute_result"
    }
   ],
   "source": [
    "myarray[mask]"
   ]
  },
  {
   "cell_type": "code",
   "execution_count": 48,
   "metadata": {},
   "outputs": [
    {
     "data": {
      "text/plain": [
       "array([[70,  4,  1],\n",
       "       [70,  4,  1],\n",
       "       [50,  4,  0],\n",
       "       [90,  2,  1],\n",
       "       [90,  3,  0]], dtype=int64)"
      ]
     },
     "execution_count": 48,
     "metadata": {},
     "output_type": "execute_result"
    }
   ],
   "source": [
    "myarray[myarray[:,0]<100]"
   ]
  },
  {
   "cell_type": "code",
   "execution_count": 49,
   "metadata": {},
   "outputs": [
    {
     "data": {
      "text/html": [
       "<div>\n",
       "<style scoped>\n",
       "    .dataframe tbody tr th:only-of-type {\n",
       "        vertical-align: middle;\n",
       "    }\n",
       "\n",
       "    .dataframe tbody tr th {\n",
       "        vertical-align: top;\n",
       "    }\n",
       "\n",
       "    .dataframe thead th {\n",
       "        text-align: right;\n",
       "    }\n",
       "</style>\n",
       "<table border=\"1\" class=\"dataframe\">\n",
       "  <thead>\n",
       "    <tr style=\"text-align: right;\">\n",
       "      <th></th>\n",
       "      <th>calories</th>\n",
       "      <th>protein</th>\n",
       "      <th>fat</th>\n",
       "      <th>...</th>\n",
       "      <th>fiber</th>\n",
       "      <th>rating</th>\n",
       "      <th>1</th>\n",
       "    </tr>\n",
       "  </thead>\n",
       "  <tbody>\n",
       "    <tr>\n",
       "      <td>0</td>\n",
       "      <td>70</td>\n",
       "      <td>4</td>\n",
       "      <td>1</td>\n",
       "      <td>...</td>\n",
       "      <td>10.0</td>\n",
       "      <td>68.402973</td>\n",
       "      <td>True</td>\n",
       "    </tr>\n",
       "    <tr>\n",
       "      <td>1</td>\n",
       "      <td>120</td>\n",
       "      <td>3</td>\n",
       "      <td>5</td>\n",
       "      <td>...</td>\n",
       "      <td>2.0</td>\n",
       "      <td>33.983679</td>\n",
       "      <td>False</td>\n",
       "    </tr>\n",
       "    <tr>\n",
       "      <td>2</td>\n",
       "      <td>70</td>\n",
       "      <td>4</td>\n",
       "      <td>1</td>\n",
       "      <td>...</td>\n",
       "      <td>9.0</td>\n",
       "      <td>59.425505</td>\n",
       "      <td>True</td>\n",
       "    </tr>\n",
       "    <tr>\n",
       "      <td>3</td>\n",
       "      <td>50</td>\n",
       "      <td>4</td>\n",
       "      <td>0</td>\n",
       "      <td>...</td>\n",
       "      <td>14.0</td>\n",
       "      <td>93.704912</td>\n",
       "      <td>False</td>\n",
       "    </tr>\n",
       "    <tr>\n",
       "      <td>4</td>\n",
       "      <td>110</td>\n",
       "      <td>2</td>\n",
       "      <td>2</td>\n",
       "      <td>...</td>\n",
       "      <td>1.5</td>\n",
       "      <td>29.509541</td>\n",
       "      <td>False</td>\n",
       "    </tr>\n",
       "    <tr>\n",
       "      <td>...</td>\n",
       "      <td>...</td>\n",
       "      <td>...</td>\n",
       "      <td>...</td>\n",
       "      <td>...</td>\n",
       "      <td>...</td>\n",
       "      <td>...</td>\n",
       "      <td>...</td>\n",
       "    </tr>\n",
       "    <tr>\n",
       "      <td>70</td>\n",
       "      <td>110</td>\n",
       "      <td>2</td>\n",
       "      <td>1</td>\n",
       "      <td>...</td>\n",
       "      <td>0.0</td>\n",
       "      <td>39.106174</td>\n",
       "      <td>True</td>\n",
       "    </tr>\n",
       "    <tr>\n",
       "      <td>71</td>\n",
       "      <td>110</td>\n",
       "      <td>1</td>\n",
       "      <td>1</td>\n",
       "      <td>...</td>\n",
       "      <td>0.0</td>\n",
       "      <td>27.753301</td>\n",
       "      <td>True</td>\n",
       "    </tr>\n",
       "    <tr>\n",
       "      <td>72</td>\n",
       "      <td>100</td>\n",
       "      <td>3</td>\n",
       "      <td>1</td>\n",
       "      <td>...</td>\n",
       "      <td>3.0</td>\n",
       "      <td>49.787445</td>\n",
       "      <td>True</td>\n",
       "    </tr>\n",
       "    <tr>\n",
       "      <td>73</td>\n",
       "      <td>100</td>\n",
       "      <td>3</td>\n",
       "      <td>1</td>\n",
       "      <td>...</td>\n",
       "      <td>3.0</td>\n",
       "      <td>51.592193</td>\n",
       "      <td>True</td>\n",
       "    </tr>\n",
       "    <tr>\n",
       "      <td>74</td>\n",
       "      <td>110</td>\n",
       "      <td>2</td>\n",
       "      <td>1</td>\n",
       "      <td>...</td>\n",
       "      <td>1.0</td>\n",
       "      <td>36.187559</td>\n",
       "      <td>True</td>\n",
       "    </tr>\n",
       "  </tbody>\n",
       "</table>\n",
       "<p>75 rows × 7 columns</p>\n",
       "</div>"
      ],
      "text/plain": [
       "    calories  protein  fat  ...  fiber     rating      1\n",
       "0         70        4    1  ...   10.0  68.402973   True\n",
       "1        120        3    5  ...    2.0  33.983679  False\n",
       "2         70        4    1  ...    9.0  59.425505   True\n",
       "3         50        4    0  ...   14.0  93.704912  False\n",
       "4        110        2    2  ...    1.5  29.509541  False\n",
       "..       ...      ...  ...  ...    ...        ...    ...\n",
       "70       110        2    1  ...    0.0  39.106174   True\n",
       "71       110        1    1  ...    0.0  27.753301   True\n",
       "72       100        3    1  ...    3.0  49.787445   True\n",
       "73       100        3    1  ...    3.0  51.592193   True\n",
       "74       110        2    1  ...    1.0  36.187559   True\n",
       "\n",
       "[75 rows x 7 columns]"
      ]
     },
     "execution_count": 49,
     "metadata": {},
     "output_type": "execute_result"
    }
   ],
   "source": [
    "df"
   ]
  },
  {
   "cell_type": "code",
   "execution_count": 50,
   "metadata": {},
   "outputs": [],
   "source": [
    "arr1=df[[\"calories\",\"protein\",\"fiber\"]].values[:10]"
   ]
  },
  {
   "cell_type": "code",
   "execution_count": 51,
   "metadata": {},
   "outputs": [
    {
     "data": {
      "text/plain": [
       "array([[ 70. ,   4. ,  10. ],\n",
       "       [120. ,   3. ,   2. ],\n",
       "       [ 70. ,   4. ,   9. ],\n",
       "       [ 50. ,   4. ,  14. ],\n",
       "       [110. ,   2. ,   1.5],\n",
       "       [110. ,   2. ,   1. ],\n",
       "       [130. ,   3. ,   2. ],\n",
       "       [ 90. ,   2. ,   4. ],\n",
       "       [ 90. ,   3. ,   5. ],\n",
       "       [120. ,   1. ,   0. ]])"
      ]
     },
     "execution_count": 51,
     "metadata": {},
     "output_type": "execute_result"
    }
   ],
   "source": [
    "arr1"
   ]
  },
  {
   "cell_type": "code",
   "execution_count": 52,
   "metadata": {},
   "outputs": [],
   "source": [
    "arr2=arr1[:,0]<100"
   ]
  },
  {
   "cell_type": "code",
   "execution_count": 53,
   "metadata": {},
   "outputs": [
    {
     "data": {
      "text/plain": [
       "array([ True, False,  True,  True, False, False, False,  True,  True,\n",
       "       False])"
      ]
     },
     "execution_count": 53,
     "metadata": {},
     "output_type": "execute_result"
    }
   ],
   "source": [
    "arr2"
   ]
  },
  {
   "cell_type": "code",
   "execution_count": 54,
   "metadata": {},
   "outputs": [
    {
     "data": {
      "text/plain": [
       "array([[70.,  4., 10.],\n",
       "       [70.,  4.,  9.],\n",
       "       [50.,  4., 14.],\n",
       "       [90.,  2.,  4.],\n",
       "       [90.,  3.,  5.]])"
      ]
     },
     "execution_count": 54,
     "metadata": {},
     "output_type": "execute_result"
    }
   ],
   "source": [
    "arr1[arr2]"
   ]
  },
  {
   "cell_type": "code",
   "execution_count": 55,
   "metadata": {},
   "outputs": [
    {
     "data": {
      "text/plain": [
       "5"
      ]
     },
     "execution_count": 55,
     "metadata": {},
     "output_type": "execute_result"
    }
   ],
   "source": [
    "arr2.sum() #gives the count of the number of true values "
   ]
  },
  {
   "cell_type": "markdown",
   "metadata": {},
   "source": [
    "# PLOTTING"
   ]
  },
  {
   "cell_type": "code",
   "execution_count": 56,
   "metadata": {},
   "outputs": [
    {
     "data": {
      "text/html": [
       "<div>\n",
       "<style scoped>\n",
       "    .dataframe tbody tr th:only-of-type {\n",
       "        vertical-align: middle;\n",
       "    }\n",
       "\n",
       "    .dataframe tbody tr th {\n",
       "        vertical-align: top;\n",
       "    }\n",
       "\n",
       "    .dataframe thead th {\n",
       "        text-align: right;\n",
       "    }\n",
       "</style>\n",
       "<table border=\"1\" class=\"dataframe\">\n",
       "  <thead>\n",
       "    <tr style=\"text-align: right;\">\n",
       "      <th></th>\n",
       "      <th>calories</th>\n",
       "      <th>protein</th>\n",
       "      <th>fat</th>\n",
       "      <th>...</th>\n",
       "      <th>fiber</th>\n",
       "      <th>rating</th>\n",
       "      <th>1</th>\n",
       "    </tr>\n",
       "  </thead>\n",
       "  <tbody>\n",
       "    <tr>\n",
       "      <td>0</td>\n",
       "      <td>70</td>\n",
       "      <td>4</td>\n",
       "      <td>1</td>\n",
       "      <td>...</td>\n",
       "      <td>10.0</td>\n",
       "      <td>68.402973</td>\n",
       "      <td>True</td>\n",
       "    </tr>\n",
       "    <tr>\n",
       "      <td>1</td>\n",
       "      <td>120</td>\n",
       "      <td>3</td>\n",
       "      <td>5</td>\n",
       "      <td>...</td>\n",
       "      <td>2.0</td>\n",
       "      <td>33.983679</td>\n",
       "      <td>False</td>\n",
       "    </tr>\n",
       "    <tr>\n",
       "      <td>2</td>\n",
       "      <td>70</td>\n",
       "      <td>4</td>\n",
       "      <td>1</td>\n",
       "      <td>...</td>\n",
       "      <td>9.0</td>\n",
       "      <td>59.425505</td>\n",
       "      <td>True</td>\n",
       "    </tr>\n",
       "    <tr>\n",
       "      <td>3</td>\n",
       "      <td>50</td>\n",
       "      <td>4</td>\n",
       "      <td>0</td>\n",
       "      <td>...</td>\n",
       "      <td>14.0</td>\n",
       "      <td>93.704912</td>\n",
       "      <td>False</td>\n",
       "    </tr>\n",
       "    <tr>\n",
       "      <td>4</td>\n",
       "      <td>110</td>\n",
       "      <td>2</td>\n",
       "      <td>2</td>\n",
       "      <td>...</td>\n",
       "      <td>1.5</td>\n",
       "      <td>29.509541</td>\n",
       "      <td>False</td>\n",
       "    </tr>\n",
       "    <tr>\n",
       "      <td>...</td>\n",
       "      <td>...</td>\n",
       "      <td>...</td>\n",
       "      <td>...</td>\n",
       "      <td>...</td>\n",
       "      <td>...</td>\n",
       "      <td>...</td>\n",
       "      <td>...</td>\n",
       "    </tr>\n",
       "    <tr>\n",
       "      <td>70</td>\n",
       "      <td>110</td>\n",
       "      <td>2</td>\n",
       "      <td>1</td>\n",
       "      <td>...</td>\n",
       "      <td>0.0</td>\n",
       "      <td>39.106174</td>\n",
       "      <td>True</td>\n",
       "    </tr>\n",
       "    <tr>\n",
       "      <td>71</td>\n",
       "      <td>110</td>\n",
       "      <td>1</td>\n",
       "      <td>1</td>\n",
       "      <td>...</td>\n",
       "      <td>0.0</td>\n",
       "      <td>27.753301</td>\n",
       "      <td>True</td>\n",
       "    </tr>\n",
       "    <tr>\n",
       "      <td>72</td>\n",
       "      <td>100</td>\n",
       "      <td>3</td>\n",
       "      <td>1</td>\n",
       "      <td>...</td>\n",
       "      <td>3.0</td>\n",
       "      <td>49.787445</td>\n",
       "      <td>True</td>\n",
       "    </tr>\n",
       "    <tr>\n",
       "      <td>73</td>\n",
       "      <td>100</td>\n",
       "      <td>3</td>\n",
       "      <td>1</td>\n",
       "      <td>...</td>\n",
       "      <td>3.0</td>\n",
       "      <td>51.592193</td>\n",
       "      <td>True</td>\n",
       "    </tr>\n",
       "    <tr>\n",
       "      <td>74</td>\n",
       "      <td>110</td>\n",
       "      <td>2</td>\n",
       "      <td>1</td>\n",
       "      <td>...</td>\n",
       "      <td>1.0</td>\n",
       "      <td>36.187559</td>\n",
       "      <td>True</td>\n",
       "    </tr>\n",
       "  </tbody>\n",
       "</table>\n",
       "<p>75 rows × 7 columns</p>\n",
       "</div>"
      ],
      "text/plain": [
       "    calories  protein  fat  ...  fiber     rating      1\n",
       "0         70        4    1  ...   10.0  68.402973   True\n",
       "1        120        3    5  ...    2.0  33.983679  False\n",
       "2         70        4    1  ...    9.0  59.425505   True\n",
       "3         50        4    0  ...   14.0  93.704912  False\n",
       "4        110        2    2  ...    1.5  29.509541  False\n",
       "..       ...      ...  ...  ...    ...        ...    ...\n",
       "70       110        2    1  ...    0.0  39.106174   True\n",
       "71       110        1    1  ...    0.0  27.753301   True\n",
       "72       100        3    1  ...    3.0  49.787445   True\n",
       "73       100        3    1  ...    3.0  51.592193   True\n",
       "74       110        2    1  ...    1.0  36.187559   True\n",
       "\n",
       "[75 rows x 7 columns]"
      ]
     },
     "execution_count": 56,
     "metadata": {},
     "output_type": "execute_result"
    }
   ],
   "source": [
    "df"
   ]
  },
  {
   "cell_type": "code",
   "execution_count": 57,
   "metadata": {},
   "outputs": [],
   "source": [
    "import matplotlib.pyplot as plt"
   ]
  },
  {
   "cell_type": "code",
   "execution_count": 69,
   "metadata": {},
   "outputs": [
    {
     "data": {
      "text/plain": [
       "[<matplotlib.lines.Line2D at 0x1ed3064fa88>]"
      ]
     },
     "execution_count": 69,
     "metadata": {},
     "output_type": "execute_result"
    },
    {
     "data": {
      "image/png": "[encoded data removed]",
      "text/plain": [
       "<Figure size 432x288 with 1 Axes>"
      ]
     },
     "metadata": {
      "needs_background": "light"
     },
     "output_type": "display_data"
    }
   ],
   "source": [
    "plt.scatter(df[\"calories\"],df[\"fiber\"])\n",
    "plt.xlabel(\"calories\")\n",
    "plt.ylabel(\"fiber\")\n",
    "plt.title(\"calories vs fiber\")\n",
    "plt.scatter(df[\"calories\"],df[\"fiber\"],c=df[1])# we have added the c parameter to color code our scatter plot.  \n",
    "#teh purple dots are for false and yellow are for true\n",
    "plt.plot([70,120],[0,14]) #draws a straight line that goes from point (0,70) to (14,120)"
   ]
  },
  {
   "cell_type": "markdown",
   "metadata": {},
   "source": [
    "quiz"
   ]
  },
  {
   "cell_type": "code",
   "execution_count": 70,
   "metadata": {},
   "outputs": [
    {
     "name": "stdout",
     "output_type": "stream",
     "text": [
      "median: 30.0\n",
      "mean: 28.0\n"
     ]
    }
   ],
   "source": [
    "import numpy as np\n",
    "temp=[10,20,40,30,40]\n",
    "print(\"median:\",np.median(temp))\n",
    "print(\"mean:\",np.mean(temp))"
   ]
  },
  {
   "cell_type": "markdown",
   "metadata": {},
   "source": [
    "# classification"
   ]
  },
  {
   "cell_type": "code",
   "execution_count": 79,
   "metadata": {},
   "outputs": [
    {
     "name": "stdout",
     "output_type": "stream",
     "text": [
      "   Unnamed: 0  survived  pclass  ... siblings/spouses  parents/children  \\\n",
      "0           0         0       3  ...                1                 0   \n",
      "1           1         1       1  ...                1                 0   \n",
      "2           2         1       3  ...                0                 0   \n",
      "3           3         1       1  ...                1                 0   \n",
      "4           4         0       3  ...                0                 0   \n",
      "\n",
      "      fare  \n",
      "0   7.2500  \n",
      "1  71.2833  \n",
      "2   7.9250  \n",
      "3  53.1000  \n",
      "4   8.0500  \n",
      "\n",
      "[5 rows x 8 columns]\n"
     ]
    }
   ],
   "source": [
    "import pandas as pd\n",
    "mydata=pd.read_csv(\"C:\\\\Users\\\\Makena\\\\Desktop\\\\python\\\\titanic.csv\")\n",
    "print(mydata)"
   ]
  },
  {
   "cell_type": "code",
   "execution_count": 80,
   "metadata": {},
   "outputs": [
    {
     "data": {
      "text/html": [
       "<div>\n",
       "<style scoped>\n",
       "    .dataframe tbody tr th:only-of-type {\n",
       "        vertical-align: middle;\n",
       "    }\n",
       "\n",
       "    .dataframe tbody tr th {\n",
       "        vertical-align: top;\n",
       "    }\n",
       "\n",
       "    .dataframe thead th {\n",
       "        text-align: right;\n",
       "    }\n",
       "</style>\n",
       "<table border=\"1\" class=\"dataframe\">\n",
       "  <thead>\n",
       "    <tr style=\"text-align: right;\">\n",
       "      <th></th>\n",
       "      <th>Unnamed: 0</th>\n",
       "      <th>survived</th>\n",
       "      <th>pclass</th>\n",
       "      <th>...</th>\n",
       "      <th>siblings/spouses</th>\n",
       "      <th>parents/children</th>\n",
       "      <th>fare</th>\n",
       "    </tr>\n",
       "  </thead>\n",
       "  <tbody>\n",
       "    <tr>\n",
       "      <td>0</td>\n",
       "      <td>0</td>\n",
       "      <td>0</td>\n",
       "      <td>3</td>\n",
       "      <td>...</td>\n",
       "      <td>1</td>\n",
       "      <td>0</td>\n",
       "      <td>7.2500</td>\n",
       "    </tr>\n",
       "    <tr>\n",
       "      <td>1</td>\n",
       "      <td>1</td>\n",
       "      <td>1</td>\n",
       "      <td>1</td>\n",
       "      <td>...</td>\n",
       "      <td>1</td>\n",
       "      <td>0</td>\n",
       "      <td>71.2833</td>\n",
       "    </tr>\n",
       "    <tr>\n",
       "      <td>2</td>\n",
       "      <td>2</td>\n",
       "      <td>1</td>\n",
       "      <td>3</td>\n",
       "      <td>...</td>\n",
       "      <td>0</td>\n",
       "      <td>0</td>\n",
       "      <td>7.9250</td>\n",
       "    </tr>\n",
       "    <tr>\n",
       "      <td>3</td>\n",
       "      <td>3</td>\n",
       "      <td>1</td>\n",
       "      <td>1</td>\n",
       "      <td>...</td>\n",
       "      <td>1</td>\n",
       "      <td>0</td>\n",
       "      <td>53.1000</td>\n",
       "    </tr>\n",
       "    <tr>\n",
       "      <td>4</td>\n",
       "      <td>4</td>\n",
       "      <td>0</td>\n",
       "      <td>3</td>\n",
       "      <td>...</td>\n",
       "      <td>0</td>\n",
       "      <td>0</td>\n",
       "      <td>8.0500</td>\n",
       "    </tr>\n",
       "  </tbody>\n",
       "</table>\n",
       "<p>5 rows × 8 columns</p>\n",
       "</div>"
      ],
      "text/plain": [
       "   Unnamed: 0  survived  pclass  ... siblings/spouses  parents/children  \\\n",
       "0           0         0       3  ...                1                 0   \n",
       "1           1         1       1  ...                1                 0   \n",
       "2           2         1       3  ...                0                 0   \n",
       "3           3         1       1  ...                1                 0   \n",
       "4           4         0       3  ...                0                 0   \n",
       "\n",
       "      fare  \n",
       "0   7.2500  \n",
       "1  71.2833  \n",
       "2   7.9250  \n",
       "3  53.1000  \n",
       "4   8.0500  \n",
       "\n",
       "[5 rows x 8 columns]"
      ]
     },
     "execution_count": 80,
     "metadata": {},
     "output_type": "execute_result"
    }
   ],
   "source": [
    "mydata"
   ]
  },
  {
   "cell_type": "code",
   "execution_count": 81,
   "metadata": {},
   "outputs": [],
   "source": [
    "mydata[\"male\"]=mydata[\"sex\"]==\"male\""
   ]
  },
  {
   "cell_type": "code",
   "execution_count": 82,
   "metadata": {},
   "outputs": [
    {
     "data": {
      "text/html": [
       "<div>\n",
       "<style scoped>\n",
       "    .dataframe tbody tr th:only-of-type {\n",
       "        vertical-align: middle;\n",
       "    }\n",
       "\n",
       "    .dataframe tbody tr th {\n",
       "        vertical-align: top;\n",
       "    }\n",
       "\n",
       "    .dataframe thead th {\n",
       "        text-align: right;\n",
       "    }\n",
       "</style>\n",
       "<table border=\"1\" class=\"dataframe\">\n",
       "  <thead>\n",
       "    <tr style=\"text-align: right;\">\n",
       "      <th></th>\n",
       "      <th>Unnamed: 0</th>\n",
       "      <th>survived</th>\n",
       "      <th>pclass</th>\n",
       "      <th>...</th>\n",
       "      <th>parents/children</th>\n",
       "      <th>fare</th>\n",
       "      <th>male</th>\n",
       "    </tr>\n",
       "  </thead>\n",
       "  <tbody>\n",
       "    <tr>\n",
       "      <td>0</td>\n",
       "      <td>0</td>\n",
       "      <td>0</td>\n",
       "      <td>3</td>\n",
       "      <td>...</td>\n",
       "      <td>0</td>\n",
       "      <td>7.2500</td>\n",
       "      <td>True</td>\n",
       "    </tr>\n",
       "    <tr>\n",
       "      <td>1</td>\n",
       "      <td>1</td>\n",
       "      <td>1</td>\n",
       "      <td>1</td>\n",
       "      <td>...</td>\n",
       "      <td>0</td>\n",
       "      <td>71.2833</td>\n",
       "      <td>False</td>\n",
       "    </tr>\n",
       "    <tr>\n",
       "      <td>2</td>\n",
       "      <td>2</td>\n",
       "      <td>1</td>\n",
       "      <td>3</td>\n",
       "      <td>...</td>\n",
       "      <td>0</td>\n",
       "      <td>7.9250</td>\n",
       "      <td>False</td>\n",
       "    </tr>\n",
       "    <tr>\n",
       "      <td>3</td>\n",
       "      <td>3</td>\n",
       "      <td>1</td>\n",
       "      <td>1</td>\n",
       "      <td>...</td>\n",
       "      <td>0</td>\n",
       "      <td>53.1000</td>\n",
       "      <td>False</td>\n",
       "    </tr>\n",
       "    <tr>\n",
       "      <td>4</td>\n",
       "      <td>4</td>\n",
       "      <td>0</td>\n",
       "      <td>3</td>\n",
       "      <td>...</td>\n",
       "      <td>0</td>\n",
       "      <td>8.0500</td>\n",
       "      <td>True</td>\n",
       "    </tr>\n",
       "  </tbody>\n",
       "</table>\n",
       "<p>5 rows × 9 columns</p>\n",
       "</div>"
      ],
      "text/plain": [
       "   Unnamed: 0  survived  pclass  ... parents/children     fare   male\n",
       "0           0         0       3  ...                0   7.2500   True\n",
       "1           1         1       1  ...                0  71.2833  False\n",
       "2           2         1       3  ...                0   7.9250  False\n",
       "3           3         1       1  ...                0  53.1000  False\n",
       "4           4         0       3  ...                0   8.0500   True\n",
       "\n",
       "[5 rows x 9 columns]"
      ]
     },
     "execution_count": 82,
     "metadata": {},
     "output_type": "execute_result"
    }
   ],
   "source": [
    "mydata"
   ]
  },
  {
   "cell_type": "code",
   "execution_count": 83,
   "metadata": {},
   "outputs": [],
   "source": [
    "x=mydata[[\"pclass\",\"male\",\"age\",\"siblings/spouses\",\"parents/children\",\"fare\"]].values"
   ]
  },
  {
   "cell_type": "code",
   "execution_count": 84,
   "metadata": {},
   "outputs": [
    {
     "data": {
      "text/plain": [
       "array([[3, True, 22, 1, 0, 7.25],\n",
       "       [1, False, 38, 1, 0, 71.2833],\n",
       "       [3, False, 26, 0, 0, 7.925],\n",
       "       [1, False, 35, 1, 0, 53.1],\n",
       "       [3, True, 35, 0, 0, 8.05]], dtype=object)"
      ]
     },
     "execution_count": 84,
     "metadata": {},
     "output_type": "execute_result"
    }
   ],
   "source": [
    "x"
   ]
  },
  {
   "cell_type": "code",
   "execution_count": 85,
   "metadata": {},
   "outputs": [],
   "source": [
    "y=mydata[\"survived\"].values"
   ]
  },
  {
   "cell_type": "code",
   "execution_count": 86,
   "metadata": {},
   "outputs": [
    {
     "data": {
      "text/plain": [
       "array([0, 1, 1, 1, 0], dtype=int64)"
      ]
     },
     "execution_count": 86,
     "metadata": {},
     "output_type": "execute_result"
    }
   ],
   "source": [
    "y"
   ]
  },
  {
   "cell_type": "code",
   "execution_count": null,
   "metadata": {},
   "outputs": [],
   "source": [
    "Buliding a logistic regression model with sklearn"
   ]
  },
  {
   "cell_type": "code",
   "execution_count": 1,
   "metadata": {},
   "outputs": [],
   "source": [
    "import pandas as pd\n",
    "from sklearn.linear_model import LogisticRegression #importing the logistic regression model\n"
   ]
  },
  {
   "cell_type": "code",
   "execution_count": 3,
   "metadata": {},
   "outputs": [],
   "source": [
    "mydata=pd.read_csv(\"C:\\\\Users\\\\Makena\\\\Desktop\\\\python\\\\titanic.csv\")"
   ]
  },
  {
   "cell_type": "code",
   "execution_count": 4,
   "metadata": {},
   "outputs": [],
   "source": [
    "x=mydata[[\"fare\",\"age\"]].values\n",
    "y=mydata[\"survived\"].values"
   ]
  },
  {
   "cell_type": "code",
   "execution_count": 6,
   "metadata": {},
   "outputs": [
    {
     "name": "stderr",
     "output_type": "stream",
     "text": [
      "C:\\Users\\Makena\\Anaconda3\\lib\\site-packages\\sklearn\\linear_model\\logistic.py:432: FutureWarning: Default solver will be changed to 'lbfgs' in 0.22. Specify a solver to silence this warning.\n",
      "  FutureWarning)\n"
     ]
    },
    {
     "data": {
      "text/plain": [
       "LogisticRegression(C=1.0, class_weight=None, dual=False, fit_intercept=True,\n",
       "                   intercept_scaling=1, l1_ratio=None, max_iter=100,\n",
       "                   multi_class='warn', n_jobs=None, penalty='l2',\n",
       "                   random_state=None, solver='warn', tol=0.0001, verbose=0,\n",
       "                   warm_start=False)"
      ]
     },
     "execution_count": 6,
     "metadata": {},
     "output_type": "execute_result"
    }
   ],
   "source": [
    "model=LogisticRegression() #allsklearn models are built as python classess so we instantiate the class\n",
    "model.fit(x,y) #choosing a line of best fit"
   ]
  },
  {
   "cell_type": "code",
   "execution_count": 7,
   "metadata": {},
   "outputs": [
    {
     "data": {
      "text/plain": [
       "(array([[ 0.26261656, -0.09996329]]), array([-0.00018963]))"
      ]
     },
     "execution_count": 7,
     "metadata": {},
     "output_type": "execute_result"
    }
   ],
   "source": [
    "model.coef_,model.intercept_"
   ]
  },
  {
   "cell_type": "markdown",
   "metadata": {},
   "source": [
    "the above means the equation is as follows 0.26261656x-0.09996322y-0.00018963"
   ]
  },
  {
   "cell_type": "markdown",
   "metadata": {},
   "source": [
    "making predictions with the model"
   ]
  },
  {
   "cell_type": "code",
   "execution_count": 9,
   "metadata": {},
   "outputs": [
    {
     "data": {
      "text/html": [
       "<div>\n",
       "<style scoped>\n",
       "    .dataframe tbody tr th:only-of-type {\n",
       "        vertical-align: middle;\n",
       "    }\n",
       "\n",
       "    .dataframe tbody tr th {\n",
       "        vertical-align: top;\n",
       "    }\n",
       "\n",
       "    .dataframe thead th {\n",
       "        text-align: right;\n",
       "    }\n",
       "</style>\n",
       "<table border=\"1\" class=\"dataframe\">\n",
       "  <thead>\n",
       "    <tr style=\"text-align: right;\">\n",
       "      <th></th>\n",
       "      <th>Unnamed: 0</th>\n",
       "      <th>survived</th>\n",
       "      <th>pclass</th>\n",
       "      <th>sex</th>\n",
       "      <th>age</th>\n",
       "      <th>siblings/spouses</th>\n",
       "      <th>parents/children</th>\n",
       "      <th>fare</th>\n",
       "    </tr>\n",
       "  </thead>\n",
       "  <tbody>\n",
       "    <tr>\n",
       "      <td>0</td>\n",
       "      <td>0</td>\n",
       "      <td>0</td>\n",
       "      <td>3</td>\n",
       "      <td>male</td>\n",
       "      <td>22</td>\n",
       "      <td>1</td>\n",
       "      <td>0</td>\n",
       "      <td>7.2500</td>\n",
       "    </tr>\n",
       "    <tr>\n",
       "      <td>1</td>\n",
       "      <td>1</td>\n",
       "      <td>1</td>\n",
       "      <td>1</td>\n",
       "      <td>female</td>\n",
       "      <td>38</td>\n",
       "      <td>1</td>\n",
       "      <td>0</td>\n",
       "      <td>71.2833</td>\n",
       "    </tr>\n",
       "    <tr>\n",
       "      <td>2</td>\n",
       "      <td>2</td>\n",
       "      <td>1</td>\n",
       "      <td>3</td>\n",
       "      <td>female</td>\n",
       "      <td>26</td>\n",
       "      <td>0</td>\n",
       "      <td>0</td>\n",
       "      <td>7.9250</td>\n",
       "    </tr>\n",
       "    <tr>\n",
       "      <td>3</td>\n",
       "      <td>3</td>\n",
       "      <td>1</td>\n",
       "      <td>1</td>\n",
       "      <td>female</td>\n",
       "      <td>35</td>\n",
       "      <td>1</td>\n",
       "      <td>0</td>\n",
       "      <td>53.1000</td>\n",
       "    </tr>\n",
       "    <tr>\n",
       "      <td>4</td>\n",
       "      <td>4</td>\n",
       "      <td>0</td>\n",
       "      <td>3</td>\n",
       "      <td>male</td>\n",
       "      <td>35</td>\n",
       "      <td>0</td>\n",
       "      <td>0</td>\n",
       "      <td>8.0500</td>\n",
       "    </tr>\n",
       "  </tbody>\n",
       "</table>\n",
       "</div>"
      ],
      "text/plain": [
       "   Unnamed: 0  survived  pclass     sex  age  siblings/spouses  \\\n",
       "0           0         0       3    male   22                 1   \n",
       "1           1         1       1  female   38                 1   \n",
       "2           2         1       3  female   26                 0   \n",
       "3           3         1       1  female   35                 1   \n",
       "4           4         0       3    male   35                 0   \n",
       "\n",
       "   parents/children     fare  \n",
       "0                 0   7.2500  \n",
       "1                 0  71.2833  \n",
       "2                 0   7.9250  \n",
       "3                 0  53.1000  \n",
       "4                 0   8.0500  "
      ]
     },
     "execution_count": 9,
     "metadata": {},
     "output_type": "execute_result"
    }
   ],
   "source": [
    "mydata"
   ]
  },
  {
   "cell_type": "code",
   "execution_count": 22,
   "metadata": {},
   "outputs": [
    {
     "ename": "NameError",
     "evalue": "name 'mydata' is not defined",
     "output_type": "error",
     "traceback": [
      "\u001b[1;31m---------------------------------------------------------------------------\u001b[0m",
      "\u001b[1;31mNameError\u001b[0m                                 Traceback (most recent call last)",
      "\u001b[1;32m<ipython-input-22-fd996963eec6>\u001b[0m in \u001b[0;36m<module>\u001b[1;34m\u001b[0m\n\u001b[1;32m----> 1\u001b[1;33m \u001b[0mmydata\u001b[0m\u001b[1;33m[\u001b[0m\u001b[1;34m\"male\"\u001b[0m\u001b[1;33m]\u001b[0m\u001b[1;33m=\u001b[0m\u001b[0mmydata\u001b[0m\u001b[1;33m[\u001b[0m\u001b[1;34m\"sex\"\u001b[0m\u001b[1;33m]\u001b[0m\u001b[1;33m==\u001b[0m\u001b[1;34m\"male\"\u001b[0m\u001b[1;33m\u001b[0m\u001b[1;33m\u001b[0m\u001b[0m\n\u001b[0m\u001b[0;32m      2\u001b[0m \u001b[0mx\u001b[0m\u001b[1;33m=\u001b[0m\u001b[0mmydata\u001b[0m\u001b[1;33m[\u001b[0m\u001b[1;33m[\u001b[0m\u001b[1;34m\"pclass\"\u001b[0m\u001b[1;33m,\u001b[0m\u001b[1;34m\"male\"\u001b[0m\u001b[1;33m,\u001b[0m\u001b[1;34m\"age\"\u001b[0m\u001b[1;33m,\u001b[0m\u001b[1;34m\"siblings/spouses\"\u001b[0m\u001b[1;33m,\u001b[0m\u001b[1;34m\"parents/children\"\u001b[0m\u001b[1;33m,\u001b[0m\u001b[1;34m\"fare\"\u001b[0m\u001b[1;33m]\u001b[0m\u001b[1;33m]\u001b[0m\u001b[1;33m.\u001b[0m\u001b[0mvalues\u001b[0m\u001b[1;33m\u001b[0m\u001b[1;33m\u001b[0m\u001b[0m\n\u001b[0;32m      3\u001b[0m \u001b[0my\u001b[0m\u001b[1;33m=\u001b[0m\u001b[0mmydata\u001b[0m\u001b[1;33m[\u001b[0m\u001b[1;34m\"survived\"\u001b[0m\u001b[1;33m]\u001b[0m\u001b[1;33m.\u001b[0m\u001b[0mvalues\u001b[0m\u001b[1;33m\u001b[0m\u001b[1;33m\u001b[0m\u001b[0m\n",
      "\u001b[1;31mNameError\u001b[0m: name 'mydata' is not defined"
     ]
    }
   ],
   "source": [
    "mydata[\"male\"]=mydata[\"sex\"]==\"male\"\n",
    "x=mydata[[\"pclass\",\"male\",\"age\",\"siblings/spouses\",\"parents/children\",\"fare\"]].values\n",
    "y=mydata[\"survived\"].values"
   ]
  },
  {
   "cell_type": "code",
   "execution_count": 23,
   "metadata": {},
   "outputs": [
    {
     "name": "stderr",
     "output_type": "stream",
     "text": [
      "C:\\Users\\Makena\\Anaconda3\\lib\\site-packages\\sklearn\\linear_model\\logistic.py:432: FutureWarning: Default solver will be changed to 'lbfgs' in 0.22. Specify a solver to silence this warning.\n",
      "  FutureWarning)\n"
     ]
    },
    {
     "data": {
      "text/plain": [
       "LogisticRegression(C=1.0, class_weight=None, dual=False, fit_intercept=True,\n",
       "                   intercept_scaling=1, l1_ratio=None, max_iter=100,\n",
       "                   multi_class='warn', n_jobs=None, penalty='l2',\n",
       "                   random_state=None, solver='warn', tol=0.0001, verbose=0,\n",
       "                   warm_start=False)"
      ]
     },
     "execution_count": 23,
     "metadata": {},
     "output_type": "execute_result"
    }
   ],
   "source": [
    "model=LogisticRegression()\n",
    "model.fit(x,y)\n"
   ]
  },
  {
   "cell_type": "code",
   "execution_count": 25,
   "metadata": {},
   "outputs": [
    {
     "data": {
      "text/plain": [
       "array([0, 1, 1, 1, 0], dtype=int64)"
      ]
     },
     "execution_count": 25,
     "metadata": {},
     "output_type": "execute_result"
    }
   ],
   "source": [
    "#prediction of the first five rows\n",
    "model.predict([[3,True,22.0,1,0,7.25]])\n",
    "model.predict(x[:5]) \n",
    "y[:5]"
   ]
  },
  {
   "cell_type": "code",
   "execution_count": 26,
   "metadata": {},
   "outputs": [],
   "source": [
    "#creating an array for the y predicted values\n",
    "y_pred=model.predict(x)"
   ]
  },
  {
   "cell_type": "code",
   "execution_count": 27,
   "metadata": {},
   "outputs": [
    {
     "data": {
      "text/plain": [
       "array([0, 1, 0, 1, 0], dtype=int64)"
      ]
     },
     "execution_count": 27,
     "metadata": {},
     "output_type": "execute_result"
    }
   ],
   "source": [
    "y_pred"
   ]
  },
  {
   "cell_type": "code",
   "execution_count": 28,
   "metadata": {},
   "outputs": [
    {
     "data": {
      "text/plain": [
       "array([ True,  True, False,  True,  True])"
      ]
     },
     "execution_count": 28,
     "metadata": {},
     "output_type": "execute_result"
    }
   ],
   "source": [
    "#create an array of boolean values of whether or not our model predicted each passenger correctly\n",
    "y==y_pred"
   ]
  },
  {
   "cell_type": "code",
   "execution_count": 30,
   "metadata": {},
   "outputs": [
    {
     "data": {
      "text/plain": [
       "array([False, False, False, False, False])"
      ]
     },
     "execution_count": 30,
     "metadata": {},
     "output_type": "execute_result"
    }
   ],
   "source": [
    "\n",
    "y==y_pred.sum()"
   ]
  },
  {
   "cell_type": "code",
   "execution_count": 29,
   "metadata": {},
   "outputs": [
    {
     "data": {
      "text/plain": [
       "5"
      ]
     },
     "execution_count": 29,
     "metadata": {},
     "output_type": "execute_result"
    }
   ],
   "source": [
    "y.shape[0]"
   ]
  },
  {
   "cell_type": "code",
   "execution_count": 25,
   "metadata": {},
   "outputs": [
    {
     "data": {
      "text/plain": [
       "4"
      ]
     },
     "execution_count": 25,
     "metadata": {},
     "output_type": "execute_result"
    }
   ],
   "source": [
    "y_pred=model.predict(x)\n",
    "(y==y_pred).sum()"
   ]
  },
  {
   "cell_type": "code",
   "execution_count": 26,
   "metadata": {},
   "outputs": [
    {
     "data": {
      "text/plain": [
       "0.8"
      ]
     },
     "execution_count": 26,
     "metadata": {},
     "output_type": "execute_result"
    }
   ],
   "source": [
    "y_pred=model.predict(x)\n",
    "model.score(x,y)"
   ]
  },
  {
   "cell_type": "markdown",
   "metadata": {},
   "source": [
    "one can get the acuracy of the model by counting the number of datapoints it predicts correctly  "
   ]
  },
  {
   "cell_type": "code",
   "execution_count": 4,
   "metadata": {},
   "outputs": [
    {
     "name": "stderr",
     "output_type": "stream",
     "text": [
      "C:\\Users\\Makena\\Anaconda3\\lib\\site-packages\\sklearn\\linear_model\\logistic.py:432: FutureWarning: Default solver will be changed to 'lbfgs' in 0.22. Specify a solver to silence this warning.\n",
      "  FutureWarning)\n"
     ]
    },
    {
     "data": {
      "text/plain": [
       "array([0, 1, 1, 1, 0], dtype=int64)"
      ]
     },
     "execution_count": 4,
     "metadata": {},
     "output_type": "execute_result"
    }
   ],
   "source": [
    "import pandas as pd\n",
    "from sklearn.linear_model import LogisticRegression\n",
    "df=pd.read_csv(\"C:\\\\Users\\\\Makena\\\\Desktop\\\\python\\\\titanic.csv\")\n",
    "df[\"male\"]=df[\"sex\"]==\"male\"\n",
    "x=df[[\"pclass\",\"male\",\"age\",\"siblings/spouses\",\"parents/children\",\"fare\"]].values\n",
    "y=df[\"survived\"].values\n",
    "model=LogisticRegression()\n",
    "model.fit(x,y)\n",
    "prediction=model.predict(x)\n",
    "y #y is the true values and yprediction is the predicted values"
   ]
  },
  {
   "cell_type": "code",
   "execution_count": 40,
   "metadata": {},
   "outputs": [
    {
     "name": "stderr",
     "output_type": "stream",
     "text": [
      "C:\\Users\\Makena\\Anaconda3\\lib\\site-packages\\sklearn\\linear_model\\logistic.py:432: FutureWarning: Default solver will be changed to 'lbfgs' in 0.22. Specify a solver to silence this warning.\n",
      "  FutureWarning)\n"
     ]
    },
    {
     "data": {
      "text/plain": [
       "0.8"
      ]
     },
     "execution_count": 40,
     "metadata": {},
     "output_type": "execute_result"
    }
   ],
   "source": [
    "import pandas as pd\n",
    "from sklearn.linear_model import LogisticRegression\n",
    "data1=pd.read_csv(\"C:\\\\Users\\\\Makena\\\\Desktop\\\\python\\\\titanic.csv\")\n",
    "data1[\"male\"]=data1[\"sex\"]==\"male\"\n",
    "x=data1[[\"pclass\",\"male\",\"age\",\"siblings/spouses\",\"parents/children\",\"fare\"]].values\n",
    "y=data1[\"survived\"]\n",
    "model=LogisticRegression()\n",
    "model.fit(x,y)\n",
    "yprediction=model.predict(x)\n",
    "y==yprediction.sum()\n",
    "y.shape[0]\n",
    "model.score(x,y)"
   ]
  },
  {
   "cell_type": "code",
   "execution_count": 39,
   "metadata": {},
   "outputs": [
    {
     "data": {
      "text/plain": [
       "0    0\n",
       "1    1\n",
       "2    1\n",
       "3    1\n",
       "4    0\n",
       "Name: survived, dtype: int64"
      ]
     },
     "execution_count": 39,
     "metadata": {},
     "output_type": "execute_result"
    }
   ],
   "source": [
    "y"
   ]
  },
  {
   "cell_type": "code",
   "execution_count": 34,
   "metadata": {},
   "outputs": [
    {
     "data": {
      "text/plain": [
       "array([[3, True, 22, 1, 0, 7.25],\n",
       "       [1, False, 38, 1, 0, 71.2833],\n",
       "       [3, False, 26, 0, 0, 7.925],\n",
       "       [1, False, 35, 1, 0, 53.1],\n",
       "       [3, True, 35, 0, 0, 8.05]], dtype=object)"
      ]
     },
     "execution_count": 34,
     "metadata": {},
     "output_type": "execute_result"
    }
   ],
   "source": [
    "x"
   ]
  },
  {
   "cell_type": "code",
   "execution_count": 35,
   "metadata": {},
   "outputs": [
    {
     "data": {
      "text/plain": [
       "array([0, 1, 0, 1, 0], dtype=int64)"
      ]
     },
     "execution_count": 35,
     "metadata": {},
     "output_type": "execute_result"
    }
   ],
   "source": [
    "model.predict() used to make predictions"
   ]
  },
  {
   "cell_type": "markdown",
   "metadata": {},
   "source": [
    "# breast cancer dataset"
   ]
  },
  {
   "cell_type": "code",
   "execution_count": 38,
   "metadata": {},
   "outputs": [
    {
     "data": {
      "text/plain": [
       "'.. _breast_cancer_dataset:\\n\\nBreast cancer wisconsin (diagnostic) dataset\\n--------------------------------------------\\n\\n**Data Set Characteristics:**\\n\\n    :Number of Instances: 569\\n\\n    :Number of Attributes: 30 numeric, predictive attributes and the class\\n\\n    :Attribute Information:\\n        - radius (mean of distances from center to points on the perimeter)\\n        - texture (standard deviation of gray-scale values)\\n        - perimeter\\n        - area\\n        - smoothness (local variation in radius lengths)\\n        - compactness (perimeter^2 / area - 1.0)\\n        - concavity (severity of concave portions of the contour)\\n        - concave points (number of concave portions of the contour)\\n        - symmetry \\n        - fractal dimension (\"coastline approximation\" - 1)\\n\\n        The mean, standard error, and \"worst\" or largest (mean of the three\\n        largest values) of these features were computed for each image,\\n        resulting in 30 features.  For instance, field 3 is Mean Radius, field\\n        13 is Radius SE, field 23 is Worst Radius.\\n\\n        - class:\\n                - WDBC-Malignant\\n                - WDBC-Benign\\n\\n    :Summary Statistics:\\n\\n    ===================================== ====== ======\\n                                           Min    Max\\n    ===================================== ====== ======\\n    radius (mean):                        6.981  28.11\\n    texture (mean):                       9.71   39.28\\n    perimeter (mean):                     43.79  188.5\\n    area (mean):                          143.5  2501.0\\n    smoothness (mean):                    0.053  0.163\\n    compactness (mean):                   0.019  0.345\\n    concavity (mean):                     0.0    0.427\\n    concave points (mean):                0.0    0.201\\n    symmetry (mean):                      0.106  0.304\\n    fractal dimension (mean):             0.05   0.097\\n    radius (standard error):              0.112  2.873\\n    texture (standard error):             0.36   4.885\\n    perimeter (standard error):           0.757  21.98\\n    area (standard error):                6.802  542.2\\n    smoothness (standard error):          0.002  0.031\\n    compactness (standard error):         0.002  0.135\\n    concavity (standard error):           0.0    0.396\\n    concave points (standard error):      0.0    0.053\\n    symmetry (standard error):            0.008  0.079\\n    fractal dimension (standard error):   0.001  0.03\\n    radius (worst):                       7.93   36.04\\n    texture (worst):                      12.02  49.54\\n    perimeter (worst):                    50.41  251.2\\n    area (worst):                         185.2  4254.0\\n    smoothness (worst):                   0.071  0.223\\n    compactness (worst):                  0.027  1.058\\n    concavity (worst):                    0.0    1.252\\n    concave points (worst):               0.0    0.291\\n    symmetry (worst):                     0.156  0.664\\n    fractal dimension (worst):            0.055  0.208\\n    ===================================== ====== ======\\n\\n    :Missing Attribute Values: None\\n\\n    :Class Distribution: 212 - Malignant, 357 - Benign\\n\\n    :Creator:  Dr. William H. Wolberg, W. Nick Street, Olvi L. Mangasarian\\n\\n    :Donor: Nick Street\\n\\n    :Date: November, 1995\\n\\nThis is a copy of UCI ML Breast Cancer Wisconsin (Diagnostic) datasets.\\nhttps://goo.gl/U2Uwz2\\n\\nFeatures are computed from a digitized image of a fine needle\\naspirate (FNA) of a breast mass.  They describe\\ncharacteristics of the cell nuclei present in the image.\\n\\nSeparating plane described above was obtained using\\nMultisurface Method-Tree (MSM-T) [K. P. Bennett, \"Decision Tree\\nConstruction Via Linear Programming.\" Proceedings of the 4th\\nMidwest Artificial Intelligence and Cognitive Science Society,\\npp. 97-101, 1992], a classification method which uses linear\\nprogramming to construct a decision tree.  Relevant features\\nwere selected using an exhaustive search in the space of 1-4\\nfeatures and 1-3 separating planes.\\n\\nThe actual linear program used to obtain the separating plane\\nin the 3-dimensional space is that described in:\\n[K. P. Bennett and O. L. Mangasarian: \"Robust Linear\\nProgramming Discrimination of Two Linearly Inseparable Sets\",\\nOptimization Methods and Software 1, 1992, 23-34].\\n\\nThis database is also available through the UW CS ftp server:\\n\\nftp ftp.cs.wisc.edu\\ncd math-prog/cpo-dataset/machine-learn/WDBC/\\n\\n.. topic:: References\\n\\n   - W.N. Street, W.H. Wolberg and O.L. Mangasarian. Nuclear feature extraction \\n     for breast tumor diagnosis. IS&T/SPIE 1993 International Symposium on \\n     Electronic Imaging: Science and Technology, volume 1905, pages 861-870,\\n     San Jose, CA, 1993.\\n   - O.L. Mangasarian, W.N. Street and W.H. Wolberg. Breast cancer diagnosis and \\n     prognosis via linear programming. Operations Research, 43(4), pages 570-577, \\n     July-August 1995.\\n   - W.H. Wolberg, W.N. Street, and O.L. Mangasarian. Machine learning techniques\\n     to diagnose breast cancer from fine-needle aspirates. Cancer Letters 77 (1994) \\n     163-171.'"
      ]
     },
     "execution_count": 38,
     "metadata": {},
     "output_type": "execute_result"
    }
   ],
   "source": [
    "import pandas as pd\n",
    "from sklearn.datasets import load_breast_cancer\n",
    "cancerdata=load_breast_cancer()\n",
    "cancerdata.keys()\n",
    "cancerdata[\"DESCR\"]"
   ]
  },
  {
   "cell_type": "code",
   "execution_count": 41,
   "metadata": {},
   "outputs": [
    {
     "data": {
      "text/plain": [
       "(569, 30)"
      ]
     },
     "execution_count": 41,
     "metadata": {},
     "output_type": "execute_result"
    }
   ],
   "source": [
    "cancerdata[\"data\"].shape #has 569 rows and 30 columns becauuse we have 569 datapoints and 30features"
   ]
  },
  {
   "cell_type": "markdown",
   "metadata": {},
   "source": [
    "in order to put this in pandas data frame and make it more human readable we want the column names and they are stored in the \"feature_names\" key."
   ]
  },
  {
   "cell_type": "code",
   "execution_count": 46,
   "metadata": {},
   "outputs": [
    {
     "data": {
      "text/plain": [
       "array(['mean radius', 'mean texture', 'mean perimeter', 'mean area',\n",
       "       'mean smoothness', 'mean compactness', 'mean concavity',\n",
       "       'mean concave points', 'mean symmetry', 'mean fractal dimension',\n",
       "       'radius error', 'texture error', 'perimeter error', 'area error',\n",
       "       'smoothness error', 'compactness error', 'concavity error',\n",
       "       'concave points error', 'symmetry error',\n",
       "       'fractal dimension error', 'worst radius', 'worst texture',\n",
       "       'worst perimeter', 'worst area', 'worst smoothness',\n",
       "       'worst compactness', 'worst concavity', 'worst concave points',\n",
       "       'worst symmetry', 'worst fractal dimension'], dtype='<U23')"
      ]
     },
     "execution_count": 46,
     "metadata": {},
     "output_type": "execute_result"
    }
   ],
   "source": [
    "import pandas as pd\n",
    "from sklearn.datasets import load_breast_cancer\n",
    "cancerdata=load_breast_cancer()\n",
    "cancerdata[\"feature_names\"]"
   ]
  },
  {
   "cell_type": "code",
   "execution_count": null,
   "metadata": {},
   "outputs": [],
   "source": [
    "now lets form a pandas data frame "
   ]
  },
  {
   "cell_type": "code",
   "execution_count": 49,
   "metadata": {},
   "outputs": [
    {
     "data": {
      "text/html": [
       "<div>\n",
       "<style scoped>\n",
       "    .dataframe tbody tr th:only-of-type {\n",
       "        vertical-align: middle;\n",
       "    }\n",
       "\n",
       "    .dataframe tbody tr th {\n",
       "        vertical-align: top;\n",
       "    }\n",
       "\n",
       "    .dataframe thead th {\n",
       "        text-align: right;\n",
       "    }\n",
       "</style>\n",
       "<table border=\"1\" class=\"dataframe\">\n",
       "  <thead>\n",
       "    <tr style=\"text-align: right;\">\n",
       "      <th></th>\n",
       "      <th>mean radius</th>\n",
       "      <th>mean texture</th>\n",
       "      <th>mean perimeter</th>\n",
       "      <th>mean area</th>\n",
       "      <th>mean smoothness</th>\n",
       "      <th>mean compactness</th>\n",
       "      <th>mean concavity</th>\n",
       "      <th>mean concave points</th>\n",
       "      <th>mean symmetry</th>\n",
       "      <th>mean fractal dimension</th>\n",
       "      <th>...</th>\n",
       "      <th>worst radius</th>\n",
       "      <th>worst texture</th>\n",
       "      <th>worst perimeter</th>\n",
       "      <th>worst area</th>\n",
       "      <th>worst smoothness</th>\n",
       "      <th>worst compactness</th>\n",
       "      <th>worst concavity</th>\n",
       "      <th>worst concave points</th>\n",
       "      <th>worst symmetry</th>\n",
       "      <th>worst fractal dimension</th>\n",
       "    </tr>\n",
       "  </thead>\n",
       "  <tbody>\n",
       "    <tr>\n",
       "      <td>0</td>\n",
       "      <td>17.99</td>\n",
       "      <td>10.38</td>\n",
       "      <td>122.80</td>\n",
       "      <td>1001.0</td>\n",
       "      <td>0.11840</td>\n",
       "      <td>0.27760</td>\n",
       "      <td>0.3001</td>\n",
       "      <td>0.14710</td>\n",
       "      <td>0.2419</td>\n",
       "      <td>0.07871</td>\n",
       "      <td>...</td>\n",
       "      <td>25.38</td>\n",
       "      <td>17.33</td>\n",
       "      <td>184.60</td>\n",
       "      <td>2019.0</td>\n",
       "      <td>0.1622</td>\n",
       "      <td>0.6656</td>\n",
       "      <td>0.7119</td>\n",
       "      <td>0.2654</td>\n",
       "      <td>0.4601</td>\n",
       "      <td>0.11890</td>\n",
       "    </tr>\n",
       "    <tr>\n",
       "      <td>1</td>\n",
       "      <td>20.57</td>\n",
       "      <td>17.77</td>\n",
       "      <td>132.90</td>\n",
       "      <td>1326.0</td>\n",
       "      <td>0.08474</td>\n",
       "      <td>0.07864</td>\n",
       "      <td>0.0869</td>\n",
       "      <td>0.07017</td>\n",
       "      <td>0.1812</td>\n",
       "      <td>0.05667</td>\n",
       "      <td>...</td>\n",
       "      <td>24.99</td>\n",
       "      <td>23.41</td>\n",
       "      <td>158.80</td>\n",
       "      <td>1956.0</td>\n",
       "      <td>0.1238</td>\n",
       "      <td>0.1866</td>\n",
       "      <td>0.2416</td>\n",
       "      <td>0.1860</td>\n",
       "      <td>0.2750</td>\n",
       "      <td>0.08902</td>\n",
       "    </tr>\n",
       "    <tr>\n",
       "      <td>2</td>\n",
       "      <td>19.69</td>\n",
       "      <td>21.25</td>\n",
       "      <td>130.00</td>\n",
       "      <td>1203.0</td>\n",
       "      <td>0.10960</td>\n",
       "      <td>0.15990</td>\n",
       "      <td>0.1974</td>\n",
       "      <td>0.12790</td>\n",
       "      <td>0.2069</td>\n",
       "      <td>0.05999</td>\n",
       "      <td>...</td>\n",
       "      <td>23.57</td>\n",
       "      <td>25.53</td>\n",
       "      <td>152.50</td>\n",
       "      <td>1709.0</td>\n",
       "      <td>0.1444</td>\n",
       "      <td>0.4245</td>\n",
       "      <td>0.4504</td>\n",
       "      <td>0.2430</td>\n",
       "      <td>0.3613</td>\n",
       "      <td>0.08758</td>\n",
       "    </tr>\n",
       "    <tr>\n",
       "      <td>3</td>\n",
       "      <td>11.42</td>\n",
       "      <td>20.38</td>\n",
       "      <td>77.58</td>\n",
       "      <td>386.1</td>\n",
       "      <td>0.14250</td>\n",
       "      <td>0.28390</td>\n",
       "      <td>0.2414</td>\n",
       "      <td>0.10520</td>\n",
       "      <td>0.2597</td>\n",
       "      <td>0.09744</td>\n",
       "      <td>...</td>\n",
       "      <td>14.91</td>\n",
       "      <td>26.50</td>\n",
       "      <td>98.87</td>\n",
       "      <td>567.7</td>\n",
       "      <td>0.2098</td>\n",
       "      <td>0.8663</td>\n",
       "      <td>0.6869</td>\n",
       "      <td>0.2575</td>\n",
       "      <td>0.6638</td>\n",
       "      <td>0.17300</td>\n",
       "    </tr>\n",
       "    <tr>\n",
       "      <td>4</td>\n",
       "      <td>20.29</td>\n",
       "      <td>14.34</td>\n",
       "      <td>135.10</td>\n",
       "      <td>1297.0</td>\n",
       "      <td>0.10030</td>\n",
       "      <td>0.13280</td>\n",
       "      <td>0.1980</td>\n",
       "      <td>0.10430</td>\n",
       "      <td>0.1809</td>\n",
       "      <td>0.05883</td>\n",
       "      <td>...</td>\n",
       "      <td>22.54</td>\n",
       "      <td>16.67</td>\n",
       "      <td>152.20</td>\n",
       "      <td>1575.0</td>\n",
       "      <td>0.1374</td>\n",
       "      <td>0.2050</td>\n",
       "      <td>0.4000</td>\n",
       "      <td>0.1625</td>\n",
       "      <td>0.2364</td>\n",
       "      <td>0.07678</td>\n",
       "    </tr>\n",
       "  </tbody>\n",
       "</table>\n",
       "<p>5 rows × 30 columns</p>\n",
       "</div>"
      ],
      "text/plain": [
       "   mean radius  mean texture  mean perimeter  mean area  mean smoothness  \\\n",
       "0        17.99         10.38          122.80     1001.0          0.11840   \n",
       "1        20.57         17.77          132.90     1326.0          0.08474   \n",
       "2        19.69         21.25          130.00     1203.0          0.10960   \n",
       "3        11.42         20.38           77.58      386.1          0.14250   \n",
       "4        20.29         14.34          135.10     1297.0          0.10030   \n",
       "\n",
       "   mean compactness  mean concavity  mean concave points  mean symmetry  \\\n",
       "0           0.27760          0.3001              0.14710         0.2419   \n",
       "1           0.07864          0.0869              0.07017         0.1812   \n",
       "2           0.15990          0.1974              0.12790         0.2069   \n",
       "3           0.28390          0.2414              0.10520         0.2597   \n",
       "4           0.13280          0.1980              0.10430         0.1809   \n",
       "\n",
       "   mean fractal dimension  ...  worst radius  worst texture  worst perimeter  \\\n",
       "0                 0.07871  ...         25.38          17.33           184.60   \n",
       "1                 0.05667  ...         24.99          23.41           158.80   \n",
       "2                 0.05999  ...         23.57          25.53           152.50   \n",
       "3                 0.09744  ...         14.91          26.50            98.87   \n",
       "4                 0.05883  ...         22.54          16.67           152.20   \n",
       "\n",
       "   worst area  worst smoothness  worst compactness  worst concavity  \\\n",
       "0      2019.0            0.1622             0.6656           0.7119   \n",
       "1      1956.0            0.1238             0.1866           0.2416   \n",
       "2      1709.0            0.1444             0.4245           0.4504   \n",
       "3       567.7            0.2098             0.8663           0.6869   \n",
       "4      1575.0            0.1374             0.2050           0.4000   \n",
       "\n",
       "   worst concave points  worst symmetry  worst fractal dimension  \n",
       "0                0.2654          0.4601                  0.11890  \n",
       "1                0.1860          0.2750                  0.08902  \n",
       "2                0.2430          0.3613                  0.08758  \n",
       "3                0.2575          0.6638                  0.17300  \n",
       "4                0.1625          0.2364                  0.07678  \n",
       "\n",
       "[5 rows x 30 columns]"
      ]
     },
     "execution_count": 49,
     "metadata": {},
     "output_type": "execute_result"
    }
   ],
   "source": [
    "import pandas as pd\n",
    "from sklearn.datasets import load_breast_cancer\n",
    "cancerdata=load_breast_cancer()\n",
    "df=pd.DataFrame(cancerdata[\"data\"],columns=cancerdata[\"feature_names\"])\n",
    "df.head()"
   ]
  },
  {
   "cell_type": "markdown",
   "metadata": {},
   "source": [
    "in this case a target of 0 means malignant and 1 means benign  "
   ]
  },
  {
   "cell_type": "code",
   "execution_count": 52,
   "metadata": {},
   "outputs": [
    {
     "name": "stdout",
     "output_type": "stream",
     "text": [
      "prediction for datapoint 0: [0]\n"
     ]
    },
    {
     "data": {
      "text/plain": [
       "0.9595782073813708"
      ]
     },
     "execution_count": 52,
     "metadata": {},
     "output_type": "execute_result"
    }
   ],
   "source": [
    "import pandas as pd\n",
    "from sklearn.datasets import load_breast_cancer\n",
    "from sklearn.linear_model import LogisticRegression\n",
    "cancerdata=load_breast_cancer()\n",
    "df=pd.DataFrame(cancerdata[\"data\"],columns=cancerdata[\"feature_names\"])\n",
    "df[\"target\"]=cancerdata[\"target\"]\n",
    "x=df[cancerdata.feature_names].values\n",
    "y=df[\"target\"].values\n",
    "model=LogisticRegression(solver=\"liblinear\")\n",
    "model.fit(x,y)\n",
    "print(\"prediction for datapoint 0:\", model.predict([x[0]]))\n",
    "model.score(x,y)\n",
    "                                            "
   ]
  },
  {
   "cell_type": "code",
   "execution_count": 2,
   "metadata": {},
   "outputs": [
    {
     "data": {
      "text/plain": [
       "(array([[ 2.10133328e+00,  1.22048269e-01, -5.73563909e-02,\n",
       "         -3.59426002e-03, -1.53787056e-01, -3.99851347e-01,\n",
       "         -6.43594083e-01, -3.40198652e-01, -2.25912127e-01,\n",
       "         -2.60041112e-02, -2.59521806e-02,  1.24814938e+00,\n",
       "          1.61584272e-03, -9.46636080e-02, -1.68457243e-02,\n",
       "          6.96298555e-03, -4.64501120e-02, -3.99883360e-02,\n",
       "         -4.22211679e-02,  6.40657161e-03,  1.24531358e+00,\n",
       "         -3.46269485e-01, -1.25741558e-01, -2.39928721e-02,\n",
       "         -2.84647551e-01, -1.11868895e+00, -1.57192780e+00,\n",
       "         -6.53832308e-01, -6.90301939e-01, -1.12870122e-01]]),\n",
       " array([0.39033943]))"
      ]
     },
     "execution_count": 2,
     "metadata": {},
     "output_type": "execute_result"
    }
   ],
   "source": [
    "import pandas as pd\n",
    "from sklearn.datasets import load_breast_cancer\n",
    "from sklearn.linear_model import LogisticRegression\n",
    "cancerdata=load_breast_cancer()\n",
    "df=pd.DataFrame(cancerdata[\"data\"],columns=cancerdata[\"feature_names\"])\n",
    "df[\"target\"]=cancerdata[\"target\"]\n",
    "x=df[cancerdata.feature_names].values\n",
    "y=df[\"target\"].values\n",
    "model=LogisticRegression(solver=\"liblinear\")\n",
    "model.fit(x,y)\n",
    "model.coef_,model.intercept_\n",
    "\n"
   ]
  },
  {
   "cell_type": "markdown",
   "metadata": {},
   "source": [
    "# model evaluation"
   ]
  },
  {
   "cell_type": "markdown",
   "metadata": {},
   "source": [
    "accuracy,precision,recall and F1score"
   ]
  },
  {
   "cell_type": "code",
   "execution_count": 27,
   "metadata": {},
   "outputs": [
    {
     "name": "stdout",
     "output_type": "stream",
     "text": [
      "accuracy:  0.8\n",
      "precision:  1.0\n",
      "recall:  0.6666666666666666\n",
      "F1 score:  0.8\n"
     ]
    },
    {
     "name": "stderr",
     "output_type": "stream",
     "text": [
      "C:\\Users\\Makena\\Anaconda3\\lib\\site-packages\\sklearn\\linear_model\\logistic.py:432: FutureWarning: Default solver will be changed to 'lbfgs' in 0.22. Specify a solver to silence this warning.\n",
      "  FutureWarning)\n"
     ]
    }
   ],
   "source": [
    "import pandas as pd\n",
    "from sklearn.linear_model import LogisticRegression\n",
    "from sklearn.metrics import accuracy_score, precision_score, recall_score, f1_score\n",
    "df=pd.read_csv(\"C:\\\\Users\\\\Makena\\\\Desktop\\\\python\\\\titanic.csv\")\n",
    "df[\"male\"]=df[\"sex\"]==\"male\"\n",
    "x=df[[\"pclass\",\"male\",\"age\",\"siblings/spouses\",\"parents/children\",\"fare\"]].values\n",
    "y=df[\"survived\"].values\n",
    "model=LogisticRegression()\n",
    "model.fit(x,y)\n",
    "yprediction=model.predict(x)\n",
    "print(\"accuracy: \",accuracy_score(y,yprediction))\n",
    "print(\"precision: \",precision_score(y,yprediction))\n",
    "print(\"recall: \",recall_score(y,yprediction))\n",
    "print(\"F1 score: \",f1_score(y,yprediction))\n",
    "\n"
   ]
  },
  {
   "cell_type": "markdown",
   "metadata": {},
   "source": [
    "confusion matrix"
   ]
  },
  {
   "cell_type": "code",
   "execution_count": 9,
   "metadata": {},
   "outputs": [
    {
     "name": "stdout",
     "output_type": "stream",
     "text": [
      "confusion matrix:  [[2 0]\n",
      " [1 2]]\n"
     ]
    },
    {
     "name": "stderr",
     "output_type": "stream",
     "text": [
      "C:\\Users\\Makena\\Anaconda3\\lib\\site-packages\\sklearn\\linear_model\\logistic.py:432: FutureWarning: Default solver will be changed to 'lbfgs' in 0.22. Specify a solver to silence this warning.\n",
      "  FutureWarning)\n"
     ]
    }
   ],
   "source": [
    "import pandas as pd\n",
    "from sklearn.linear_model import LogisticRegression\n",
    "from sklearn.metrics import confusion_matrix\n",
    "df=pd.read_csv(\"C:\\\\Users\\\\Makena\\\\Desktop\\\\python\\\\titanic.csv\")\n",
    "df[\"male\"]=df[\"sex\"]==\"male\"\n",
    "x=df[[\"pclass\",\"male\",\"age\",\"siblings/spouses\",\"parents/children\",\"fare\"]].values\n",
    "y=df[\"survived\"].values\n",
    "model=LogisticRegression()\n",
    "model.fit(x,y)\n",
    "yprediction=model.predict(x)\n",
    "print(\"confusion matrix: \",confusion_matrix(y,yprediction))\n"
   ]
  },
  {
   "cell_type": "markdown",
   "metadata": {},
   "source": [
    "training and testing in sklearn"
   ]
  },
  {
   "cell_type": "code",
   "execution_count": 11,
   "metadata": {},
   "outputs": [
    {
     "name": "stdout",
     "output_type": "stream",
     "text": [
      "whole dataset:  (5, 6) (5,)\n",
      "training set:  (3, 6) (3,)\n",
      "test set:  (2, 6) (2,)\n"
     ]
    }
   ],
   "source": [
    "import pandas as pd\n",
    "from sklearn.linear_model import LogisticRegression\n",
    "from sklearn.model_selection import train_test_split\n",
    "df=pd.read_csv(\"C:\\\\Users\\\\Makena\\\\Desktop\\\\python\\\\titanic.csv\")\n",
    "df[\"male\"]=df[\"sex\"]==\"male\"\n",
    "x=df[[\"pclass\",\"male\",\"age\",\"siblings/spouses\",\"parents/children\",\"fare\"]].values\n",
    "y=df[\"survived\"].values\n",
    "x_train,x_test,y_train,y_test=train_test_split(x,y) #here we can change the size of the training set by adding the train_size parameter eg train_test_split(x,y,train_size=0.6) which mean train:test is 60%:40%\n",
    "print(\"whole dataset: \",x.shape,y.shape)\n",
    "print(\"training set: \",x_train.shape,y_train.shape)\n",
    "print(\"test set: \",x_test.shape,y_test.shape)"
   ]
  },
  {
   "cell_type": "markdown",
   "metadata": {},
   "source": [
    "building a model using the training set "
   ]
  },
  {
   "cell_type": "code",
   "execution_count": 34,
   "metadata": {},
   "outputs": [
    {
     "name": "stdout",
     "output_type": "stream",
     "text": [
      "accuracy: 0.5\n",
      "precision:  1.0\n",
      "recall: 0.5\n",
      "f1 score: 0.6666666666666666\n"
     ]
    },
    {
     "name": "stderr",
     "output_type": "stream",
     "text": [
      "C:\\Users\\Makena\\Anaconda3\\lib\\site-packages\\sklearn\\linear_model\\logistic.py:432: FutureWarning: Default solver will be changed to 'lbfgs' in 0.22. Specify a solver to silence this warning.\n",
      "  FutureWarning)\n"
     ]
    }
   ],
   "source": [
    "import pandas as pd\n",
    "from sklearn.linear_model import LogisticRegression\n",
    "from sklearn.metrics import accuracy_score, precision_score, recall_score, f1_score\n",
    "from sklearn.model_selection import train_test_split\n",
    "\n",
    "df=pd.read_csv(\"C:\\\\Users\\\\Makena\\\\Desktop\\\\python\\\\titanic.csv\")\n",
    "df[\"male\"]=df[\"sex\"]==\"male\"\n",
    "x=df[[\"pclass\",\"male\",\"age\",\"siblings/spouses\",\"parents/children\",\"fare\"]].values\n",
    "y=df[\"survived\"].values\n",
    "\n",
    "x_train,x_test,y_train,y_test=train_test_split(x,y,random_state=27)\n",
    "#building the model\n",
    "model=LogisticRegression()\n",
    "model.fit(x_train,y_train)\n",
    "#evaluating the model\n",
    "#print(\"accuracy:\",model.score(x_test,y_test))\n",
    "ypred=model.predict(x_test)\n",
    "print(\"accuracy:\",accuracy_score(y_test,ypred))\n",
    "print(\"precision: \",precision_score(y_test,ypred))\n",
    "print(\"recall:\",recall_score(y_test,ypred))\n",
    "print(\"f1 score:\",f1_score(y_test,ypred))\n"
   ]
  },
  {
   "cell_type": "markdown",
   "metadata": {},
   "source": [
    "our accuracy, precision, recall and f1 scores are not similar to the the values when we used the entire dataset"
   ]
  },
  {
   "cell_type": "code",
   "execution_count": 30,
   "metadata": {},
   "outputs": [
    {
     "name": "stdout",
     "output_type": "stream",
     "text": [
      "accuracy: 0.5\n",
      "precision: 0.5\n",
      "recall: 0.5\n",
      "f1 score: 0.5\n"
     ]
    },
    {
     "name": "stderr",
     "output_type": "stream",
     "text": [
      "C:\\Users\\Makena\\Anaconda3\\lib\\site-packages\\sklearn\\linear_model\\logistic.py:432: FutureWarning: Default solver will be changed to 'lbfgs' in 0.22. Specify a solver to silence this warning.\n",
      "  FutureWarning)\n"
     ]
    }
   ],
   "source": [
    "#alternative of the above\n",
    "import pandas as pd\n",
    "from sklearn.linear_model import LogisticRegression\n",
    "from sklearn.metrics import accuracy_score, precision_score, recall_score, f1_score\n",
    "from sklearn.model_selection import train_test_split\n",
    "\n",
    "df=pd.read_csv(\"C:\\\\Users\\\\Makena\\\\Desktop\\\\python\\\\titanic.csv\")\n",
    "df[\"male\"]=df[\"sex\"]==\"male\"\n",
    "x=df[[\"pclass\",\"male\",\"age\",\"siblings/spouses\",\"parents/children\",\"fare\"]].values\n",
    "y=df[\"survived\"].values\n",
    "\n",
    "x_train,x_test,y_train,y_test=train_test_split(x,y,random_state=27)\n",
    "\n",
    "model=LogisticRegression()\n",
    "model.fit(x_train,y_train)\n",
    "\n",
    "ypred=model.predict(x_test)\n",
    "print(\"accuracy:\",model.score(x_test,y_test))\n",
    "print(\"precision:\",model.score(x_test,y_test))\n",
    "print(\"recall:\",model.score(x_test,y_test))\n",
    "print(\"f1 score:\",model.score(x_test,y_test))\n"
   ]
  },
  {
   "cell_type": "markdown",
   "metadata": {},
   "source": [
    "everytime we run the above code we get different values.\n",
    "This is because of randomness and we need it to be random for it to be effective but thsi sometimes make it difficult to test thr code\n",
    "to get the same split everytime we use to random_state attribute  and choose an arbitrary number tp give it"
   ]
  },
  {
   "cell_type": "markdown",
   "metadata": {},
   "source": [
    "sensitivity and specificity"
   ]
  },
  {
   "cell_type": "code",
   "execution_count": 44,
   "metadata": {},
   "outputs": [
    {
     "name": "stdout",
     "output_type": "stream",
     "text": [
      "0.0\n"
     ]
    }
   ],
   "source": [
    "#sensitivity\n",
    "from sklearn.metrics import recall_score\n",
    "sensitive_score=recall_score\n",
    "print(sensitivity_score(y_test,ypred))"
   ]
  },
  {
   "cell_type": "code",
   "execution_count": 45,
   "metadata": {},
   "outputs": [
    {
     "name": "stdout",
     "output_type": "stream",
     "text": [
      "(array([1., 0.]), array([0.5, 0. ]), array([0.66666667, 0.        ]), array([2, 0], dtype=int64))\n"
     ]
    }
   ],
   "source": [
    "#specificity\n",
    "from sklearn.metrics import precision_recall_fscore_support\n",
    "print(precision_recall_fscore_support(y_test,ypred))"
   ]
  },
  {
   "cell_type": "markdown",
   "metadata": {},
   "source": [
    "in the above the second array is the recall. the second array has two values. \n",
    "the first value is the reacll of the -ve class and the second is the recall of the +ve class.\n",
    "so the second value is the sensitivity and the first is the specificity \n",
    "so we need a function to get the value of specificity"
   ]
  },
  {
   "cell_type": "code",
   "execution_count": 47,
   "metadata": {},
   "outputs": [
    {
     "name": "stdout",
     "output_type": "stream",
     "text": [
      "[0]\n"
     ]
    }
   ],
   "source": [
    "def specificity(y_true,ypred):\n",
    "    p,r,f,s=precision_recall_fscore_support(y_true,ypred)\n",
    "    return r[0]\n",
    "print(specificity_score(y_test,ypred))"
   ]
  },
  {
   "cell_type": "code",
   "execution_count": 56,
   "metadata": {},
   "outputs": [
    {
     "name": "stderr",
     "output_type": "stream",
     "text": [
      "C:\\Users\\Makena\\Anaconda3\\lib\\site-packages\\sklearn\\linear_model\\logistic.py:432: FutureWarning: Default solver will be changed to 'lbfgs' in 0.22. Specify a solver to silence this warning.\n",
      "  FutureWarning)\n"
     ]
    },
    {
     "ename": "ValueError",
     "evalue": "This solver needs samples of at least 2 classes in the data, but the data contains only one class: 1",
     "output_type": "error",
     "traceback": [
      "\u001b[1;31m---------------------------------------------------------------------------\u001b[0m",
      "\u001b[1;31mValueError\u001b[0m                                Traceback (most recent call last)",
      "\u001b[1;32m<ipython-input-56-12eccec58357>\u001b[0m in \u001b[0;36m<module>\u001b[1;34m\u001b[0m\n\u001b[0;32m     17\u001b[0m \u001b[1;33m\u001b[0m\u001b[0m\n\u001b[0;32m     18\u001b[0m \u001b[0mmodel\u001b[0m\u001b[1;33m=\u001b[0m\u001b[0mLogisticRegression\u001b[0m\u001b[1;33m(\u001b[0m\u001b[1;33m)\u001b[0m\u001b[1;33m\u001b[0m\u001b[1;33m\u001b[0m\u001b[0m\n\u001b[1;32m---> 19\u001b[1;33m \u001b[0mmodel\u001b[0m\u001b[1;33m.\u001b[0m\u001b[0mfit\u001b[0m\u001b[1;33m(\u001b[0m\u001b[0mx_train\u001b[0m\u001b[1;33m,\u001b[0m\u001b[0my_train\u001b[0m\u001b[1;33m)\u001b[0m\u001b[1;33m\u001b[0m\u001b[1;33m\u001b[0m\u001b[0m\n\u001b[0m\u001b[0;32m     20\u001b[0m \u001b[1;33m\u001b[0m\u001b[0m\n\u001b[0;32m     21\u001b[0m \u001b[0mypred\u001b[0m\u001b[1;33m=\u001b[0m\u001b[0mmodel\u001b[0m\u001b[1;33m.\u001b[0m\u001b[0mpredict\u001b[0m\u001b[1;33m(\u001b[0m\u001b[0mx_test\u001b[0m\u001b[1;33m)\u001b[0m\u001b[1;33m\u001b[0m\u001b[1;33m\u001b[0m\u001b[0m\n",
      "\u001b[1;32m~\\Anaconda3\\lib\\site-packages\\sklearn\\linear_model\\logistic.py\u001b[0m in \u001b[0;36mfit\u001b[1;34m(self, X, y, sample_weight)\u001b[0m\n\u001b[0;32m   1547\u001b[0m                 \u001b[0mself\u001b[0m\u001b[1;33m.\u001b[0m\u001b[0mclass_weight\u001b[0m\u001b[1;33m,\u001b[0m \u001b[0mself\u001b[0m\u001b[1;33m.\u001b[0m\u001b[0mpenalty\u001b[0m\u001b[1;33m,\u001b[0m \u001b[0mself\u001b[0m\u001b[1;33m.\u001b[0m\u001b[0mdual\u001b[0m\u001b[1;33m,\u001b[0m \u001b[0mself\u001b[0m\u001b[1;33m.\u001b[0m\u001b[0mverbose\u001b[0m\u001b[1;33m,\u001b[0m\u001b[1;33m\u001b[0m\u001b[1;33m\u001b[0m\u001b[0m\n\u001b[0;32m   1548\u001b[0m                 \u001b[0mself\u001b[0m\u001b[1;33m.\u001b[0m\u001b[0mmax_iter\u001b[0m\u001b[1;33m,\u001b[0m \u001b[0mself\u001b[0m\u001b[1;33m.\u001b[0m\u001b[0mtol\u001b[0m\u001b[1;33m,\u001b[0m \u001b[0mself\u001b[0m\u001b[1;33m.\u001b[0m\u001b[0mrandom_state\u001b[0m\u001b[1;33m,\u001b[0m\u001b[1;33m\u001b[0m\u001b[1;33m\u001b[0m\u001b[0m\n\u001b[1;32m-> 1549\u001b[1;33m                 sample_weight=sample_weight)\n\u001b[0m\u001b[0;32m   1550\u001b[0m             \u001b[0mself\u001b[0m\u001b[1;33m.\u001b[0m\u001b[0mn_iter_\u001b[0m \u001b[1;33m=\u001b[0m \u001b[0mnp\u001b[0m\u001b[1;33m.\u001b[0m\u001b[0marray\u001b[0m\u001b[1;33m(\u001b[0m\u001b[1;33m[\u001b[0m\u001b[0mn_iter_\u001b[0m\u001b[1;33m]\u001b[0m\u001b[1;33m)\u001b[0m\u001b[1;33m\u001b[0m\u001b[1;33m\u001b[0m\u001b[0m\n\u001b[0;32m   1551\u001b[0m             \u001b[1;32mreturn\u001b[0m \u001b[0mself\u001b[0m\u001b[1;33m\u001b[0m\u001b[1;33m\u001b[0m\u001b[0m\n",
      "\u001b[1;32m~\\Anaconda3\\lib\\site-packages\\sklearn\\svm\\base.py\u001b[0m in \u001b[0;36m_fit_liblinear\u001b[1;34m(X, y, C, fit_intercept, intercept_scaling, class_weight, penalty, dual, verbose, max_iter, tol, random_state, multi_class, loss, epsilon, sample_weight)\u001b[0m\n\u001b[0;32m    877\u001b[0m             raise ValueError(\"This solver needs samples of at least 2 classes\"\n\u001b[0;32m    878\u001b[0m                              \u001b[1;34m\" in the data, but the data contains only one\"\u001b[0m\u001b[1;33m\u001b[0m\u001b[1;33m\u001b[0m\u001b[0m\n\u001b[1;32m--> 879\u001b[1;33m                              \" class: %r\" % classes_[0])\n\u001b[0m\u001b[0;32m    880\u001b[0m \u001b[1;33m\u001b[0m\u001b[0m\n\u001b[0;32m    881\u001b[0m         \u001b[0mclass_weight_\u001b[0m \u001b[1;33m=\u001b[0m \u001b[0mcompute_class_weight\u001b[0m\u001b[1;33m(\u001b[0m\u001b[0mclass_weight\u001b[0m\u001b[1;33m,\u001b[0m \u001b[0mclasses_\u001b[0m\u001b[1;33m,\u001b[0m \u001b[0my\u001b[0m\u001b[1;33m)\u001b[0m\u001b[1;33m\u001b[0m\u001b[1;33m\u001b[0m\u001b[0m\n",
      "\u001b[1;31mValueError\u001b[0m: This solver needs samples of at least 2 classes in the data, but the data contains only one class: 1"
     ]
    }
   ],
   "source": [
    "import pandas as pd\n",
    "from sklearn.linear_model import LogisticRegression\n",
    "from sklearn.model_selection import train_test_split\n",
    "from sklearn.metrics import recall_score,precision_recall_fscore_support\n",
    "\n",
    "sensitivity_score=recall_score\n",
    "def specificity_score(y_true,ypred):\n",
    "    p,r,f,s=precision_recall_fscore_support(y_true,ypred)\n",
    "    return r[0]\n",
    "\n",
    "df=pd.read_csv(\"C:\\\\Users\\\\Makena\\\\Desktop\\\\python\\\\titanic.csv\")\n",
    "df[\"male\"]=df[\"sex\"]==\"male\"\n",
    "x=df[[\"pclass\",\"male\",\"age\",\"siblings/spouses\",\"parents/children\",\"fare\"]].values\n",
    "y=df[\"survived\"].values\n",
    "\n",
    "x_train,x_test,y_train,y_test=train_test_split(x,y,random_state=5)\n",
    "\n",
    "model=LogisticRegression()\n",
    "model.fit(x_train,y_train)\n",
    "\n",
    "ypred=model.predict(x_test)\n",
    "print(\"sensitivity: \",sensitivity_score(y_test,ypred))\n",
    "print(\"specificity: \",specificity_score(y_test,ypred))\n"
   ]
  },
  {
   "cell_type": "code",
   "execution_count": 59,
   "metadata": {},
   "outputs": [
    {
     "name": "stderr",
     "output_type": "stream",
     "text": [
      "C:\\Users\\Makena\\Anaconda3\\lib\\site-packages\\sklearn\\linear_model\\logistic.py:432: FutureWarning: Default solver will be changed to 'lbfgs' in 0.22. Specify a solver to silence this warning.\n",
      "  FutureWarning)\n"
     ]
    },
    {
     "ename": "ValueError",
     "evalue": "This solver needs samples of at least 2 classes in the data, but the data contains only one class: 1",
     "output_type": "error",
     "traceback": [
      "\u001b[1;31m---------------------------------------------------------------------------\u001b[0m",
      "\u001b[1;31mValueError\u001b[0m                                Traceback (most recent call last)",
      "\u001b[1;32m<ipython-input-59-706f4177c7f1>\u001b[0m in \u001b[0;36m<module>\u001b[1;34m\u001b[0m\n\u001b[0;32m     17\u001b[0m \u001b[1;33m\u001b[0m\u001b[0m\n\u001b[0;32m     18\u001b[0m \u001b[0mmodel\u001b[0m\u001b[1;33m=\u001b[0m\u001b[0mLogisticRegression\u001b[0m\u001b[1;33m(\u001b[0m\u001b[1;33m)\u001b[0m\u001b[1;33m\u001b[0m\u001b[1;33m\u001b[0m\u001b[0m\n\u001b[1;32m---> 19\u001b[1;33m \u001b[0mmodel\u001b[0m\u001b[1;33m.\u001b[0m\u001b[0mfit\u001b[0m\u001b[1;33m(\u001b[0m\u001b[0mx_train\u001b[0m\u001b[1;33m,\u001b[0m\u001b[0my_train\u001b[0m\u001b[1;33m)\u001b[0m\u001b[1;33m\u001b[0m\u001b[1;33m\u001b[0m\u001b[0m\n\u001b[0m\u001b[0;32m     20\u001b[0m \u001b[1;33m\u001b[0m\u001b[0m\n\u001b[0;32m     21\u001b[0m \u001b[0mypred\u001b[0m\u001b[1;33m=\u001b[0m\u001b[0mmodel\u001b[0m\u001b[1;33m.\u001b[0m\u001b[0mpredict\u001b[0m\u001b[1;33m(\u001b[0m\u001b[0mx_test\u001b[0m\u001b[1;33m)\u001b[0m\u001b[1;33m\u001b[0m\u001b[1;33m\u001b[0m\u001b[0m\n",
      "\u001b[1;32m~\\Anaconda3\\lib\\site-packages\\sklearn\\linear_model\\logistic.py\u001b[0m in \u001b[0;36mfit\u001b[1;34m(self, X, y, sample_weight)\u001b[0m\n\u001b[0;32m   1547\u001b[0m                 \u001b[0mself\u001b[0m\u001b[1;33m.\u001b[0m\u001b[0mclass_weight\u001b[0m\u001b[1;33m,\u001b[0m \u001b[0mself\u001b[0m\u001b[1;33m.\u001b[0m\u001b[0mpenalty\u001b[0m\u001b[1;33m,\u001b[0m \u001b[0mself\u001b[0m\u001b[1;33m.\u001b[0m\u001b[0mdual\u001b[0m\u001b[1;33m,\u001b[0m \u001b[0mself\u001b[0m\u001b[1;33m.\u001b[0m\u001b[0mverbose\u001b[0m\u001b[1;33m,\u001b[0m\u001b[1;33m\u001b[0m\u001b[1;33m\u001b[0m\u001b[0m\n\u001b[0;32m   1548\u001b[0m                 \u001b[0mself\u001b[0m\u001b[1;33m.\u001b[0m\u001b[0mmax_iter\u001b[0m\u001b[1;33m,\u001b[0m \u001b[0mself\u001b[0m\u001b[1;33m.\u001b[0m\u001b[0mtol\u001b[0m\u001b[1;33m,\u001b[0m \u001b[0mself\u001b[0m\u001b[1;33m.\u001b[0m\u001b[0mrandom_state\u001b[0m\u001b[1;33m,\u001b[0m\u001b[1;33m\u001b[0m\u001b[1;33m\u001b[0m\u001b[0m\n\u001b[1;32m-> 1549\u001b[1;33m                 sample_weight=sample_weight)\n\u001b[0m\u001b[0;32m   1550\u001b[0m             \u001b[0mself\u001b[0m\u001b[1;33m.\u001b[0m\u001b[0mn_iter_\u001b[0m \u001b[1;33m=\u001b[0m \u001b[0mnp\u001b[0m\u001b[1;33m.\u001b[0m\u001b[0marray\u001b[0m\u001b[1;33m(\u001b[0m\u001b[1;33m[\u001b[0m\u001b[0mn_iter_\u001b[0m\u001b[1;33m]\u001b[0m\u001b[1;33m)\u001b[0m\u001b[1;33m\u001b[0m\u001b[1;33m\u001b[0m\u001b[0m\n\u001b[0;32m   1551\u001b[0m             \u001b[1;32mreturn\u001b[0m \u001b[0mself\u001b[0m\u001b[1;33m\u001b[0m\u001b[1;33m\u001b[0m\u001b[0m\n",
      "\u001b[1;32m~\\Anaconda3\\lib\\site-packages\\sklearn\\svm\\base.py\u001b[0m in \u001b[0;36m_fit_liblinear\u001b[1;34m(X, y, C, fit_intercept, intercept_scaling, class_weight, penalty, dual, verbose, max_iter, tol, random_state, multi_class, loss, epsilon, sample_weight)\u001b[0m\n\u001b[0;32m    877\u001b[0m             raise ValueError(\"This solver needs samples of at least 2 classes\"\n\u001b[0;32m    878\u001b[0m                              \u001b[1;34m\" in the data, but the data contains only one\"\u001b[0m\u001b[1;33m\u001b[0m\u001b[1;33m\u001b[0m\u001b[0m\n\u001b[1;32m--> 879\u001b[1;33m                              \" class: %r\" % classes_[0])\n\u001b[0m\u001b[0;32m    880\u001b[0m \u001b[1;33m\u001b[0m\u001b[0m\n\u001b[0;32m    881\u001b[0m         \u001b[0mclass_weight_\u001b[0m \u001b[1;33m=\u001b[0m \u001b[0mcompute_class_weight\u001b[0m\u001b[1;33m(\u001b[0m\u001b[0mclass_weight\u001b[0m\u001b[1;33m,\u001b[0m \u001b[0mclasses_\u001b[0m\u001b[1;33m,\u001b[0m \u001b[0my\u001b[0m\u001b[1;33m)\u001b[0m\u001b[1;33m\u001b[0m\u001b[1;33m\u001b[0m\u001b[0m\n",
      "\u001b[1;31mValueError\u001b[0m: This solver needs samples of at least 2 classes in the data, but the data contains only one class: 1"
     ]
    }
   ],
   "source": [
    "import pandas as pd\n",
    "from sklearn.linear_model import LogisticRegression\n",
    "from sklearn.model_selection import train_test_split\n",
    "from sklearn.metrics import recall_score,precision_recall_fscore_support\n",
    "\n",
    "sensitivity_score=recall_score\n",
    "def specificity_score(y_true,y_pred):\n",
    "    p,r,f,s=precision_recall_fscore_support(y_true,y_pred)\n",
    "    return r[0] # r[0] for specificity and r[1] for sensitivity\n",
    "\n",
    "df=pd.read_csv(\"C:\\\\Users\\\\Makena\\\\Desktop\\\\python\\\\titanic.csv\")\n",
    "df[\"male\"]=df[\"sex\"]==\"male\"\n",
    "x=df[[\"pclass\",\"male\",\"age\",\"siblings/spouses\",\"parents/children\",\"fare\"]].values\n",
    "y=df[\"survived\"].values\n",
    "\n",
    "x_train,x_test,y_train,y_test=train_test_split(x,y,random_state=5)\n",
    "\n",
    "model=LogisticRegression()\n",
    "model.fit(x_train,y_train)\n",
    "\n",
    "ypred=model.predict(x_test)\n",
    "print(\"sensitivity:\",sensitivity_score(y_test,ypred))\n",
    "print(\"specificity:\",specificity_score(y_test,ypred))\n",
    "\n"
   ]
  },
  {
   "cell_type": "markdown",
   "metadata": {},
   "source": [
    "adjusting the logistic regression threshold in sklearn"
   ]
  },
  {
   "cell_type": "code",
   "execution_count": 4,
   "metadata": {},
   "outputs": [
    {
     "name": "stdout",
     "output_type": "stream",
     "text": [
      "[0.04913902 0.08256594]\n"
     ]
    },
    {
     "name": "stderr",
     "output_type": "stream",
     "text": [
      "C:\\Users\\Makena\\Anaconda3\\lib\\site-packages\\sklearn\\linear_model\\logistic.py:432: FutureWarning: Default solver will be changed to 'lbfgs' in 0.22. Specify a solver to silence this warning.\n",
      "  FutureWarning)\n"
     ]
    }
   ],
   "source": [
    "import pandas as pd\n",
    "from sklearn.linear_model import LogisticRegression\n",
    "from sklearn.model_selection import train_test_split\n",
    "from sklearn.metrics import recall_score,precision_score\n",
    "df=pd.read_csv(\"C:\\\\Users\\\\Makena\\\\Desktop\\\\python\\\\titanic.csv\")\n",
    "df[\"male\"]=df[\"sex\"]==\"male\"\n",
    "x=df[[\"pclass\",\"male\",\"age\",\"siblings/spouses\",\"parents/children\",\"fare\"]].values\n",
    "y=df[\"survived\"].values\n",
    "\n",
    "x_train,x_test,y_train,y_test=train_test_split(x,y)\n",
    "\n",
    "model=LogisticRegression()\n",
    "model.fit(x_train,y_train)\n",
    "ypred=model.predict_proba(x_test)[:,1]\n",
    "print(ypred)\n",
    "\n"
   ]
  },
  {
   "cell_type": "code",
   "execution_count": null,
   "metadata": {},
   "outputs": [],
   "source": [
    "#in the avove the first value is the probability that the datapoint is in the 0 class(didnt survive)\n",
    "#second is the probablity that datapoint is in the 1 class(survived)"
   ]
  },
  {
   "cell_type": "code",
   "execution_count": 6,
   "metadata": {},
   "outputs": [
    {
     "name": "stdout",
     "output_type": "stream",
     "text": [
      "[False False]\n"
     ]
    }
   ],
   "source": [
    "\n",
    "ypred=model.predict_proba(x_test)[:,1]>0.75 #the predict_proba function is used to getthe probabilty values (probability value of y being 0 or 1 )\n",
    "\n",
    "print(ypred)"
   ]
  },
  {
   "cell_type": "code",
   "execution_count": 65,
   "metadata": {},
   "outputs": [
    {
     "name": "stdout",
     "output_type": "stream",
     "text": [
      "precision: 1.0\n",
      "recall: 0.5\n"
     ]
    }
   ],
   "source": [
    "print(\"precision:\",precision_score(y_test,ypred))\n",
    "print(\"recall:\",recall_score(y_test,ypred))\n"
   ]
  },
  {
   "cell_type": "code",
   "execution_count": null,
   "metadata": {},
   "outputs": [],
   "source": [
    "ROC curve"
   ]
  },
  {
   "cell_type": "code",
   "execution_count": 9,
   "metadata": {},
   "outputs": [
    {
     "name": "stderr",
     "output_type": "stream",
     "text": [
      "C:\\Users\\Makena\\Anaconda3\\lib\\site-packages\\sklearn\\linear_model\\logistic.py:432: FutureWarning: Default solver will be changed to 'lbfgs' in 0.22. Specify a solver to silence this warning.\n",
      "  FutureWarning)\n",
      "C:\\Users\\Makena\\Anaconda3\\lib\\site-packages\\sklearn\\metrics\\ranking.py:651: UndefinedMetricWarning: No negative samples in y_true, false positive value should be meaningless\n",
      "  UndefinedMetricWarning)\n"
     ]
    },
    {
     "data": {
      "image/png": "[encoded data removed]",
      "text/plain": [
       "<Figure size 432x288 with 1 Axes>"
      ]
     },
     "metadata": {
      "needs_background": "light"
     },
     "output_type": "display_data"
    }
   ],
   "source": [
    "import pandas as pd\n",
    "import matplotlib.pyplot as plt\n",
    "from sklearn.linear_model import LogisticRegression\n",
    "from sklearn.model_selection import train_test_split\n",
    "from sklearn.metrics import roc_curve\n",
    "\n",
    "df=pd.read_csv(\"C:\\\\Users\\\\Makena\\\\Desktop\\\\python\\\\titanic.csv\")\n",
    "df[\"male\"]=df[\"sex\"]==\"male\"\n",
    "x=df[[\"pclass\",\"male\",\"age\",\"siblings/spouses\",\"parents/children\",\"fare\"]].values\n",
    "y=df[\"survived\"].values\n",
    "x_train,x_test,y_train,y_test=train_test_split(x,y)\n",
    "\n",
    "model=LogisticRegression()\n",
    "model.fit(x_train,y_train)\n",
    "ypred_proba=model.predict_proba(x_test)\n",
    "fpr,tpr,thresholds=roc_curve(y_test,ypred_proba[:,1])\n",
    "\n",
    "plt.plot(fpr,tpr)\n",
    "plt.plot([0,1],[0,1],linestyle=\"--\") #means [x1,x2],[y1,y2] \n",
    "plt.xlim([0.0,1.0]) \n",
    "plt.ylim([0.0,1.0])#limits bottom limit is 0 and top limit is 1\n",
    "plt.xlabel(\"1-specificity\")\n",
    "plt.ylabel(\"sensitivity\")\n",
    "plt.show()\n",
    "\n"
   ]
  },
  {
   "cell_type": "markdown",
   "metadata": {},
   "source": [
    "AUC"
   ]
  },
  {
   "cell_type": "code",
   "execution_count": 28,
   "metadata": {},
   "outputs": [
    {
     "name": "stdout",
     "output_type": "stream",
     "text": [
      "model1 AUC score:  1.0\n",
      "model2 AUC score:  1.0\n"
     ]
    },
    {
     "name": "stderr",
     "output_type": "stream",
     "text": [
      "C:\\Users\\Makena\\Anaconda3\\lib\\site-packages\\sklearn\\linear_model\\logistic.py:432: FutureWarning: Default solver will be changed to 'lbfgs' in 0.22. Specify a solver to silence this warning.\n",
      "  FutureWarning)\n",
      "C:\\Users\\Makena\\Anaconda3\\lib\\site-packages\\sklearn\\linear_model\\logistic.py:432: FutureWarning: Default solver will be changed to 'lbfgs' in 0.22. Specify a solver to silence this warning.\n",
      "  FutureWarning)\n"
     ]
    }
   ],
   "source": [
    "import pandas as pd\n",
    "from sklearn.linear_model import LogisticRegression\n",
    "from sklearn.model_selection import train_test_split\n",
    "from sklearn.metrics import roc_auc_score\n",
    "\n",
    "df=pd.read_csv(\"C:\\\\Users\\\\Makena\\\\Desktop\\\\python\\\\titanic.csv\")\n",
    "df[\"male\"]=df[\"sex\"]==\"male\"\n",
    "x=df[[\"pclass\",\"male\",\"age\",\"siblings/spouses\",\"parents/children\",\"fare\"]].values\n",
    "y=df[\"survived\"].values\n",
    "\n",
    "x_train,x_test,y_train,y_test=train_test_split(x,y)\n",
    "\n",
    "#model has all the 6 features\n",
    "model1=LogisticRegression()\n",
    "model1.fit(x_train,y_train)\n",
    "ypred_proba1=model1.predict_proba(x_test)\n",
    "print(\"model1 AUC score: \",roc_auc_score(y_test,ypred_proba1[:,1]))\n",
    "\n",
    "#has  pclass and male features\n",
    "model2=LogisticRegression()\n",
    "model2.fit(x_train[:, 0:2],y_train)\n",
    "ypred_proba2=model2.predict_proba(x_test[:, 0:2])\n",
    "print(\"model2 AUC score: \",roc_auc_score(y_test,ypred_proba2[:,1]))"
   ]
  },
  {
   "cell_type": "code",
   "execution_count": 29,
   "metadata": {},
   "outputs": [
    {
     "name": "stdout",
     "output_type": "stream",
     "text": [
      "accuracy:0.50000\n",
      "precision: 0.50000\n",
      "recall:1.00000\n",
      "f1 score:0.66667\n"
     ]
    },
    {
     "name": "stderr",
     "output_type": "stream",
     "text": [
      "C:\\Users\\Makena\\Anaconda3\\lib\\site-packages\\sklearn\\linear_model\\logistic.py:432: FutureWarning: Default solver will be changed to 'lbfgs' in 0.22. Specify a solver to silence this warning.\n",
      "  FutureWarning)\n"
     ]
    }
   ],
   "source": [
    "#different metric scores(5)\n",
    "import pandas as pd\n",
    "from sklearn.linear_model import LogisticRegression\n",
    "from sklearn.metrics import accuracy_score, precision_score, recall_score, f1_score\n",
    "from sklearn.model_selection import train_test_split\n",
    "import numpy as np\n",
    "\n",
    "df=pd.read_csv(\"C:\\\\Users\\\\Makena\\\\Desktop\\\\python\\\\titanic.csv\")\n",
    "df[\"male\"]=df[\"sex\"]==\"male\"\n",
    "x=df[[\"pclass\",\"male\",\"age\",\"siblings/spouses\",\"parents/children\",\"fare\"]].values\n",
    "y=df[\"survived\"].values\n",
    "\n",
    "x_train,x_test,y_train,y_test=train_test_split(x,y)\n",
    "\n",
    "model=LogisticRegression()\n",
    "model.fit(x_train,y_train)\n",
    "\n",
    "ypred=model.predict(x_test)\n",
    "#varying values of metrics\n",
    "print(\"accuracy:{0:.5f}\".format(accuracy_score(y_test,ypred)))\n",
    "print(\"precision: {0:.5f}\".format(accuracy_score(y_test,ypred)))\n",
    "print(\"recall:{0:.5f}\".format(recall_score(y_test,ypred)))\n",
    "print(\"f1 score:{0:.5f}\".format(f1_score(y_test,ypred)))"
   ]
  },
  {
   "cell_type": "markdown",
   "metadata": {},
   "source": [
    "KFold cross validation"
   ]
  },
  {
   "cell_type": "code",
   "execution_count": 30,
   "metadata": {},
   "outputs": [
    {
     "name": "stdout",
     "output_type": "stream",
     "text": [
      "[1 2 3] [0 4]\n",
      "[0 3 4] [1 2]\n",
      "[0 1 2 4] [3]\n"
     ]
    }
   ],
   "source": [
    "#spliting into three training and test sets \n",
    "import pandas as pd\n",
    "from sklearn.model_selection import KFold\n",
    "\n",
    "df=pd.read_csv(\"C:\\\\Users\\\\Makena\\\\Desktop\\\\python\\\\titanic.csv\")\n",
    "x=df[[\"age\",\"fare\"]].values\n",
    "y=df[\"survived\"].values\n",
    "\n",
    "kf=KFold(n_splits=3,shuffle=True) #n_splits is the k number of chunks and shuffle (whether or not to randomize the order of the data)\n",
    "for train,test in kf.split(x): \n",
    "    print(train,test)"
   ]
  },
  {
   "cell_type": "code",
   "execution_count": 38,
   "metadata": {},
   "outputs": [
    {
     "name": "stdout",
     "output_type": "stream",
     "text": [
      "training set indices:  [0 2 4]\n",
      "test set indices:  [1 3]\n",
      "x_train\n",
      "[[22.     7.25 ]\n",
      " [26.     7.925]\n",
      " [35.     8.05 ]]\n",
      "y_train [0 1 0]\n",
      "x_test\n",
      "[[38.     71.2833]\n",
      " [35.     53.1   ]]\n",
      "y_test [1 1]\n"
     ]
    }
   ],
   "source": [
    "#creating training and test sets with the folds \n",
    "import pandas as pd\n",
    "from sklearn.model_selection import KFold\n",
    "\n",
    "df=pd.read_csv(\"C:\\\\Users\\\\Makena\\\\Desktop\\\\python\\\\titanic.csv\")\n",
    "x=df[[\"age\",\"fare\"]].values\n",
    "y=df[\"survived\"].values\n",
    "\n",
    "kf=KFold(n_splits=3,shuffle=True)\n",
    "splits=list(kf.split(x)) #the split method returns a generator so we use the list function to turn it into a list\n",
    "first_split=splits[0]\n",
    "#creating variables \n",
    "train_indices, test_indices=first_split\n",
    "print(\"training set indices: \",train_indices)\n",
    "print(\"test set indices: \",test_indices)\n",
    "#creating an x_train,y_train,x_test,y_test based on the indices\n",
    "x_train=x[train_indices]\n",
    "x_test=x[test_indices]\n",
    "y_train=y[train_indices]\n",
    "y_test=y[test_indices]\n",
    "#after we print datapoints for x_train and their target values in y_train and datapoints for x_test and their target values\n",
    "print(\"x_train\")\n",
    "print(x_train)\n",
    "print(\"y_train\",y_train)\n",
    "print(\"x_test\")\n",
    "print(x_test)\n",
    "print(\"y_test\",y_test)"
   ]
  },
  {
   "cell_type": "code",
   "execution_count": 37,
   "metadata": {},
   "outputs": [
    {
     "name": "stdout",
     "output_type": "stream",
     "text": [
      "(array([0, 2]), array([1]))\n"
     ]
    }
   ],
   "source": [
    "import pandas as pd\n",
    "from sklearn.model_selection import KFold\n",
    "\n",
    "df=pd.read_csv(\"C:\\\\Users\\\\Makena\\\\Desktop\\\\python\\\\titanic.csv\")\n",
    "x=df[[\"age\",\"fare\"]].values[:3]\n",
    "y=df[\"survived\"].values[:3]\n",
    "\n",
    "kf=KFold(n_splits=3,shuffle=True)\n",
    "splits=list(kf.split(x))\n",
    "print(splits[0])"
   ]
  },
  {
   "cell_type": "code",
   "execution_count": 44,
   "metadata": {},
   "outputs": [
    {
     "name": "stdout",
     "output_type": "stream",
     "text": [
      "1.0\n"
     ]
    },
    {
     "name": "stderr",
     "output_type": "stream",
     "text": [
      "C:\\Users\\Makena\\Anaconda3\\lib\\site-packages\\sklearn\\linear_model\\logistic.py:432: FutureWarning: Default solver will be changed to 'lbfgs' in 0.22. Specify a solver to silence this warning.\n",
      "  FutureWarning)\n"
     ]
    }
   ],
   "source": [
    "#building a single train/test split model withfolds\n",
    "import pandas as pd\n",
    "from sklearn.model_selection import KFold\n",
    "from sklearn.linear_model import LogisticRegression\n",
    "\n",
    "df=pd.read_csv(\"C:\\\\Users\\\\Makena\\\\Desktop\\\\python\\\\titanic.csv\")\n",
    "df[\"male\"]=df[\"sex\"]==\"male\"\n",
    "x=df[[\"pclass\",\"male\",\"age\",\"siblings/spouses\",\"parents/children\",\"fare\"]].values\n",
    "y=df[\"survived\"].values\n",
    "\n",
    "kf=KFold(n_splits=5,shuffle=True)\n",
    "splits=list(kf.split(x))\n",
    "train_indices,test_indices=splits[0]\n",
    "x_train=x[train_indices]\n",
    "x_test=x[test_indices]\n",
    "y_train=y[train_indices]\n",
    "y_test=y[test_indices]\n",
    "\n",
    "model=LogisticRegression()\n",
    "model.fit(x_train,y_train)\n",
    "print(model.score(x_test,y_test)) #accuracy\n",
    "\n",
    "\n"
   ]
  },
  {
   "cell_type": "code",
   "execution_count": 53,
   "metadata": {},
   "outputs": [
    {
     "name": "stdout",
     "output_type": "stream",
     "text": [
      "[0.0, 1.0, 0.0, 1.0, 0.0]\n",
      "0.4\n"
     ]
    },
    {
     "name": "stderr",
     "output_type": "stream",
     "text": [
      "C:\\Users\\Makena\\Anaconda3\\lib\\site-packages\\sklearn\\linear_model\\logistic.py:432: FutureWarning: Default solver will be changed to 'lbfgs' in 0.22. Specify a solver to silence this warning.\n",
      "  FutureWarning)\n",
      "C:\\Users\\Makena\\Anaconda3\\lib\\site-packages\\sklearn\\linear_model\\logistic.py:432: FutureWarning: Default solver will be changed to 'lbfgs' in 0.22. Specify a solver to silence this warning.\n",
      "  FutureWarning)\n",
      "C:\\Users\\Makena\\Anaconda3\\lib\\site-packages\\sklearn\\linear_model\\logistic.py:432: FutureWarning: Default solver will be changed to 'lbfgs' in 0.22. Specify a solver to silence this warning.\n",
      "  FutureWarning)\n",
      "C:\\Users\\Makena\\Anaconda3\\lib\\site-packages\\sklearn\\linear_model\\logistic.py:432: FutureWarning: Default solver will be changed to 'lbfgs' in 0.22. Specify a solver to silence this warning.\n",
      "  FutureWarning)\n",
      "C:\\Users\\Makena\\Anaconda3\\lib\\site-packages\\sklearn\\linear_model\\logistic.py:432: FutureWarning: Default solver will be changed to 'lbfgs' in 0.22. Specify a solver to silence this warning.\n",
      "  FutureWarning)\n",
      "C:\\Users\\Makena\\Anaconda3\\lib\\site-packages\\sklearn\\linear_model\\logistic.py:432: FutureWarning: Default solver will be changed to 'lbfgs' in 0.22. Specify a solver to silence this warning.\n",
      "  FutureWarning)\n"
     ]
    },
    {
     "data": {
      "text/plain": [
       "LogisticRegression(C=1.0, class_weight=None, dual=False, fit_intercept=True,\n",
       "                   intercept_scaling=1, l1_ratio=None, max_iter=100,\n",
       "                   multi_class='warn', n_jobs=None, penalty='l2',\n",
       "                   random_state=None, solver='warn', tol=0.0001, verbose=0,\n",
       "                   warm_start=False)"
      ]
     },
     "execution_count": 53,
     "metadata": {},
     "output_type": "execute_result"
    }
   ],
   "source": [
    "#looping over all folds\n",
    "#we have been doing one fold at a time but really we want toloop over all the folds to get all the values\n",
    "from sklearn.model_selection import KFold\n",
    "from sklearn.linear_model import LogisticRegression\n",
    "import pandas as pd\n",
    "import numpy as np\n",
    "\n",
    "df=pd.read_csv(\"C:\\\\Users\\\\Makena\\\\Desktop\\\\python\\\\titanic.csv\")\n",
    "df[\"male\"]=df[\"sex\"]==\"male\"\n",
    "x=df[[\"pclass\",\"male\",\"age\",\"siblings/spouses\",\"parents/children\",\"fare\"]].values\n",
    "y=df[\"survived\"].values\n",
    "\n",
    "scores=[]\n",
    "kf=KFold(n_splits=5,shuffle=True)\n",
    "for train_index, test_index in kf.split(x):\n",
    "    x_train,x_test=x[train_index],x[test_index]\n",
    "    y_train,y_test=y[train_index],y[test_index]\n",
    "    model=LogisticRegression()\n",
    "    model.fit(x_train,y_train)\n",
    "    scores.append(model.score(x_test,y_test))#here will we be getting 5 acccuracies\n",
    "print(scores)\n",
    "print(np.mean(scores))#to get asingle accuracy value\n",
    "final_model=LogisticRegression()\n",
    "final_model.fit(x,y)\n",
    "\n",
    "    "
   ]
  },
  {
   "cell_type": "code",
   "execution_count": 33,
   "metadata": {},
   "outputs": [
    {
     "ename": "NameError",
     "evalue": "name 'accuracy_scores' is not defined",
     "output_type": "error",
     "traceback": [
      "\u001b[1;31m---------------------------------------------------------------------------\u001b[0m",
      "\u001b[1;31mNameError\u001b[0m                                 Traceback (most recent call last)",
      "\u001b[1;32m<ipython-input-33-181d3398e27f>\u001b[0m in \u001b[0;36m<module>\u001b[1;34m\u001b[0m\n\u001b[0;32m     30\u001b[0m         \u001b[0mrecall_scores\u001b[0m\u001b[1;33m.\u001b[0m\u001b[0mappend\u001b[0m\u001b[1;33m(\u001b[0m\u001b[0mrecall_score\u001b[0m\u001b[1;33m(\u001b[0m\u001b[0my_test\u001b[0m\u001b[1;33m,\u001b[0m\u001b[0mypred\u001b[0m\u001b[1;33m)\u001b[0m\u001b[1;33m)\u001b[0m\u001b[1;33m\u001b[0m\u001b[1;33m\u001b[0m\u001b[0m\n\u001b[0;32m     31\u001b[0m         \u001b[0mf1_scores\u001b[0m\u001b[1;33m.\u001b[0m\u001b[0mappend\u001b[0m\u001b[1;33m(\u001b[0m\u001b[0mf1_score\u001b[0m\u001b[1;33m(\u001b[0m\u001b[0my_test\u001b[0m\u001b[1;33m,\u001b[0m\u001b[0mypred\u001b[0m\u001b[1;33m)\u001b[0m\u001b[1;33m)\u001b[0m\u001b[1;33m\u001b[0m\u001b[1;33m\u001b[0m\u001b[0m\n\u001b[1;32m---> 32\u001b[1;33m \u001b[0mprint\u001b[0m\u001b[1;33m(\u001b[0m\u001b[1;34m\"accuracy:\"\u001b[0m\u001b[1;33m,\u001b[0m\u001b[0mnp\u001b[0m\u001b[1;33m.\u001b[0m\u001b[0mmean\u001b[0m\u001b[1;33m(\u001b[0m\u001b[0maccuracy_scores\u001b[0m\u001b[1;33m)\u001b[0m\u001b[1;33m)\u001b[0m\u001b[1;33m\u001b[0m\u001b[1;33m\u001b[0m\u001b[0m\n\u001b[0m\u001b[0;32m     33\u001b[0m \u001b[0mprint\u001b[0m\u001b[1;33m(\u001b[0m\u001b[1;34m\"precision:\"\u001b[0m\u001b[1;33m,\u001b[0m\u001b[0mnp\u001b[0m\u001b[1;33m.\u001b[0m\u001b[0mmean\u001b[0m\u001b[1;33m(\u001b[0m\u001b[0mprecision_scores\u001b[0m\u001b[1;33m)\u001b[0m\u001b[1;33m)\u001b[0m\u001b[1;33m\u001b[0m\u001b[1;33m\u001b[0m\u001b[0m\n\u001b[0;32m     34\u001b[0m \u001b[0mprint\u001b[0m\u001b[1;33m(\u001b[0m\u001b[1;34m\"recall:\"\u001b[0m\u001b[1;33m,\u001b[0m\u001b[0mnp\u001b[0m\u001b[1;33m.\u001b[0m\u001b[0mmean\u001b[0m\u001b[1;33m(\u001b[0m\u001b[0mrecall_scores\u001b[0m\u001b[1;33m)\u001b[0m\u001b[1;33m)\u001b[0m\u001b[1;33m\u001b[0m\u001b[1;33m\u001b[0m\u001b[0m\n",
      "\u001b[1;31mNameError\u001b[0m: name 'accuracy_scores' is not defined"
     ]
    }
   ],
   "source": [
    "import pandas as pd\n",
    "import numpy as np\n",
    "from sklearn.linear_model import LogisticRegression\n",
    "from sklearn.model_selection import KFold\n",
    "from sklearn.metrics import accuracy_score, precision_score, recall_score, f1_score\n",
    "\n",
    "df=pd.read_csv(\"C:\\\\Users\\Makena\\\\Desktop\\\\python\\\\titanicdata.csv\")\n",
    "df[\"male\"]=df[\"sex\"]==\"male\"\n",
    "\n",
    "kf=KFold(n_splits=5, shuffle=True)\n",
    "\n",
    "x1=df[[\"pclass\",\"male\",\"age\",\"siblings/spouses\",\"parents/children\",\"fare\"]].values\n",
    "x2=df[[\"pclass\",\"male\",\"age\"]].values\n",
    "x3=df[[\"fare\",\"age\"]].values\n",
    "y=df[\"survived\"].values\n",
    "\n",
    "def score_model(x,y,kf):\n",
    "    accuracy_scores=[]\n",
    "    precision_scores=[]\n",
    "    recall_scores=[]\n",
    "    f1_scores=[]\n",
    "    for train_index,test_index in kf.split(x):\n",
    "        x_train,x_test=x[train_index],x[test_index]\n",
    "        y_train,y_test=y[train_index],y[test_index]\n",
    "        model=LogisticRegression()\n",
    "        model.fit(x_train,y_train)\n",
    "        ypred=model.predict(x_test)\n",
    "        accuracy_scores.append(accuracy_score(y_test,ypred))\n",
    "        precision_scores.append(precision_score(y_test,ypred))\n",
    "        recall_scores.append(recall_score(y_test,ypred))\n",
    "        f1_scores.append(f1_score(y_test,ypred))\n",
    "print(\"accuracy:\",np.mean(accuracy_scores))\n",
    "print(\"precision:\",np.mean(precision_scores))\n",
    "print(\"recall:\",np.mean(recall_scores))\n",
    "print(\"f1 score:\",np.mean(f1_scores))\n",
    "\n",
    "print(\"Logistic Regression with all the features\")\n",
    "score_model(x1,y,kf)\n",
    "print()\n",
    "print(\"Logistic Regression with Pclass, sex and age features\")\n",
    "score_model(x2,y,kf)\n",
    "print()\n",
    "print(\"Logistic Regression with fare and age features\")\n",
    "score_model(x3,y,kf)\n",
    "print()\n",
    "    "
   ]
  },
  {
   "cell_type": "markdown",
   "metadata": {},
   "source": [
    "# decision trees"
   ]
  },
  {
   "cell_type": "code",
   "execution_count": 7,
   "metadata": {},
   "outputs": [
    {
     "name": "stdout",
     "output_type": "stream",
     "text": [
      "[0]\n"
     ]
    }
   ],
   "source": [
    "#use predict method to see what the model predicts for a male passenger in pclass 3 who is 22yrs, has 1sibling/spouse on board and 0parents/childern and paidfare of 7.25\n",
    "\n",
    "import pandas as pd\n",
    "from sklearn.tree import DecisionTreeClassifier\n",
    "from sklearn.model_selection import train_test_split\n",
    "\n",
    "df=pd.read_csv(\"C:\\\\Users\\\\Makena\\\\Desktop\\\\python\\\\titanic.csv\")\n",
    "df[\"male\"]=df[\"sex\"]==\"male\"\n",
    "x=df[[\"pclass\",\"male\",\"age\",\"siblings/spouses\",\"parents/children\",\"fare\"]].values\n",
    "y=df[\"survived\"].values\n",
    "\n",
    "x_train,x_test,y_train,y_test=train_test_split(x,y, random_state=22)\n",
    "model=DecisionTreeClassifier()\n",
    "model.fit(x_train,y_train)\n",
    "\n",
    "print(model.predict([[3,True,22,1,0,7.25]))\n"
   ]
  },
  {
   "cell_type": "code",
   "execution_count": 30,
   "metadata": {},
   "outputs": [
    {
     "name": "stderr",
     "output_type": "stream",
     "text": [
      "C:\\Users\\Makena\\Anaconda3\\lib\\site-packages\\sklearn\\linear_model\\logistic.py:432: FutureWarning: Default solver will be changed to 'lbfgs' in 0.22. Specify a solver to silence this warning.\n",
      "  FutureWarning)\n",
      "C:\\Users\\Makena\\Anaconda3\\lib\\site-packages\\sklearn\\linear_model\\logistic.py:432: FutureWarning: Default solver will be changed to 'lbfgs' in 0.22. Specify a solver to silence this warning.\n",
      "  FutureWarning)\n",
      "C:\\Users\\Makena\\Anaconda3\\lib\\site-packages\\sklearn\\linear_model\\logistic.py:432: FutureWarning: Default solver will be changed to 'lbfgs' in 0.22. Specify a solver to silence this warning.\n",
      "  FutureWarning)\n"
     ]
    },
    {
     "name": "stdout",
     "output_type": "stream",
     "text": [
      "Decision Tree\n",
      "accuracy: 1.0\n",
      "precision: 1.0\n",
      "reacall: 1.0\n",
      "Logistic Regression\n",
      "accuracy: 1.0\n",
      "precision: 0.3333333333333333\n",
      "recall: 0.6666666666666666\n"
     ]
    },
    {
     "name": "stderr",
     "output_type": "stream",
     "text": [
      "C:\\Users\\Makena\\Anaconda3\\lib\\site-packages\\sklearn\\metrics\\classification.py:1437: UndefinedMetricWarning: Precision is ill-defined and being set to 0.0 due to no predicted samples.\n",
      "  'precision', 'predicted', average, warn_for)\n"
     ]
    }
   ],
   "source": [
    "#scoring a decision tree model \n",
    "import pandas as pd\n",
    "from sklearn.tree import DecisionTreeClassifier\n",
    "from sklearn.linear_model import LogisticRegression \n",
    "from sklearn.metrics import precision_score,recall_score\n",
    "from sklearn.model_selection import train_test_split\n",
    "from sklearn.model_selection import KFold\n",
    "import numpy as np\n",
    "\n",
    "df=pd.read_csv(\"C:\\\\Users\\\\Makena\\\\Desktop\\\\python\\\\titanic.csv\")\n",
    "df[\"male\"]=df[\"sex\"]==\"male\"\n",
    "x=df[[\"pclass\",\"male\",\"age\",\"siblings/spouses\",\"parents/children\",\"fare\"]].values\n",
    "y=df[\"survived\"].values\n",
    "\n",
    "kf=KFold(n_splits=3, shuffle=True, random_state=3)\n",
    "dt_accuracy_scores=[]\n",
    "dt_precision_scores=[]\n",
    "dt_recall_scores=[]\n",
    "lr_accuracy_scores=[]\n",
    "lr_precision_scores=[]\n",
    "lr_recall_scores=[]\n",
    "for train_index,test_index in kf.split(x):\n",
    "    x_train,x_test=x[train_index], x[test_index]\n",
    "    y_train,y_test=y[train_index], y[test_index]\n",
    "    dt=DecisionTreeClassifier()\n",
    "    dt.fit(x_train,y_train)\n",
    "    dt_accuracy_scores.append(dt.score(x_test,y_test))\n",
    "    dt_y_prediction=dt.predict(x_test)\n",
    "    dt_precision_scores.append(precision_score(y_test,dt_y_prediction))\n",
    "    dt_recall_scores.append(recall_score(y_test,dt_y_prediction))\n",
    "    lr=LogisticRegression()\n",
    "    lr.fit(x_train,y_train)\n",
    "    lr_accuracy_scores.append(dt.score(x_test,y_test))\n",
    "    lr_y_prediction=lr.predict(x_test)\n",
    "    lr_precision_scores.append(precision_score(y_test,lr_y_prediction))\n",
    "    lr_recall_scores.append(recall_score(y_test,lr_y_prediction))\n",
    "    \n",
    "print(\"Decision Tree\")\n",
    "print(\"accuracy:\", np.mean(dt_accuracy_scores))\n",
    "print(\"precision:\", np.mean(dt_precision_scores))\n",
    "print(\"reacall:\", np.mean(dt_recall_scores))\n",
    "print(\"Logistic Regression\")\n",
    "print(\"accuracy:\", np.mean(lr_accuracy_scores))\n",
    "print(\"precision:\", np.mean(lr_precision_scores))\n",
    "print(\"recall:\", np.mean(lr_recall_scores))\n",
    "\n",
    "    "
   ]
  },
  {
   "cell_type": "code",
   "execution_count": 20,
   "metadata": {},
   "outputs": [
    {
     "data": {
      "text/html": [
       "<div>\n",
       "<style scoped>\n",
       "    .dataframe tbody tr th:only-of-type {\n",
       "        vertical-align: middle;\n",
       "    }\n",
       "\n",
       "    .dataframe tbody tr th {\n",
       "        vertical-align: top;\n",
       "    }\n",
       "\n",
       "    .dataframe thead th {\n",
       "        text-align: right;\n",
       "    }\n",
       "</style>\n",
       "<table border=\"1\" class=\"dataframe\">\n",
       "  <thead>\n",
       "    <tr style=\"text-align: right;\">\n",
       "      <th></th>\n",
       "      <th>calories</th>\n",
       "      <th>protein</th>\n",
       "      <th>fat</th>\n",
       "      <th>sodium</th>\n",
       "      <th>fiber</th>\n",
       "      <th>rating</th>\n",
       "    </tr>\n",
       "  </thead>\n",
       "  <tbody>\n",
       "    <tr>\n",
       "      <td>0</td>\n",
       "      <td>70</td>\n",
       "      <td>4</td>\n",
       "      <td>1</td>\n",
       "      <td>130</td>\n",
       "      <td>10.0</td>\n",
       "      <td>68.402973</td>\n",
       "    </tr>\n",
       "    <tr>\n",
       "      <td>1</td>\n",
       "      <td>120</td>\n",
       "      <td>3</td>\n",
       "      <td>5</td>\n",
       "      <td>15</td>\n",
       "      <td>2.0</td>\n",
       "      <td>33.983679</td>\n",
       "    </tr>\n",
       "    <tr>\n",
       "      <td>2</td>\n",
       "      <td>70</td>\n",
       "      <td>4</td>\n",
       "      <td>1</td>\n",
       "      <td>260</td>\n",
       "      <td>9.0</td>\n",
       "      <td>59.425505</td>\n",
       "    </tr>\n",
       "    <tr>\n",
       "      <td>3</td>\n",
       "      <td>50</td>\n",
       "      <td>4</td>\n",
       "      <td>0</td>\n",
       "      <td>140</td>\n",
       "      <td>14.0</td>\n",
       "      <td>93.704912</td>\n",
       "    </tr>\n",
       "    <tr>\n",
       "      <td>4</td>\n",
       "      <td>110</td>\n",
       "      <td>2</td>\n",
       "      <td>2</td>\n",
       "      <td>180</td>\n",
       "      <td>1.5</td>\n",
       "      <td>29.509541</td>\n",
       "    </tr>\n",
       "    <tr>\n",
       "      <td>...</td>\n",
       "      <td>...</td>\n",
       "      <td>...</td>\n",
       "      <td>...</td>\n",
       "      <td>...</td>\n",
       "      <td>...</td>\n",
       "      <td>...</td>\n",
       "    </tr>\n",
       "    <tr>\n",
       "      <td>70</td>\n",
       "      <td>110</td>\n",
       "      <td>2</td>\n",
       "      <td>1</td>\n",
       "      <td>250</td>\n",
       "      <td>0.0</td>\n",
       "      <td>39.106174</td>\n",
       "    </tr>\n",
       "    <tr>\n",
       "      <td>71</td>\n",
       "      <td>110</td>\n",
       "      <td>1</td>\n",
       "      <td>1</td>\n",
       "      <td>140</td>\n",
       "      <td>0.0</td>\n",
       "      <td>27.753301</td>\n",
       "    </tr>\n",
       "    <tr>\n",
       "      <td>72</td>\n",
       "      <td>100</td>\n",
       "      <td>3</td>\n",
       "      <td>1</td>\n",
       "      <td>230</td>\n",
       "      <td>3.0</td>\n",
       "      <td>49.787445</td>\n",
       "    </tr>\n",
       "    <tr>\n",
       "      <td>73</td>\n",
       "      <td>100</td>\n",
       "      <td>3</td>\n",
       "      <td>1</td>\n",
       "      <td>200</td>\n",
       "      <td>3.0</td>\n",
       "      <td>51.592193</td>\n",
       "    </tr>\n",
       "    <tr>\n",
       "      <td>74</td>\n",
       "      <td>110</td>\n",
       "      <td>2</td>\n",
       "      <td>1</td>\n",
       "      <td>200</td>\n",
       "      <td>1.0</td>\n",
       "      <td>36.187559</td>\n",
       "    </tr>\n",
       "  </tbody>\n",
       "</table>\n",
       "<p>75 rows × 6 columns</p>\n",
       "</div>"
      ],
      "text/plain": [
       "    calories  protein  fat  sodium  fiber     rating\n",
       "0         70        4    1     130   10.0  68.402973\n",
       "1        120        3    5      15    2.0  33.983679\n",
       "2         70        4    1     260    9.0  59.425505\n",
       "3         50        4    0     140   14.0  93.704912\n",
       "4        110        2    2     180    1.5  29.509541\n",
       "..       ...      ...  ...     ...    ...        ...\n",
       "70       110        2    1     250    0.0  39.106174\n",
       "71       110        1    1     140    0.0  27.753301\n",
       "72       100        3    1     230    3.0  49.787445\n",
       "73       100        3    1     200    3.0  51.592193\n",
       "74       110        2    1     200    1.0  36.187559\n",
       "\n",
       "[75 rows x 6 columns]"
      ]
     },
     "execution_count": 20,
     "metadata": {},
     "output_type": "execute_result"
    }
   ],
   "source": [
    "import pandas as pd\n",
    "df=pd.read_csv(\"C:\\\\Users\\\\Makena\\\\Downloads\\\\cereals.csv\")\n",
    "df\n"
   ]
  },
  {
   "cell_type": "code",
   "execution_count": 28,
   "metadata": {},
   "outputs": [
    {
     "name": "stderr",
     "output_type": "stream",
     "text": [
      "C:\\Users\\Makena\\Anaconda3\\lib\\site-packages\\sklearn\\linear_model\\logistic.py:432: FutureWarning: Default solver will be changed to 'lbfgs' in 0.22. Specify a solver to silence this warning.\n",
      "  FutureWarning)\n",
      "C:\\Users\\Makena\\Anaconda3\\lib\\site-packages\\sklearn\\linear_model\\logistic.py:432: FutureWarning: Default solver will be changed to 'lbfgs' in 0.22. Specify a solver to silence this warning.\n",
      "  FutureWarning)\n",
      "C:\\Users\\Makena\\Anaconda3\\lib\\site-packages\\sklearn\\linear_model\\logistic.py:432: FutureWarning: Default solver will be changed to 'lbfgs' in 0.22. Specify a solver to silence this warning.\n",
      "  FutureWarning)\n"
     ]
    },
    {
     "name": "stdout",
     "output_type": "stream",
     "text": [
      "Decision Tree\n",
      "accuracy: 0.7688155169167034\n",
      "precision: 0.700995670995671\n",
      "recall: 0.684384423520709\n",
      "LogisticRegression\n",
      "accuracy: 0.785669449500973\n",
      "precision: 0.7439527064145061\n",
      "recall: 0.6655177037376555\n"
     ]
    },
    {
     "name": "stderr",
     "output_type": "stream",
     "text": [
      "C:\\Users\\Makena\\Anaconda3\\lib\\site-packages\\sklearn\\linear_model\\logistic.py:432: FutureWarning: Default solver will be changed to 'lbfgs' in 0.22. Specify a solver to silence this warning.\n",
      "  FutureWarning)\n",
      "C:\\Users\\Makena\\Anaconda3\\lib\\site-packages\\sklearn\\linear_model\\logistic.py:432: FutureWarning: Default solver will be changed to 'lbfgs' in 0.22. Specify a solver to silence this warning.\n",
      "  FutureWarning)\n"
     ]
    }
   ],
   "source": [
    "#linear model vs decision tree\n",
    "import pandas as pd\n",
    "from sklearn.tree import DecisionTreeClassifier\n",
    "from sklearn.model_selection import KFold\n",
    "from sklearn.metrics import accuracy_score, precision_score, recall_score\n",
    "from sklearn.model_selection import train_test_split\n",
    "from sklearn.linear_model import LogisticRegression\n",
    "import numpy as np\n",
    "\n",
    "df=pd.read_csv(\"C:\\\\Users\\Makena\\\\Desktop\\\\python\\\\titanicdata.csv\")\n",
    "df[\"male\"]=df[\"sex\"]==\"male\"\n",
    "x=df[[\"pclass\",\"male\",\"age\",\"siblings/spouses\",\"parents/children\",\"fare\"]].values\n",
    "y=df[\"survived\"].values\n",
    "\n",
    "dt_accuracy_scores=[]\n",
    "dt_precision_scores=[]\n",
    "dt_recall_scores=[]\n",
    "lr_accuracy_scores=[]\n",
    "lr_precision_scores=[]\n",
    "lr_recall_scores=[]\n",
    "kf=KFold(n_splits=5, shuffle=True, random_state=22)\n",
    "for train_index, test_index in kf.split(x):\n",
    "    x_train,x_test=x[train_index], x[test_index]\n",
    "    y_train,y_test=y[train_index], y[test_index]\n",
    "    dt=DecisionTreeClassifier()\n",
    "    dt.fit(x_train,y_train)\n",
    "    dt_y_prediction=dt.predict(x_test)\n",
    "    dt_accuracy_scores.append(accuracy_score(y_test,dt_y_prediction))\n",
    "    dt_precision_scores.append(precision_score(y_test,dt_y_prediction))\n",
    "    dt_recall_scores.append(recall_score(y_test,dt_y_prediction))\n",
    "    lr=LogisticRegression()\n",
    "    lr.fit(x_train,y_train)\n",
    "    lr_y_prediction=lr.predict(x_test)\n",
    "    lr_accuracy_scores.append(accuracy_score(y_test,lr_y_prediction))\n",
    "    lr_precision_scores.append(precision_score(y_test,lr_y_prediction))\n",
    "    lr_recall_scores.append(recall_score(y_test,lr_y_prediction))\n",
    "    \n",
    "print(\"Decision Tree\")\n",
    "print(\"accuracy:\", np.mean(dt_accuracy_scores))\n",
    "print(\"precision:\", np.mean(dt_precision_scores))\n",
    "print(\"recall:\", np.mean(dt_recall_scores))\n",
    "print(\"LogisticRegression\")\n",
    "print(\"accuracy:\",np.mean(lr_accuracy_scores))\n",
    "print(\"precision:\", np.mean(lr_precision_scores))\n",
    "print(\"recall:\", np.mean(lr_recall_scores))\n"
   ]
  },
  {
   "cell_type": "code",
   "execution_count": 12,
   "metadata": {},
   "outputs": [
    {
     "name": "stdout",
     "output_type": "stream",
     "text": [
      "accuracy: 0.8116591928251121\n",
      "precision: 0.7560975609756098\n",
      "recall: 0.7380952380952381\n",
      "f1 score: 0.746987951807229\n"
     ]
    },
    {
     "name": "stderr",
     "output_type": "stream",
     "text": [
      "C:\\Users\\Makena\\Anaconda3\\lib\\site-packages\\sklearn\\linear_model\\logistic.py:432: FutureWarning: Default solver will be changed to 'lbfgs' in 0.22. Specify a solver to silence this warning.\n",
      "  FutureWarning)\n"
     ]
    }
   ],
   "source": [
    "import pandas as pd\n",
    "from sklearn.linear_model import LogisticRegression\n",
    "from sklearn.metrics import accuracy_score, precision_score, recall_score, f1_score\n",
    "from sklearn.model_selection import train_test_split\n",
    "\n",
    "df=pd.read_csv(\"C:\\\\Users\\Makena\\\\Desktop\\\\python\\\\titanicdata.csv\")\n",
    "df[\"male\"]=df[\"sex\"]==\"male\"\n",
    "x=df[[\"pclass\",\"male\",\"age\",\"siblings/spouses\",\"parents/children\",\"fare\"]].values\n",
    "y=df[\"survived\"].values\n",
    "x_train, x_test, y_train, y_test=train_test_split(x,y)\n",
    "model=LogisticRegression()\n",
    "model.fit(x_train,y_train)\n",
    "y_pred=model.predict(x_test)\n",
    "print(\"accuracy:\", accuracy_score(y_test,y_pred))\n",
    "print(\"precision:\", precision_score(y_test,y_pred))\n",
    "print(\"recall:\", recall_score(y_test,y_pred))\n",
    "print(\"f1 score:\", f1_score(y_test,y_pred))"
   ]
  },
  {
   "cell_type": "markdown",
   "metadata": {},
   "source": [
    "Gini vs Entropy"
   ]
  },
  {
   "cell_type": "code",
   "execution_count": 39,
   "metadata": {},
   "outputs": [
    {
     "name": "stdout",
     "output_type": "stream",
     "text": [
      "Decision Tree-gini\n",
      "accuracy: 0.7665683259054672\n",
      "precision: 0.7031846734972733\n",
      "recall: 0.6704297223586798 \n",
      "\n",
      "\n",
      "Decision Tree-entropy\n",
      "accuracy: 0.7710250455087564\n",
      "precision: 0.7140774966243141\n",
      "recall: 0.6721902738255119 \n",
      "\n",
      "\n"
     ]
    }
   ],
   "source": [
    "import pandas as pd\n",
    "from sklearn.tree import DecisionTreeClassifier\n",
    "from sklearn.model_selection import KFold\n",
    "from sklearn.metrics import accuracy_score, precision_score, recall_score\n",
    "import numpy as np\n",
    "\n",
    "df=pd.read_csv(\"C:\\\\Users\\Makena\\\\Desktop\\\\python\\\\titanicdata.csv\")\n",
    "df[\"male\"]=df[\"sex\"]==\"male\"\n",
    "x=df[[\"pclass\",\"male\",\"age\",\"siblings/spouses\",\"parents/children\",\"fare\"]].values\n",
    "y=df[\"survived\"].values\n",
    "\n",
    "kf=KFold(n_splits=5, shuffle=True, random_state=22)\n",
    "for criterion in [\"gini\", \"entropy\"]:\n",
    "    print(\"Decision Tree-{}\".format(criterion))\n",
    "    accuracy=[]\n",
    "    precision=[]\n",
    "    recall=[]\n",
    "    for train_index,test_index in kf.split(x):\n",
    "        x_train,x_test=x[train_index],x[test_index]\n",
    "        y_train,y_test=y[train_index],y[test_index]\n",
    "        dt=DecisionTreeClassifier(criterion=criterion)\n",
    "        dt.fit(x_train,y_train)\n",
    "        ypred=dt.predict(x_test)\n",
    "        accuracy.append(accuracy_score(y_test,ypred))\n",
    "        precision.append(precision_score(y_test,ypred))\n",
    "        recall.append(recall_score(y_test,ypred))\n",
    "    print(\"accuracy:\", np.mean(accuracy))\n",
    "    print(\"precision:\", np.mean(precision))\n",
    "    print(\"recall:\", np.mean(recall), \"\\n\")\n",
    "    print()\n",
    "                      "
   ]
  },
  {
   "cell_type": "markdown",
   "metadata": {},
   "source": [
    "visualizing data trees\n",
    "we use the export_graphviz function\n",
    "here dt is a Decision tree object and feature_names is a list of thefeature names\n",
    "graph objects are storedas .dotfiles\n",
    "our goal is to save is as a png file"
   ]
  },
  {
   "cell_type": "code",
   "execution_count": 40,
   "metadata": {},
   "outputs": [
    {
     "ename": "NameError",
     "evalue": "name 'graphviz' is not defined",
     "output_type": "error",
     "traceback": [
      "\u001b[1;31m---------------------------------------------------------------------------\u001b[0m",
      "\u001b[1;31mNameError\u001b[0m                                 Traceback (most recent call last)",
      "\u001b[1;32m<ipython-input-40-7f98bd635ac2>\u001b[0m in \u001b[0;36m<module>\u001b[1;34m\u001b[0m\n\u001b[0;32m     10\u001b[0m \u001b[1;33m\u001b[0m\u001b[0m\n\u001b[0;32m     11\u001b[0m \u001b[0mdot_file\u001b[0m\u001b[1;33m=\u001b[0m\u001b[0mexport_graphviz\u001b[0m\u001b[1;33m(\u001b[0m\u001b[0mdt\u001b[0m\u001b[1;33m,\u001b[0m\u001b[0mfeature_names\u001b[0m\u001b[1;33m=\u001b[0m\u001b[0mfeature_names\u001b[0m\u001b[1;33m)\u001b[0m\u001b[1;33m\u001b[0m\u001b[1;33m\u001b[0m\u001b[0m\n\u001b[1;32m---> 12\u001b[1;33m \u001b[0mgraph\u001b[0m\u001b[1;33m=\u001b[0m\u001b[0mgraphviz\u001b[0m\u001b[1;33m.\u001b[0m\u001b[0mSource\u001b[0m\u001b[1;33m(\u001b[0m\u001b[0mdot_file\u001b[0m\u001b[1;33m)\u001b[0m\u001b[1;33m\u001b[0m\u001b[1;33m\u001b[0m\u001b[0m\n\u001b[0m\u001b[0;32m     13\u001b[0m \u001b[0mgraph\u001b[0m\u001b[1;33m.\u001b[0m\u001b[0mrender\u001b[0m\u001b[1;33m(\u001b[0m\u001b[0mfilename\u001b[0m\u001b[1;33m=\u001b[0m\u001b[1;34m\"tree\"\u001b[0m\u001b[1;33m,\u001b[0m \u001b[0mformat\u001b[0m\u001b[1;33m=\u001b[0m\u001b[1;34m\"png\"\u001b[0m\u001b[1;33m,\u001b[0m \u001b[0mcleanup\u001b[0m\u001b[1;33m=\u001b[0m\u001b[1;32mTrue\u001b[0m\u001b[1;33m)\u001b[0m\u001b[1;33m\u001b[0m\u001b[1;33m\u001b[0m\u001b[0m\n",
      "\u001b[1;31mNameError\u001b[0m: name 'graphviz' is not defined"
     ]
    }
   ],
   "source": [
    "from sklearn.tree import export_graphviz\n",
    "from IPython.display import Image\n",
    "\n",
    "feature_names=[\"pclass\",\"male\"]\n",
    "x=df[feature_names].values\n",
    "y=df[\"survived\"].values\n",
    "\n",
    "dt=DecisionTreeClassifier()\n",
    "dt.fit(x,y)\n",
    "\n",
    "dot_file=export_graphviz(dt,feature_names=feature_names)\n",
    "#use the graphviz module to convert it to a png image format\n",
    "graph=graphviz.Source(dot_file)\n",
    "#use the render method to create the file\n",
    "graph.render(filename=\"tree\", format=\"png\", cleanup=True)"
   ]
  },
  {
   "cell_type": "code",
   "execution_count": 44,
   "metadata": {},
   "outputs": [
    {
     "data": {
      "image/png": "[encoded data removed]",
      "text/plain": [
       "<Figure size 1080x720 with 1 Axes>"
      ]
     },
     "metadata": {
      "needs_background": "light"
     },
     "output_type": "display_data"
    }
   ],
   "source": [
    "#alternative\n",
    "import matplotlib.pyplot as plt\n",
    "from sklearn.tree import DecisionTreeClassifier\n",
    "\n",
    "df=pd.read_csv(\"C:\\\\Users\\Makena\\\\Desktop\\\\python\\\\titanicdata.csv\")\n",
    "df[\"male\"]=df[\"sex\"]==\"male\"\n",
    "feature_names=[\"pclass\",\"male\"]\n",
    "x=df[feature_names].values\n",
    "y=df[\"survived\"].values\n",
    "dt=DecisionTreeClassifier()\n",
    "dt.fit(x,y)\n",
    "fig=plt.figure(figsize=(15,10))\n",
    "tree.plot_tree(dt,feature_names=feature_names)\n",
    "plt.show()\n"
   ]
  },
  {
   "cell_type": "code",
   "execution_count": 47,
   "metadata": {},
   "outputs": [
    {
     "data": {
      "image/png": "[encoded data removed]",
      "text/plain": [
       "<Figure size 1080x720 with 1 Axes>"
      ]
     },
     "metadata": {
      "needs_background": "light"
     },
     "output_type": "display_data"
    }
   ],
   "source": [
    "import matplotlib.pyplot as plt\n",
    "from sklearn.tree import DecisionTreeClassifier\n",
    "df=pd.read_csv(\"C:\\\\Users\\Makena\\\\Desktop\\\\python\\\\titanicdata.csv\")\n",
    "df[\"male\"]=df[\"sex\"]==\"male\"\n",
    "feature_names=[\"pclass\",\"male\"]\n",
    "x=df[feature_names].values\n",
    "y=df[\"survived\"].values\n",
    "dt=DecisionTreeClassifier(max_depth=3,min_samples_leaf=2,max_leaf_nodes=10) #max depth,min samples per leaf, max no of leaf nodes\n",
    "dt.fit(x,y)\n",
    "fig=plt.figure(figsize=(15,10))\n",
    "tree.plot_tree(dt,feature_names=feature_names)\n",
    "plt.show()\n"
   ]
  },
  {
   "cell_type": "markdown",
   "metadata": {},
   "source": [
    "grid Search\n",
    "we are not going to be able to intuit best values for the pre-pruning parameters\n",
    "in order to decide on which to use we use cross validation and compare metrics\n",
    "GridSearchCV has 4 paramters: the model(decisiontree classifier), param grid(a dictionary of the parameters names and possible values), what metric to use(default is accuracy), how many folds for k-cross validation"
   ]
  },
  {
   "cell_type": "code",
   "execution_count": 55,
   "metadata": {},
   "outputs": [
    {
     "name": "stdout",
     "output_type": "stream",
     "text": [
      "best params: {'max_depth': 25, 'max_leaf_nodes': 50, 'min_samples_leaf': 1}\n"
     ]
    },
    {
     "name": "stderr",
     "output_type": "stream",
     "text": [
      "C:\\Users\\Makena\\Anaconda3\\lib\\site-packages\\sklearn\\model_selection\\_search.py:814: DeprecationWarning: The default of the `iid` parameter will change from True to False in version 0.22 and will be removed in 0.24. This will change numeric results when test-set sizes are unequal.\n",
      "  DeprecationWarning)\n"
     ]
    }
   ],
   "source": [
    "import pandas as pd\n",
    "from sklearn.tree import DecisionTreeClassifier\n",
    "from sklearn.model_selection import GridSearchCV\n",
    "\n",
    "df=pd.read_csv(\"C:\\\\Users\\Makena\\\\Desktop\\\\python\\\\titanicdata.csv\")\n",
    "df[\"male\"]=df[\"sex\"]==\"male\"\n",
    "x=df[[\"pclass\",\"male\",\"age\",\"siblings/spouses\",\"parents/children\",\"fare\"]].values\n",
    "y=df[\"survived\"].values\n",
    "#create param grid variable.list all thr possible values for eachh parameter\n",
    "param_grid={\n",
    "    \"max_depth\": [5.15,25],\n",
    "    \"min_samples_leaf\": [1,3],\n",
    "    \"max_leaf_nodes\": [10,20,35,50]\n",
    "}\n",
    "#create the grid search object, set scoring as f1 and do a 5 cross validation\n",
    "dt=DecisionTreeClassifier()\n",
    "gs=GridSearchCV(dt, param_grid, scoring=\"f1\", cv=5)\n",
    "#now fit the grid search object\n",
    "gs.fit(x,y)\n",
    "#use the best_params_ attribute to see the model that won \n",
    "print(\"best params:\", gs.best_params_)"
   ]
  },
  {
   "cell_type": "code",
   "execution_count": 54,
   "metadata": {},
   "outputs": [
    {
     "name": "stdout",
     "output_type": "stream",
     "text": [
      "best scores: 0.7405410305771171\n"
     ]
    }
   ],
   "source": [
    "import pandas as pd\n",
    "from sklearn.tree import DecisionTreeClassifier\n",
    "from sklearn.model_selection import GridSearchCV\n",
    "\n",
    "df=pd.read_csv(\"C:\\\\Users\\Makena\\\\Desktop\\\\python\\\\titanicdata.csv\")\n",
    "df[\"male\"]=df[\"sex\"]==\"male\"\n",
    "x=df[[\"pclass\",\"male\",\"age\",\"siblings/spouses\",\"parents/children\",\"fare\"]].values\n",
    "y=df[\"survived\"].values\n",
    "\n",
    "param_grid={\n",
    "    \"max_depth\": [5,15,25],\n",
    "    \"min_samples_leaf\": [1,3],\n",
    "    \"max_leaf_nodes\": [10,20,35,50]\n",
    "}\n",
    "dt=DecisionTreeClassifier()\n",
    "gs=GridSearchCV(dt, param_grid, scoring=\"f1\", cv=5)\n",
    "gs.fit(x,y)\n",
    "print(\"best scores:\", gs.best_score_)"
   ]
  },
  {
   "cell_type": "markdown",
   "metadata": {},
   "source": [
    "# Random forest model"
   ]
  },
  {
   "cell_type": "code",
   "execution_count": 58,
   "metadata": {},
   "outputs": [
    {
     "name": "stdout",
     "output_type": "stream",
     "text": [
      "data dimension (569, 30)\n"
     ]
    }
   ],
   "source": [
    "import pandas as pd\n",
    "from sklearn.datasets import load_breast_cancer\n",
    "\n",
    "cancer_data=load_breast_cancer()\n",
    "df=pd.DataFrame(cancer_data[\"data\"],columns=cancer_data[\"feature_names\"])\n",
    "df[\"target\"]=cancer_data[\"target\"]\n",
    "\n",
    "x=df[cancer_data.feature_names].values\n",
    "y=df[\"target\"].values\n",
    "print(\"data dimension\", x.shape)"
   ]
  },
  {
   "cell_type": "markdown",
   "metadata": {},
   "source": [
    "the datsets has 569 datapoints and 30 features"
   ]
  },
  {
   "cell_type": "code",
   "execution_count": 61,
   "metadata": {},
   "outputs": [
    {
     "name": "stderr",
     "output_type": "stream",
     "text": [
      "C:\\Users\\Makena\\Anaconda3\\lib\\site-packages\\sklearn\\ensemble\\forest.py:245: FutureWarning: The default value of n_estimators will change from 10 in version 0.20 to 100 in 0.22.\n",
      "  \"10 in version 0.20 to 100 in 0.22.\", FutureWarning)\n"
     ]
    },
    {
     "name": "stdout",
     "output_type": "stream",
     "text": [
      "prediction: [0]\n",
      "true value: 0\n"
     ]
    }
   ],
   "source": [
    "import pandas as pd\n",
    "from sklearn.datasets import load_breast_cancer\n",
    "from sklearn.ensemble import RandomForestClassifier\n",
    "from sklearn.model_selection import train_test_split\n",
    "\n",
    "cancer_data=load_breast_cancer()\n",
    "df=pd.DataFrame(cancer_data[\"data\"], columns=cancer_data[\"feature_names\"])\n",
    "df[\"target\"]=cancer_data[\"target\"]\n",
    "\n",
    "x=df[cancer_data.feature_names].values\n",
    "y=df[\"target\"].values\n",
    "\n",
    "x_train,x_test,y_train,y_test=train_test_split(x,y, random_state=89)\n",
    "\n",
    "rf=RandomForestClassifier()\n",
    "rf.fit(x_train,y_train)\n",
    "\n",
    "first_row=x_test[0]\n",
    "print(\"prediction:\", rf.predict([first_row])) #predict method takes an array of points so even we have just one point we have to put it in a list\n",
    "print(\"true value:\", y_test[0])\n"
   ]
  },
  {
   "cell_type": "code",
   "execution_count": null,
   "metadata": {},
   "outputs": [],
   "source": [
    "the results 0 means that teh lump was not cancerous"
   ]
  },
  {
   "cell_type": "code",
   "execution_count": 90,
   "metadata": {},
   "outputs": [
    {
     "name": "stdout",
     "output_type": "stream",
     "text": [
      "random forest accuracy: 0.972027972027972\n"
     ]
    },
    {
     "name": "stderr",
     "output_type": "stream",
     "text": [
      "C:\\Users\\Makena\\Anaconda3\\lib\\site-packages\\sklearn\\ensemble\\forest.py:245: FutureWarning: The default value of n_estimators will change from 10 in version 0.20 to 100 in 0.22.\n",
      "  \"10 in version 0.20 to 100 in 0.22.\", FutureWarning)\n"
     ]
    }
   ],
   "source": [
    "import pandas as pd\n",
    "from sklearn.datasets import load_breast_cancer \n",
    "from sklearn.ensemble import RandomForestClassifier\n",
    "from sklearn.model_selection import train_test_split\n",
    "\n",
    "cancerdata=load_breast_cancer()\n",
    "df=pd.DataFrame(cancerdata[\"data\"], columns=cancerdata[\"feature_names\"])\n",
    "df[\"target\"]=cancerdata[\"target\"]\n",
    "\n",
    "x=df[cancerdata.feature_names].values\n",
    "y=df[\"target\"].values\n",
    "\n",
    "x_train,x_test,y_train,y_test=train_test_split(x,y,random_state=110)\n",
    "rf=RandomForestClassifier()\n",
    "rf.fit(x_train,y_train)\n",
    "print(\"random forest accuracy:\",rf.score(x_test,y_test))\n"
   ]
  },
  {
   "cell_type": "code",
   "execution_count": 68,
   "metadata": {},
   "outputs": [
    {
     "name": "stdout",
     "output_type": "stream",
     "text": [
      "decision tree accuracy: 0.9020979020979021\n"
     ]
    }
   ],
   "source": [
    "#campare to the decision tree \n",
    "import pandas as pd\n",
    "from sklearn.datasets import load_breast_cancer\n",
    "from sklearn.tree import DecisionTreeClassifier\n",
    "from sklearn.model_selection import train_test_split\n",
    "\n",
    "cancerdata=load_breast_cancer()\n",
    "df=pd.DataFrame(cancerdata[\"data\"], columns=cancerdata[\"feature_names\"])\n",
    "df[\"target\"]=cancerdata[\"target\"]\n",
    "x=df[cancerdata.feature_names].values\n",
    "y=df[\"target\"].values\n",
    "\n",
    "x_train,x_test,y_train,y_test=train_test_split(x,y,random_state=45)\n",
    "dt=DecisionTreeClassifier()\n",
    "dt.fit(x_train,y_train)\n",
    "first_row=x_test[0]\n",
    "print(\"decision tree accuracy:\", dt.score(x_test,y_test))\n"
   ]
  },
  {
   "cell_type": "markdown",
   "metadata": {},
   "source": [
    "Grid Search\n",
    "lets use grid search to compare the performance of a random forest with different no of trees"
   ]
  },
  {
   "cell_type": "code",
   "execution_count": 74,
   "metadata": {},
   "outputs": [
    {
     "name": "stdout",
     "output_type": "stream",
     "text": [
      "best parameters: {'n_estimators': 50}\n"
     ]
    }
   ],
   "source": [
    "import pandas as pd\n",
    "from sklearn.datasets import load_breast_cancer\n",
    "from sklearn.ensemble import RandomForestClassifier\n",
    "from sklearn.model_selection import GridSearchCV\n",
    "\n",
    "cancerdata=load_breast_cancer()\n",
    "df=pd.DataFrame(cancerdata[\"data\"], columns=cancerdata[\"feature_names\"])\n",
    "df[\"target\"]=cancerdata[\"target\"]\n",
    "x=df[cancerdata.feature_names].values\n",
    "y=df[\"target\"].values\n",
    "\n",
    "param_grid={\n",
    "    \"n_estimators\": [10,25,50,75,100]\n",
    "}\n",
    "rf=RandomForestClassifier()\n",
    "gs=GridSearchCV(rf, param_grid,cv=5)\n",
    "gs.fit(x,y)\n",
    "print(\"best parameters:\", gs.best_params_)"
   ]
  },
  {
   "cell_type": "code",
   "execution_count": 76,
   "metadata": {},
   "outputs": [
    {
     "name": "stdout",
     "output_type": "stream",
     "text": [
      "best parameters: {'n_estimators': 25}\n"
     ]
    }
   ],
   "source": [
    "import pandas as pd\n",
    "from sklearn.datasets import load_breast_cancer\n",
    "from sklearn.ensemble import RandomForestClassifier\n",
    "from sklearn.model_selection import GridSearchCV\n",
    "\n",
    "cancerdata=load_breast_cancer()\n",
    "df=pd.DataFrame(cancerdata[\"data\"], columns=cancerdata[\"feature_names\"])\n",
    "df[\"target\"]=cancerdata[\"target\"]\n",
    "x=df[cancerdata.feature_names].values\n",
    "y=df[\"target\"].values\n",
    "\n",
    "param_grid={\n",
    "    \"n_estimators\": [10,25,50,75,100]\n",
    "}\n",
    "rf=RandomForestClassifier(random_state=110)\n",
    "gs=GridSearchCV(rf, param_grid, scoring=\"f1\", cv=5)\n",
    "gs.fit(x,y)\n",
    "print(\"best parameters:\", gs.best_params_)"
   ]
  },
  {
   "cell_type": "markdown",
   "metadata": {},
   "source": [
    "Elbow Graph\n",
    "a model that optimizes performance without adding complexity"
   ]
  },
  {
   "cell_type": "code",
   "execution_count": null,
   "metadata": {},
   "outputs": [],
   "source": [
    "import pandas as pd\n",
    "from sklearn.datasets import load_breast_cancer\n",
    "from sklearn.ensemble import RandomForestClassifier\n",
    "from sklearn.model_selection import GridSearchCV\n",
    "import numpy as np\n",
    "import matplotlib.pyplot as plt\n",
    "\n",
    "cancerdata=load_breast_cancer()\n",
    "df=pd.DataFrame(cancerdata[\"data\"], columns=cancerdata[\"feature_names\"])\n",
    "df[\"target\"]=cancerdata[\"target\"]\n",
    "x=df[cancerdata.feature_names].values\n",
    "y=df[\"target\"].values\n",
    "\n",
    "n_estimators=list(range(1,101))\n",
    "param_grid={\n",
    "    \"n_estimators\": n_estimators   \n",
    "}\n",
    "rf=RandomForestClassifier(n_estimators=10, random_state=110)\n",
    "gs=GridSearchCV(rf, param_grid, cv=5)\n",
    "gs.fit(x,y)\n",
    "\n",
    "scores=[]\n",
    "scores=gs.cv_results_[\"mean_test_scores\"]\n",
    "plt.plot(n_estimators, scores)\n",
    "plt.xlabel(\"n_estimators\")\n",
    "plt.ylabel(\"accuracy\")\n",
    "plt.xlimit(0,100)\n",
    "plt.ylimit(0.9,1.0)\n",
    "plt.show()\n",
    "\n",
    "\n"
   ]
  },
  {
   "cell_type": "markdown",
   "metadata": {},
   "source": [
    "Feature importances\n",
    "feature_importances variable with the model which shows the relative importnace of each feature"
   ]
  },
  {
   "cell_type": "code",
   "execution_count": 82,
   "metadata": {},
   "outputs": [
    {
     "name": "stdout",
     "output_type": "stream",
     "text": [
      "worst area              0.174289\n",
      "worst perimeter         0.110981\n",
      "mean perimeter          0.095737\n",
      "radius error            0.087071\n",
      "mean concavity          0.081759\n",
      "mean area               0.080715\n",
      "worst concave points    0.078010\n",
      "mean concave points     0.074280\n",
      "worst radius            0.044912\n",
      "worst concavity         0.042233\n",
      "dtype: float64\n"
     ]
    }
   ],
   "source": [
    "#lets find the feature importances ina random foresr with n_estimators=10 using the training dataset and display them in descending order\n",
    "import pandas as pd\n",
    "from sklearn.datasets import load_breast_cancer\n",
    "from sklearn.ensemble import RandomForestClassifier\n",
    "from sklearn.model_selection import train_test_split\n",
    "\n",
    "cancerdata=load_breast_cancer()\n",
    "df=pd.DataFrame(cancerdata[\"data\"], columns=cancerdata[\"feature_names\"])\n",
    "df[\"target\"]=cancerdata[\"target\"]\n",
    "x=df[cancerdata.feature_names].values\n",
    "y=df[\"target\"].values\n",
    "\n",
    "x_train,x_test,y_train,y_test=train_test_split(x,y,random_state=110)\n",
    "rf=RandomForestClassifier(n_estimators=10, random_state=98)\n",
    "rf.fit(x_train,y_train)\n",
    "ft_imp=pd.Series(rf.feature_importances_, index=cancerdata.feature_names).sort_values(ascending=False)\n",
    "print(ft_imp.head(10))"
   ]
  },
  {
   "cell_type": "markdown",
   "metadata": {},
   "source": [
    "from the above ouput we can see that among all features worst area is the most important(0.17) followed byworst perimeter and mean perimeter "
   ]
  },
  {
   "cell_type": "code",
   "execution_count": 102,
   "metadata": {},
   "outputs": [
    {
     "name": "stdout",
     "output_type": "stream",
     "text": [
      "['worst radius', 'worst texture', 'worst perimeter', 'worst area', 'worst smoothness', 'worst compactness', 'worst concavity', 'worst concave points', 'worst symmetry', 'worst fractal dimension']\n"
     ]
    }
   ],
   "source": [
    "#find the features whose names include the word \"worst\"\n",
    "import pandas as pd\n",
    "from sklearn.datasets import load_breast_cancer\n",
    "\n",
    "cancerdata=load_breast_cancer()\n",
    "df=pd.DataFrame(cancerdata[\"data\"], columns=cancerdata[\"feature_names\"])\n",
    "df[\"target\"]=cancerdata[\"target\"]\n",
    "\n",
    "worst_cols=[col for col in df.columns if \"worst\" in col]\n",
    "print(worst_cols)"
   ]
  },
  {
   "cell_type": "code",
   "execution_count": 101,
   "metadata": {},
   "outputs": [
    {
     "name": "stdout",
     "output_type": "stream",
     "text": [
      "accuracy: 0.965034965034965\n"
     ]
    }
   ],
   "source": [
    "import pandas as pd\n",
    "from sklearn.datasets import load_breast_cancer\n",
    "from sklearn.ensemble import RandomForestClassifier\n",
    "from sklearn.model_selection import train_test_split\n",
    "\n",
    "cancerdata=load_breast_cancer()\n",
    "df=pd.DataFrame(cancerdata[\"data\"],columns=cancerdata[\"feature_names\"])\n",
    "df[\"target\"]=cancerdata[\"target\"]\n",
    "x=df[cancerdata.feature_names].values\n",
    "y=df[\"target\"].values\n",
    "\n",
    "x_train,x_test,y_train,y_test=train_test_split(x,y,random_state=101)\n",
    "rf=RandomForestClassifier(n_estimators=10, random_state=111)\n",
    "rf.fit(x_train,y_train)\n",
    "print(\"accuracy:\", rf.score(x_test,y_test))"
   ]
  },
  {
   "cell_type": "markdown",
   "metadata": {},
   "source": [
    "In the above we seem to notice that features with \"worst\" seem to have higher importances"
   ]
  },
  {
   "cell_type": "code",
   "execution_count": 100,
   "metadata": {},
   "outputs": [
    {
     "name": "stdout",
     "output_type": "stream",
     "text": [
      "0.972027972027972\n"
     ]
    }
   ],
   "source": [
    "#accuracy compared with above\n",
    "import pandas as pd\n",
    "from sklearn.datasets import load_breast_cancer\n",
    "from sklearn.model_selection import train_test_split\n",
    "from sklearn.ensemble import RandomForestClassifier\n",
    "\n",
    "cancerdata=load_breast_cancer()\n",
    "df=pd.DataFrame(cancerdata[\"data\"], columns=cancerdata[\"feature_names\"])\n",
    "df[\"target\"]=cancerdata[\"target\"]\n",
    "x=df[cancerdata.feature_names].values\n",
    "y=df[\"target\"].values\n",
    "\n",
    "rf=RandomForestClassifier(n_estimators=10, random_state=111)\n",
    "#find the features whose names include \"worst\"\n",
    "worst_cols=[col for col in df.columns if \"worst\" in col]\n",
    "#now we create another dataframe with the selected features followed by a train test split with the same random state\n",
    "x_worst=df[worst_cols]\n",
    "x_train,x_test,y_train,y_test=train_test_split(x_worst,y,random_state=101)\n",
    "rf.fit(x_train,y_train)\n",
    "print(rf.score(x_test,y_test))\n",
    "\n"
   ]
  },
  {
   "cell_type": "raw",
   "metadata": {},
   "source": [
    "Performance\n",
    "the function make_circles makes a classification dataset with concentric circles.\n",
    "we use kfold cross validation to campare the accuracy scores and see that the logistic regression model performs worse than random guessing but the random forest performs quite well"
   ]
  },
  {
   "cell_type": "code",
   "execution_count": 108,
   "metadata": {},
   "outputs": [
    {
     "name": "stderr",
     "output_type": "stream",
     "text": [
      "C:\\Users\\Makena\\Anaconda3\\lib\\site-packages\\sklearn\\linear_model\\logistic.py:432: FutureWarning: Default solver will be changed to 'lbfgs' in 0.22. Specify a solver to silence this warning.\n",
      "  FutureWarning)\n",
      "C:\\Users\\Makena\\Anaconda3\\lib\\site-packages\\sklearn\\linear_model\\logistic.py:432: FutureWarning: Default solver will be changed to 'lbfgs' in 0.22. Specify a solver to silence this warning.\n",
      "  FutureWarning)\n",
      "C:\\Users\\Makena\\Anaconda3\\lib\\site-packages\\sklearn\\linear_model\\logistic.py:432: FutureWarning: Default solver will be changed to 'lbfgs' in 0.22. Specify a solver to silence this warning.\n",
      "  FutureWarning)\n",
      "C:\\Users\\Makena\\Anaconda3\\lib\\site-packages\\sklearn\\linear_model\\logistic.py:432: FutureWarning: Default solver will be changed to 'lbfgs' in 0.22. Specify a solver to silence this warning.\n",
      "  FutureWarning)\n"
     ]
    },
    {
     "name": "stdout",
     "output_type": "stream",
     "text": [
      "lr accuracy: 0.37\n",
      "rf accuracy: 0.8400000000000001\n"
     ]
    },
    {
     "name": "stderr",
     "output_type": "stream",
     "text": [
      "C:\\Users\\Makena\\Anaconda3\\lib\\site-packages\\sklearn\\linear_model\\logistic.py:432: FutureWarning: Default solver will be changed to 'lbfgs' in 0.22. Specify a solver to silence this warning.\n",
      "  FutureWarning)\n"
     ]
    }
   ],
   "source": [
    "from sklearn.datasets import make_circles\n",
    "from sklearn.model_selection import KFold\n",
    "from sklearn.linear_model import LogisticRegression\n",
    "from sklearn.ensemble import RandomForestClassifier\n",
    "import numpy as np\n",
    "\n",
    "x,y=make_circles(noise=0.2, factor=0.5, random_state=1)\n",
    "kf=KFold(n_splits=5, shuffle=True, random_state=1)\n",
    "lr_scores=[]\n",
    "rf_scores=[]\n",
    "\n",
    "for train_index,test_index in kf.split(x):\n",
    "    x_train,x_test=x[train_index], x[test_index]\n",
    "    y_train,y_test=y[train_index],y[test_index]\n",
    "    lr=LogisticRegression()\n",
    "    lr.fit(x_train,y_train)\n",
    "    lr_scores.append(lr.score(x_test,y_test))\n",
    "    rf=RandomForestClassifier(n_estimators=100)\n",
    "    rf.fit(x_train,y_train)\n",
    "    rf_scores.append(rf.score(x_test,y_test))\n",
    "print(\"lr accuracy:\", np.mean(lr_scores))\n",
    "print(\"rf accuracy:\", np.mean(rf_scores))\n",
    "    "
   ]
  },
  {
   "cell_type": "code",
   "execution_count": 110,
   "metadata": {},
   "outputs": [
    {
     "name": "stdout",
     "output_type": "stream",
     "text": [
      "[[ 1.29619246 -1.19338286]\n",
      " [ 0.76455807 -2.44539487]\n",
      " [-0.56135339  1.44773498]\n",
      " [ 0.09018381 -0.21892726]\n",
      " [ 3.20977007 -1.03881206]\n",
      " [ 0.80001485 -1.66246266]\n",
      " [ 0.88468364 -0.41310735]\n",
      " [ 1.44727831  0.57410216]\n",
      " [ 0.17890668  1.6394023 ]\n",
      " [-0.58100008  0.33584532]\n",
      " [-0.40007267  2.04119894]\n",
      " [ 0.86736895 -2.33598454]\n",
      " [ 2.57067557 -0.2757088 ]\n",
      " [-0.50604244  0.36615269]\n",
      " [ 0.58326712  1.22009748]\n",
      " [ 2.35993321 -0.12424544]\n",
      " [-0.25023328  0.0491287 ]\n",
      " [ 1.54520785  0.55053486]\n",
      " [-0.12132899 -0.58306026]\n",
      " [ 1.93823769  0.08503077]\n",
      " [ 0.26842648 -0.03321614]\n",
      " [ 1.28259341 -0.6052909 ]\n",
      " [-1.24399007  0.44172354]\n",
      " [-0.33252253 -0.4085363 ]\n",
      " [-0.25906554  2.1460918 ]\n",
      " [-2.04183382  1.62989998]\n",
      " [ 0.75356541  0.74284632]\n",
      " [ 0.74494799 -1.69867877]\n",
      " [-2.08503765  1.69398556]\n",
      " [ 0.64755294  1.35713573]\n",
      " [ 1.36023958 -0.42680268]\n",
      " [-1.20002643  1.52879135]\n",
      " [-1.16926167 -2.94592209]\n",
      " [ 1.50713573  0.49784377]\n",
      " [-0.86717188  0.44292896]\n",
      " [-0.65100851 -0.18139162]\n",
      " [-0.61231169  1.9581328 ]\n",
      " [ 0.76943194 -1.27209495]\n",
      " [ 1.42047213  0.52835339]\n",
      " [ 1.15720441  0.62857476]\n",
      " [ 1.2110195  -0.99340173]\n",
      " [ 1.08891926  1.01427378]\n",
      " [-1.21637928 -0.67049437]\n",
      " [ 0.7540882  -0.59292029]\n",
      " [ 0.65104016 -0.87540635]\n",
      " [ 0.61228622 -0.66760619]\n",
      " [-1.15322318 -0.55930594]\n",
      " [ 0.9751491  -0.07935889]\n",
      " [-0.68752925  2.70557335]\n",
      " [ 1.45467028  0.5305809 ]\n",
      " [-1.02934082  1.61882875]\n",
      " [ 0.73121797  0.78491622]\n",
      " [-0.76836066  2.64536187]\n",
      " [ 1.36803133 -0.42683556]\n",
      " [ 1.5712194  -0.56634981]\n",
      " [-1.17635927 -0.4082274 ]\n",
      " [ 0.04109935  1.09921185]\n",
      " [ 1.02875005  1.09087416]\n",
      " [-2.66474084  2.49277994]\n",
      " [ 0.66721754 -1.10970556]\n",
      " [ 1.41977144 -1.15516349]\n",
      " [ 0.72549452 -0.50767362]\n",
      " [-0.87117928 -0.54828912]\n",
      " [ 1.4248824   0.71838145]\n",
      " [ 0.7897617   0.31888107]\n",
      " [-2.55673111  0.48095735]\n",
      " [-2.06574644  1.18794747]\n",
      " [-2.16875069 -1.45409905]\n",
      " [-1.82761265  1.00873328]\n",
      " [-0.92431911 -3.11057891]\n",
      " [ 0.64138689 -0.83568997]\n",
      " [ 0.60949189  1.31324877]\n",
      " [ 0.87593712 -0.74419114]\n",
      " [-0.71866586 -1.81113273]\n",
      " [-3.10109522  1.89328788]\n",
      " [-1.86364246  0.58521398]\n",
      " [-2.37591355 -1.96095268]\n",
      " [ 1.7770297   0.32045557]\n",
      " [-2.42774861 -0.53244395]\n",
      " [ 2.80187717 -0.52159417]\n",
      " [ 0.94455323 -0.82339639]\n",
      " [-1.36513923  0.70919674]\n",
      " [ 1.0867211  -0.7351246 ]\n",
      " [ 1.36152909  0.5689553 ]\n",
      " [ 0.92367965 -0.61803853]\n",
      " [-0.21235292 -0.34674362]\n",
      " [-1.39689542  3.18322911]\n",
      " [ 0.51446525 -0.26083015]\n",
      " [ 1.74504674  0.24178588]\n",
      " [ 1.1187257   0.37451255]\n",
      " [ 0.68360034  1.05726979]\n",
      " [-0.02464677  0.17999889]\n",
      " [-1.09661596  0.63259348]\n",
      " [-2.59347523 -2.28949135]\n",
      " [-0.278784    0.14422342]\n",
      " [ 0.56662388 -1.17736331]\n",
      " [-1.68605938 -1.1761977 ]\n",
      " [-0.17340918  1.97480402]\n",
      " [ 1.50088126 -1.69179892]\n",
      " [ 0.85639208  1.09821007]]\n",
      "[0 0 1 0 1 0 1 1 1 1 1 0 1 0 1 1 1 1 0 1 1 0 1 0 1 1 1 0 1 1 0 0 0 1 1 0 1\n",
      " 0 1 1 0 1 0 0 0 0 0 0 1 1 1 1 1 0 0 0 1 1 1 0 0 0 0 1 0 1 1 0 1 0 0 1 0 1\n",
      " 1 0 0 1 0 1 0 0 0 1 0 1 1 0 1 0 1 0 0 0 0 0 0 1 0 1]\n"
     ]
    }
   ],
   "source": [
    "from sklearn.datasets import make_classification\n",
    "x,y=make_classification(n_features=2, n_redundant=0, n_informative=2, random_state=3)\n",
    "print(x)\n",
    "print(y)"
   ]
  },
  {
   "cell_type": "code",
   "execution_count": 117,
   "metadata": {},
   "outputs": [
    {
     "data": {
      "image/png": "[encoded data removed]",
      "text/plain": [
       "<Figure size 432x288 with 1 Axes>"
      ]
     },
     "metadata": {
      "needs_background": "light"
     },
     "output_type": "display_data"
    }
   ],
   "source": [
    "from sklearn.datasets import make_classification\n",
    "import matplotlib.pyplot as  plt\n",
    "\n",
    "x,y=make_classification(n_features=2, n_redundant=0, n_informative=2,random_state=3)\n",
    "plt.scatter(x[y==0][:,0], x[y==0][:,1], s=100,edgecolors=\"k\")\n",
    "plt.scatter(x[y==1][:,0], x[y==1][:,1], s=100, edgecolors=\"k\", marker=\"^\")\n",
    "plt.show()"
   ]
  },
  {
   "cell_type": "code",
   "execution_count": null,
   "metadata": {},
   "outputs": [],
   "source": [
    "MLP Classifier"
   ]
  },
  {
   "cell_type": "code",
   "execution_count": 121,
   "metadata": {},
   "outputs": [
    {
     "name": "stderr",
     "output_type": "stream",
     "text": [
      "C:\\Users\\Makena\\Anaconda3\\lib\\site-packages\\sklearn\\neural_network\\multilayer_perceptron.py:566: ConvergenceWarning: Stochastic Optimizer: Maximum iterations (200) reached and the optimization hasn't converged yet.\n",
      "  % self.max_iter, ConvergenceWarning)\n"
     ]
    },
    {
     "data": {
      "text/plain": [
       "MLPClassifier(activation='relu', alpha=0.0001, batch_size='auto', beta_1=0.9,\n",
       "              beta_2=0.999, early_stopping=False, epsilon=1e-08,\n",
       "              hidden_layer_sizes=(100,), learning_rate='constant',\n",
       "              learning_rate_init=0.001, max_iter=200, momentum=0.9,\n",
       "              n_iter_no_change=10, nesterovs_momentum=True, power_t=0.5,\n",
       "              random_state=None, shuffle=True, solver='adam', tol=0.0001,\n",
       "              validation_fraction=0.1, verbose=False, warm_start=False)"
      ]
     },
     "execution_count": 121,
     "metadata": {},
     "output_type": "execute_result"
    }
   ],
   "source": [
    "from sklearn.datasets import make_classification\n",
    "from sklearn.model_selection import train_test_split\n",
    "from sklearn.neural_network import MLPClassifier\n",
    "\n",
    "x,y=make_classification(n_features=2,n_redundant=0, n_informative=2,random_state=0)\n",
    "x_train,x_test,y_train,y_test=train_test_split(x,y, random_state=3)\n",
    "mlp=MLPClassifier()\n",
    "mlp.fit(x_train,y_train)"
   ]
  },
  {
   "cell_type": "markdown",
   "metadata": {},
   "source": [
    "if in the above we get a convergence warning then we have to increase the value of max_iter "
   ]
  },
  {
   "cell_type": "code",
   "execution_count": 124,
   "metadata": {},
   "outputs": [
    {
     "name": "stdout",
     "output_type": "stream",
     "text": [
      "accuracy: 0.64\n"
     ]
    }
   ],
   "source": [
    "from sklearn.datasets import make_classification\n",
    "from sklearn.model_selection import train_test_split\n",
    "from sklearn.neural_network import MLPClassifier\n",
    "x,y=make_classification(n_features=2,n_redundant=0,n_informative=2,random_state=3)\n",
    "x_train,x_test,y_train,y_test=train_test_split(x,y,random_state=3)\n",
    "mlp=MLPClassifier(max_iter=1000)\n",
    "mlp.fit(x_train,y_train)\n",
    "print(\"accuracy:\", mlp.score(x_test,y_test))"
   ]
  },
  {
   "cell_type": "code",
   "execution_count": 127,
   "metadata": {},
   "outputs": [
    {
     "name": "stdout",
     "output_type": "stream",
     "text": [
      "accuracy: 0.76\n"
     ]
    }
   ],
   "source": [
    "from sklearn.datasets import make_classification\n",
    "from sklearn.model_selection import train_test_split\n",
    "from sklearn.neural_network import MLPClassifier\n",
    "\n",
    "x,y=make_classification(n_features=2, n_redundant=0, n_informative=2, random_state=3)\n",
    "x_train,x_test,y_train,y_test=train_test_split(x,y, random_state=3)\n",
    "mlp=MLPClassifier(max_iter=1000, hidden_layer_sizes=(100,50), solver=\"adam\", random_state=3)\n",
    "mlp.fit(x_train,y_train)\n",
    "print(\"accuracy:\", mlp.score(x_test,y_test))\n"
   ]
  },
  {
   "cell_type": "code",
   "execution_count": null,
   "metadata": {},
   "outputs": [],
   "source": [
    "MNIST Dataset"
   ]
  },
  {
   "cell_type": "code",
   "execution_count": 131,
   "metadata": {},
   "outputs": [
    {
     "name": "stdout",
     "output_type": "stream",
     "text": [
      "(360, 64) (360,)\n",
      "[ 0.  0.  5. 13.  9.  1.  0.  0.  0.  0. 13. 15. 10. 15.  5.  0.  0.  3.\n",
      " 15.  2.  0. 11.  8.  0.  0.  4. 12.  0.  0.  8.  8.  0.  0.  5.  8.  0.\n",
      "  0.  9.  8.  0.  0.  4. 11.  0.  1. 12.  7.  0.  0.  2. 14.  5. 10. 12.\n",
      "  0.  0.  0.  0.  6. 13. 10.  0.  0.  0.]\n",
      "0\n",
      "[[ 0.  0.  5. 13.  9.  1.  0.  0.]\n",
      " [ 0.  0. 13. 15. 10. 15.  5.  0.]\n",
      " [ 0.  3. 15.  2.  0. 11.  8.  0.]\n",
      " [ 0.  4. 12.  0.  0.  8.  8.  0.]\n",
      " [ 0.  5.  8.  0.  0.  9.  8.  0.]\n",
      " [ 0.  4. 11.  0.  1. 12.  7.  0.]\n",
      " [ 0.  2. 14.  5. 10. 12.  0.  0.]\n",
      " [ 0.  0.  6. 13. 10.  0.  0.  0.]]\n"
     ]
    }
   ],
   "source": [
    "from sklearn.datasets import load_digits\n",
    "#we use the n_class parameter to limit the no of target values to 2 \n",
    "X,y=load_digits(n_class=2, return_X_y=True)\n",
    "print(X.shape, y.shape)\n",
    "print(X[0])\n",
    "print(y[0])\n",
    "print(X[0].reshape(8,8))"
   ]
  },
  {
   "cell_type": "markdown",
   "metadata": {},
   "source": [
    "in the above we have 360 datapoints and each datapoint has 64 features\n",
    "we have 64 features because the image 8x8 pixels and we have 1 feature per pixel"
   ]
  },
  {
   "cell_type": "markdown",
   "metadata": {},
   "source": [
    "Drawing the Digits\n",
    "we use the matplotlib function matshow to draw the image \n",
    "the cmap parameter is used to indicate that the image should be in a grayscale rather than coloured "
   ]
  },
  {
   "cell_type": "code",
   "execution_count": 134,
   "metadata": {},
   "outputs": [
    {
     "data": {
      "image/png": "[encoded data removed]",
      "text/plain": [
       "<Figure size 288x288 with 1 Axes>"
      ]
     },
     "metadata": {},
     "output_type": "display_data"
    }
   ],
   "source": [
    "import matplotlib.pyplot as plt\n",
    "from sklearn.datasets import load_digits\n",
    "X,y=load_digits(n_class=2, return_X_y=True)\n",
    "plt.matshow(X[0].reshape(8,8), cmap=plt.cm.gray)\n",
    "plt.xticks(())\n",
    "plt.yticks(())\n",
    "plt.show()\n"
   ]
  },
  {
   "cell_type": "code",
   "execution_count": null,
   "metadata": {},
   "outputs": [],
   "source": [
    "MLP for MNIST dataset"
   ]
  },
  {
   "cell_type": "code",
   "execution_count": 142,
   "metadata": {},
   "outputs": [
    {
     "data": {
      "image/png": "[encoded data removed]",
      "text/plain": [
       "<Figure size 288x288 with 1 Axes>"
      ]
     },
     "metadata": {},
     "output_type": "display_data"
    },
    {
     "name": "stdout",
     "output_type": "stream",
     "text": [
      "[0]\n"
     ]
    }
   ],
   "source": [
    "from sklearn.datasets import load_digits\n",
    "from sklearn.neural_network import MLPClassifier\n",
    "import matplotlib.pyplot as plt\n",
    "from sklearn.model_selection import train_test_split\n",
    "X,y=load_digits(n_class=2,return_X_y=True)\n",
    "X_train,X_test,y_train,y_test=train_test_split(X,y, random_state=2)\n",
    "mlp=MLPClassifier()\n",
    "mlp.fit(X_train,y_train)\n",
    "\n",
    "#predict the first datapoint in the dataset\n",
    "x=X_test[0]\n",
    "plt.matshow(x.reshape(8,8), cmap=plt.cm.gray)\n",
    "plt.xticks(())\n",
    "plt.yticks(())\n",
    "plt.show()\n",
    "print(mlp.predict([x]))"
   ]
  },
  {
   "cell_type": "markdown",
   "metadata": {},
   "source": [
    "we can see that our model predicts correctly 0"
   ]
  },
  {
   "cell_type": "code",
   "execution_count": 146,
   "metadata": {},
   "outputs": [
    {
     "name": "stdout",
     "output_type": "stream",
     "text": [
      "[1]\n"
     ]
    },
    {
     "data": {
      "image/png": "[encoded data removed]",
      "text/plain": [
       "<Figure size 288x288 with 1 Axes>"
      ]
     },
     "metadata": {},
     "output_type": "display_data"
    }
   ],
   "source": [
    "#for the second datapoint\n",
    "from sklearn.datasets import load_digits\n",
    "from sklearn.model_selection import train_test_split\n",
    "import matplotlib.pyplot as plt\n",
    "from sklearn.neural_network import MLPClassifier\n",
    "\n",
    "x,y=load_digits(n_class=2, return_X_y=True)\n",
    "X_train,X_test,y_train,y_test=train_test_split(X,y, random_state=2)\n",
    "mlp=MLPClassifier()\n",
    "mlp.fit(X_train,y_train)\n",
    "\n",
    "x=X_test[1]\n",
    "plt.matshow(x.reshape(8,8), cmap=plt.cm.gray)\n",
    "plt.xticks(())\n",
    "plt.yticks(())\n",
    "print(mlp.predict([x]))\n"
   ]
  },
  {
   "cell_type": "code",
   "execution_count": 147,
   "metadata": {},
   "outputs": [
    {
     "name": "stdout",
     "output_type": "stream",
     "text": [
      "accuracy: 1.0\n"
     ]
    }
   ],
   "source": [
    "#accuracy\n",
    "from sklearn.datasets import load_digits\n",
    "from sklearn.model_selection import train_test_split\n",
    "from sklearn.neural_network import MLPClassifier\n",
    "\n",
    "X,y=load_digits(n_class=2, return_X_y=True)\n",
    "X_train,X_test,y_train,y_test=train_test_split(X,y, random_state=2)\n",
    "mlp=MLPClassifier()\n",
    "mlp.fit(X_train,y_train)\n",
    "print(\"accuracy:\", mlp.score(X_test,y_test))"
   ]
  },
  {
   "cell_type": "markdown",
   "metadata": {},
   "source": [
    "Classifying all 10 digits"
   ]
  },
  {
   "cell_type": "code",
   "execution_count": 14,
   "metadata": {},
   "outputs": [
    {
     "name": "stdout",
     "output_type": "stream",
     "text": [
      "0.96\n"
     ]
    }
   ],
   "source": [
    "from sklearn.datasets import load_digits \n",
    "from sklearn.model_selection import train_test_split\n",
    "from sklearn.neural_network import MLPClassifier\n",
    "\n",
    "X,y=load_digits(return_X_y=True)\n",
    "X_train,X_test,y_train,y_test=train_test_split(X,y, random_state=2)\n",
    "mlp=MLPClassifier(random_state=2)\n",
    "mlp.fit(X_train,y_train)\n",
    "print(mlp.score(X_test,y_test))"
   ]
  },
  {
   "cell_type": "code",
   "execution_count": 15,
   "metadata": {},
   "outputs": [],
   "source": [
    "y_pred=mlp.predict(X_test)\n",
    "incorrect=X_test[y_pred != y_test]\n",
    "incorrect_true=y_test[y_pred != y_test]\n",
    "incorrect_pred=y_pred[y_pred != y_test]"
   ]
  },
  {
   "cell_type": "code",
   "execution_count": 16,
   "metadata": {},
   "outputs": [
    {
     "ename": "NameError",
     "evalue": "name 'plt' is not defined",
     "output_type": "error",
     "traceback": [
      "\u001b[1;31m---------------------------------------------------------------------------\u001b[0m",
      "\u001b[1;31mNameError\u001b[0m                                 Traceback (most recent call last)",
      "\u001b[1;32m<ipython-input-16-23bc8c8f2a20>\u001b[0m in \u001b[0;36m<module>\u001b[1;34m\u001b[0m\n\u001b[0;32m      1\u001b[0m \u001b[0mj\u001b[0m\u001b[1;33m=\u001b[0m\u001b[1;36m0\u001b[0m\u001b[1;33m\u001b[0m\u001b[1;33m\u001b[0m\u001b[0m\n\u001b[1;32m----> 2\u001b[1;33m \u001b[0mplt\u001b[0m\u001b[1;33m.\u001b[0m\u001b[0mmatshow\u001b[0m\u001b[1;33m(\u001b[0m\u001b[0mincorrect\u001b[0m\u001b[1;33m[\u001b[0m\u001b[0mj\u001b[0m\u001b[1;33m]\u001b[0m\u001b[1;33m.\u001b[0m\u001b[0mreshape\u001b[0m\u001b[1;33m(\u001b[0m\u001b[1;36m8\u001b[0m\u001b[1;33m,\u001b[0m\u001b[1;36m8\u001b[0m\u001b[1;33m)\u001b[0m\u001b[1;33m,\u001b[0m \u001b[0mcmap\u001b[0m\u001b[1;33m=\u001b[0m\u001b[0mplt\u001b[0m\u001b[1;33m.\u001b[0m\u001b[0mcm\u001b[0m\u001b[1;33m.\u001b[0m\u001b[0mgray\u001b[0m\u001b[1;33m)\u001b[0m\u001b[1;33m\u001b[0m\u001b[1;33m\u001b[0m\u001b[0m\n\u001b[0m\u001b[0;32m      3\u001b[0m \u001b[0mplt\u001b[0m\u001b[1;33m.\u001b[0m\u001b[0mxticks\u001b[0m\u001b[1;33m(\u001b[0m\u001b[1;33m(\u001b[0m\u001b[1;33m)\u001b[0m\u001b[1;33m)\u001b[0m\u001b[1;33m\u001b[0m\u001b[1;33m\u001b[0m\u001b[0m\n\u001b[0;32m      4\u001b[0m \u001b[0mplt\u001b[0m\u001b[1;33m.\u001b[0m\u001b[0myticks\u001b[0m\u001b[1;33m(\u001b[0m\u001b[1;33m(\u001b[0m\u001b[1;33m)\u001b[0m\u001b[1;33m)\u001b[0m\u001b[1;33m\u001b[0m\u001b[1;33m\u001b[0m\u001b[0m\n\u001b[0;32m      5\u001b[0m \u001b[0mplt\u001b[0m\u001b[1;33m.\u001b[0m\u001b[0mshow\u001b[0m\u001b[1;33m(\u001b[0m\u001b[1;33m)\u001b[0m\u001b[1;33m\u001b[0m\u001b[1;33m\u001b[0m\u001b[0m\n",
      "\u001b[1;31mNameError\u001b[0m: name 'plt' is not defined"
     ]
    }
   ],
   "source": [
    "j=0\n",
    "plt.matshow(incorrect[j].reshape(8,8), cmap=plt.cm.gray)\n",
    "plt.xticks(())\n",
    "plt.yticks(())\n",
    "plt.show()\n",
    "print(\"true values:\", incorrect_true[0])\n",
    "print(\"preducted values:\", incorrect_pred[j])"
   ]
  },
  {
   "cell_type": "code",
   "execution_count": 3,
   "metadata": {},
   "outputs": [
    {
     "name": "stdout",
     "output_type": "stream",
     "text": [
      "0.96\n",
      "[[ 0  0 11  7  0  0  0  0]\n",
      " [ 0  5 16  3  2 14  3  0]\n",
      " [ 0  9 15  0 12 15  0  0]\n",
      " [ 0  6 16 15 16  5  0  0]\n",
      " [ 0  0  6 15 11  0  0  0]\n",
      " [ 0  0  1 16  4  0  0  0]\n",
      " [ 0  0  9 12  0  0  0  0]\n",
      " [ 0  0 13 10  0  0  0  0]]\n",
      "true values: [4]\n",
      "predicted values: [9]\n"
     ]
    }
   ],
   "source": [
    "from sklearn.datasets import load_digits \n",
    "from sklearn.model_selection import train_test_split\n",
    "from sklearn.neural_network import MLPClassifier\n",
    "\n",
    "X,y=load_digits(return_X_y=True)\n",
    "X_train,X_test,y_train,y_test=train_test_split(X,y, random_state=2)\n",
    "mlp=MLPClassifier(random_state=2)\n",
    "mlp.fit(X_train,y_train)\n",
    "print(mlp.score(X_test,y_test))\n",
    "\n",
    "ypred=mlp.predict(X_test)\n",
    "incorrect=X_test[ypred != y_test]\n",
    "incorrect_true=y_test[ypred != y_test]\n",
    "incorrect_predicted=ypred[ypred != y_test]\n",
    "\n",
    "j=[0]\n",
    "print(incorrect[j].reshape(8,8).astype(int))\n",
    "print(\"true values:\", incorrect_true[j])\n",
    "print(\"predicted values:\",incorrect_predicted[j])"
   ]
  },
  {
   "cell_type": "markdown",
   "metadata": {},
   "source": [
    "Open ML"
   ]
  },
  {
   "cell_type": "code",
   "execution_count": 17,
   "metadata": {},
   "outputs": [
    {
     "name": "stderr",
     "output_type": "stream",
     "text": [
      "C:\\Users\\Makena\\Anaconda3\\lib\\site-packages\\sklearn\\datasets\\openml.py:51: RuntimeWarning: Invalid cache, redownloading file\n",
      "  warn(\"Invalid cache, redownloading file\", RuntimeWarning)\n"
     ]
    },
    {
     "ename": "PermissionError",
     "evalue": "[WinError 32] The process cannot access the file because it is being used by another process: 'C:\\\\Users\\\\Makena\\\\scikit_learn_data\\\\openml\\\\openml.org\\\\data/v1/download/52667.gz'",
     "output_type": "error",
     "traceback": [
      "\u001b[1;31m---------------------------------------------------------------------------\u001b[0m",
      "\u001b[1;31mEOFError\u001b[0m                                  Traceback (most recent call last)",
      "\u001b[1;32m~\\Anaconda3\\lib\\site-packages\\sklearn\\datasets\\openml.py\u001b[0m in \u001b[0;36mwrapper\u001b[1;34m()\u001b[0m\n\u001b[0;32m     46\u001b[0m             \u001b[1;32mtry\u001b[0m\u001b[1;33m:\u001b[0m\u001b[1;33m\u001b[0m\u001b[1;33m\u001b[0m\u001b[0m\n\u001b[1;32m---> 47\u001b[1;33m                 \u001b[1;32mreturn\u001b[0m \u001b[0mf\u001b[0m\u001b[1;33m(\u001b[0m\u001b[1;33m)\u001b[0m\u001b[1;33m\u001b[0m\u001b[1;33m\u001b[0m\u001b[0m\n\u001b[0m\u001b[0;32m     48\u001b[0m             \u001b[1;32mexcept\u001b[0m \u001b[0mHTTPError\u001b[0m\u001b[1;33m:\u001b[0m\u001b[1;33m\u001b[0m\u001b[1;33m\u001b[0m\u001b[0m\n",
      "\u001b[1;32m~\\Anaconda3\\lib\\site-packages\\sklearn\\datasets\\openml.py\u001b[0m in \u001b[0;36m_arff_load\u001b[1;34m()\u001b[0m\n\u001b[0;32m    387\u001b[0m \u001b[1;33m\u001b[0m\u001b[0m\n\u001b[1;32m--> 388\u001b[1;33m             arff_file = _arff.loads(response.read().decode('utf-8'),\n\u001b[0m\u001b[0;32m    389\u001b[0m                                     \u001b[0mencode_nominal\u001b[0m\u001b[1;33m=\u001b[0m\u001b[0mencode_nominal\u001b[0m\u001b[1;33m,\u001b[0m\u001b[1;33m\u001b[0m\u001b[1;33m\u001b[0m\u001b[0m\n",
      "\u001b[1;32m~\\Anaconda3\\lib\\gzip.py\u001b[0m in \u001b[0;36mread\u001b[1;34m(self, size)\u001b[0m\n\u001b[0;32m    275\u001b[0m             \u001b[1;32mraise\u001b[0m \u001b[0mOSError\u001b[0m\u001b[1;33m(\u001b[0m\u001b[0merrno\u001b[0m\u001b[1;33m.\u001b[0m\u001b[0mEBADF\u001b[0m\u001b[1;33m,\u001b[0m \u001b[1;34m\"read() on write-only GzipFile object\"\u001b[0m\u001b[1;33m)\u001b[0m\u001b[1;33m\u001b[0m\u001b[1;33m\u001b[0m\u001b[0m\n\u001b[1;32m--> 276\u001b[1;33m         \u001b[1;32mreturn\u001b[0m \u001b[0mself\u001b[0m\u001b[1;33m.\u001b[0m\u001b[0m_buffer\u001b[0m\u001b[1;33m.\u001b[0m\u001b[0mread\u001b[0m\u001b[1;33m(\u001b[0m\u001b[0msize\u001b[0m\u001b[1;33m)\u001b[0m\u001b[1;33m\u001b[0m\u001b[1;33m\u001b[0m\u001b[0m\n\u001b[0m\u001b[0;32m    277\u001b[0m \u001b[1;33m\u001b[0m\u001b[0m\n",
      "\u001b[1;32m~\\Anaconda3\\lib\\gzip.py\u001b[0m in \u001b[0;36mread\u001b[1;34m(self, size)\u001b[0m\n\u001b[0;32m    481\u001b[0m             \u001b[1;32mif\u001b[0m \u001b[0mbuf\u001b[0m \u001b[1;33m==\u001b[0m \u001b[1;34mb\"\"\u001b[0m\u001b[1;33m:\u001b[0m\u001b[1;33m\u001b[0m\u001b[1;33m\u001b[0m\u001b[0m\n\u001b[1;32m--> 482\u001b[1;33m                 raise EOFError(\"Compressed file ended before the \"\n\u001b[0m\u001b[0;32m    483\u001b[0m                                \"end-of-stream marker was reached\")\n",
      "\u001b[1;31mEOFError\u001b[0m: Compressed file ended before the end-of-stream marker was reached",
      "\nDuring handling of the above exception, another exception occurred:\n",
      "\u001b[1;31mPermissionError\u001b[0m                           Traceback (most recent call last)",
      "\u001b[1;32m<ipython-input-17-094e882809d6>\u001b[0m in \u001b[0;36m<module>\u001b[1;34m\u001b[0m\n\u001b[0;32m      3\u001b[0m \u001b[1;32mimport\u001b[0m \u001b[0mnumpy\u001b[0m \u001b[1;32mas\u001b[0m \u001b[0mnp\u001b[0m\u001b[1;33m\u001b[0m\u001b[1;33m\u001b[0m\u001b[0m\n\u001b[0;32m      4\u001b[0m \u001b[1;33m\u001b[0m\u001b[0m\n\u001b[1;32m----> 5\u001b[1;33m \u001b[0mX\u001b[0m\u001b[1;33m,\u001b[0m\u001b[0my\u001b[0m\u001b[1;33m=\u001b[0m\u001b[0mfetch_openml\u001b[0m\u001b[1;33m(\u001b[0m\u001b[1;34m\"mnist_784\"\u001b[0m\u001b[1;33m,\u001b[0m \u001b[0mversion\u001b[0m\u001b[1;33m=\u001b[0m\u001b[1;36m1\u001b[0m\u001b[1;33m,\u001b[0m \u001b[0mreturn_X_y\u001b[0m\u001b[1;33m=\u001b[0m\u001b[1;32mTrue\u001b[0m\u001b[1;33m)\u001b[0m\u001b[1;33m\u001b[0m\u001b[1;33m\u001b[0m\u001b[0m\n\u001b[0m\u001b[0;32m      6\u001b[0m \u001b[0mprint\u001b[0m\u001b[1;33m(\u001b[0m\u001b[0mX\u001b[0m\u001b[1;33m.\u001b[0m\u001b[0mshape\u001b[0m\u001b[1;33m,\u001b[0m \u001b[0my\u001b[0m\u001b[1;33m.\u001b[0m\u001b[0mshape\u001b[0m\u001b[1;33m)\u001b[0m\u001b[1;33m\u001b[0m\u001b[1;33m\u001b[0m\u001b[0m\n\u001b[0;32m      7\u001b[0m \u001b[0mprint\u001b[0m\u001b[1;33m(\u001b[0m\u001b[0mnp\u001b[0m\u001b[1;33m.\u001b[0m\u001b[0mmin\u001b[0m\u001b[1;33m(\u001b[0m\u001b[0mX\u001b[0m\u001b[1;33m)\u001b[0m\u001b[1;33m,\u001b[0m \u001b[0mnp\u001b[0m\u001b[1;33m.\u001b[0m\u001b[0mmax\u001b[0m\u001b[1;33m(\u001b[0m\u001b[0mX\u001b[0m\u001b[1;33m)\u001b[0m\u001b[1;33m)\u001b[0m\u001b[1;33m\u001b[0m\u001b[1;33m\u001b[0m\u001b[0m\n",
      "\u001b[1;32m~\\Anaconda3\\lib\\site-packages\\sklearn\\datasets\\openml.py\u001b[0m in \u001b[0;36mfetch_openml\u001b[1;34m(name, version, data_id, data_home, target_column, cache, return_X_y)\u001b[0m\n\u001b[0;32m    632\u001b[0m     \u001b[1;31m# obtain the data\u001b[0m\u001b[1;33m\u001b[0m\u001b[1;33m\u001b[0m\u001b[1;33m\u001b[0m\u001b[0m\n\u001b[0;32m    633\u001b[0m     arff = _download_data_arff(data_description['file_id'], return_sparse,\n\u001b[1;32m--> 634\u001b[1;33m                                data_home)\n\u001b[0m\u001b[0;32m    635\u001b[0m \u001b[1;33m\u001b[0m\u001b[0m\n\u001b[0;32m    636\u001b[0m     \u001b[1;31m# nominal attributes is a dict mapping from the attribute name to the\u001b[0m\u001b[1;33m\u001b[0m\u001b[1;33m\u001b[0m\u001b[1;33m\u001b[0m\u001b[0m\n",
      "\u001b[1;32m~\\Anaconda3\\lib\\site-packages\\sklearn\\datasets\\openml.py\u001b[0m in \u001b[0;36m_download_data_arff\u001b[1;34m(file_id, sparse, data_home, encode_nominal)\u001b[0m\n\u001b[0;32m    391\u001b[0m         \u001b[1;32mreturn\u001b[0m \u001b[0marff_file\u001b[0m\u001b[1;33m\u001b[0m\u001b[1;33m\u001b[0m\u001b[0m\n\u001b[0;32m    392\u001b[0m \u001b[1;33m\u001b[0m\u001b[0m\n\u001b[1;32m--> 393\u001b[1;33m     \u001b[1;32mreturn\u001b[0m \u001b[0m_arff_load\u001b[0m\u001b[1;33m(\u001b[0m\u001b[1;33m)\u001b[0m\u001b[1;33m\u001b[0m\u001b[1;33m\u001b[0m\u001b[0m\n\u001b[0m\u001b[0;32m    394\u001b[0m \u001b[1;33m\u001b[0m\u001b[0m\n\u001b[0;32m    395\u001b[0m \u001b[1;33m\u001b[0m\u001b[0m\n",
      "\u001b[1;32m~\\Anaconda3\\lib\\site-packages\\sklearn\\datasets\\openml.py\u001b[0m in \u001b[0;36mwrapper\u001b[1;34m()\u001b[0m\n\u001b[0;32m     52\u001b[0m                 \u001b[0mlocal_path\u001b[0m \u001b[1;33m=\u001b[0m \u001b[0m_get_local_path\u001b[0m\u001b[1;33m(\u001b[0m\u001b[0mopenml_path\u001b[0m\u001b[1;33m,\u001b[0m \u001b[0mdata_home\u001b[0m\u001b[1;33m)\u001b[0m\u001b[1;33m\u001b[0m\u001b[1;33m\u001b[0m\u001b[0m\n\u001b[0;32m     53\u001b[0m                 \u001b[1;32mif\u001b[0m \u001b[0mos\u001b[0m\u001b[1;33m.\u001b[0m\u001b[0mpath\u001b[0m\u001b[1;33m.\u001b[0m\u001b[0mexists\u001b[0m\u001b[1;33m(\u001b[0m\u001b[0mlocal_path\u001b[0m\u001b[1;33m)\u001b[0m\u001b[1;33m:\u001b[0m\u001b[1;33m\u001b[0m\u001b[1;33m\u001b[0m\u001b[0m\n\u001b[1;32m---> 54\u001b[1;33m                     \u001b[0mos\u001b[0m\u001b[1;33m.\u001b[0m\u001b[0munlink\u001b[0m\u001b[1;33m(\u001b[0m\u001b[0mlocal_path\u001b[0m\u001b[1;33m)\u001b[0m\u001b[1;33m\u001b[0m\u001b[1;33m\u001b[0m\u001b[0m\n\u001b[0m\u001b[0;32m     55\u001b[0m                 \u001b[1;32mreturn\u001b[0m \u001b[0mf\u001b[0m\u001b[1;33m(\u001b[0m\u001b[1;33m)\u001b[0m\u001b[1;33m\u001b[0m\u001b[1;33m\u001b[0m\u001b[0m\n\u001b[0;32m     56\u001b[0m         \u001b[1;32mreturn\u001b[0m \u001b[0mwrapper\u001b[0m\u001b[1;33m\u001b[0m\u001b[1;33m\u001b[0m\u001b[0m\n",
      "\u001b[1;31mPermissionError\u001b[0m: [WinError 32] The process cannot access the file because it is being used by another process: 'C:\\\\Users\\\\Makena\\\\scikit_learn_data\\\\openml\\\\openml.org\\\\data/v1/download/52667.gz'"
     ]
    }
   ],
   "source": [
    "#check the shape of the arrays, the range of the features values and first few values pf the target array\n",
    "from sklearn.datasets import fetch_openml\n",
    "import numpy as np\n",
    "\n",
    "X,y=fetch_openml(\"mnist_784\", version=1, return_X_y=True)\n",
    "print(X.shape, y.shape)\n",
    "print(np.min(X), np.max(X))\n",
    "print(y[0:5])"
   ]
  },
  {
   "cell_type": "code",
   "execution_count": null,
   "metadata": {},
   "outputs": [],
   "source": []
  },
  {
   "cell_type": "code",
   "execution_count": null,
   "metadata": {},
   "outputs": [],
   "source": []
  }
 ],
 "metadata": {
  "kernelspec": {
   "display_name": "Python 3",
   "language": "python",
   "name": "python3"
  },
  "language_info": {
   "codemirror_mode": {
    "name": "ipython",
    "version": 3
   },
   "file_extension": ".py",
   "mimetype": "text/x-python",
   "name": "python",
   "nbconvert_exporter": "python",
   "pygments_lexer": "ipython3",
   "version": "3.7.4"
  }
 },
 "nbformat": 4,
 "nbformat_minor": 2
}
